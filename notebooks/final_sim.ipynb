{
    "cells": [
        {
            "cell_type": "code",
            "execution_count": 1,
            "metadata": {},
            "outputs": [],
            "source": [
                "%load_ext autoreload\n",
                "%autoreload 2"
            ]
        },
        {
            "cell_type": "code",
            "execution_count": 2,
            "metadata": {
                "cell_id": "852d40e15b574f1aa8b7927ef36b627c",
                "deepnote_cell_type": "code",
                "deepnote_to_be_reexecuted": false,
                "execution_millis": 696,
                "execution_start": 1699388432252,
                "source_hash": null
            },
            "outputs": [],
            "source": [
                "import logging\n",
                "import numpy as np\n",
                "from matplotlib import pyplot as plt\n",
                "from pydrake.all import (\n",
                "    RandomGenerator,\n",
                "    Meshcat,\n",
                "    MeshcatParams\n",
                ")\n",
                "\n",
                "\n",
                "import sponana.utils\n",
                "import sponana.sim"
            ]
        },
        {
            "cell_type": "markdown",
            "metadata": {},
            "source": []
        },
        {
            "cell_type": "code",
            "execution_count": 5,
            "metadata": {},
            "outputs": [
                {
                    "name": "stderr",
                    "output_type": "stream",
                    "text": [
                        "INFO:drake:Meshcat listening for connections at http://0.0.0.0:7001\n"
                    ]
                }
            ],
            "source": [
                "# set host to 0.0.0.0 to enable port forwarding on remote server\n",
                "meshcat = Meshcat(MeshcatParams(host=\"0.0.0.0\"))"
            ]
        },
        {
            "cell_type": "code",
            "execution_count": null,
            "metadata": {},
            "outputs": [],
            "source": [
                "import bayes3d\n",
                "\n",
                "# precompile and cache the C++ plugin so we don't have to do that during simulation\n",
                "bayes3d.rendering.nvdiffrast.common.ops._get_plugin(gl=True)"
            ]
        },
        {
            "cell_type": "code",
            "execution_count": 12,
            "metadata": {},
            "outputs": [],
            "source": [
                "# spec1 = sponana.sim.TableSceneSpec(\n",
                "#     has_banana=True,\n",
                "#     banana_contact_params=(-0.17, 0.0, np.pi / 2, 0),\n",
                "#     n_objects=2,\n",
                "#     # Cracker boxes\n",
                "#     object_type_indices=[0, 0],\n",
                "#     object_contact_params=[(0.02, -0.08, 0, 2), (0.1, 0.1, 0, 2)],\n",
                "# )\n",
                "\n",
                "spec0 = sponana.sim.TableSceneSpec(\n",
                "    has_banana=True,\n",
                "    banana_contact_params=(0.1, 0.0, 3 * np.pi / 2, 0),\n",
                "    n_objects=0,\n",
                "    object_type_indices=[],\n",
                "    object_contact_params=[],\n",
                ")\n",
                "spec1 = sponana.sim.TableSceneSpec(\n",
                "    has_banana=False,\n",
                "    banana_contact_params=(0, 0, 0, 0), # doesn't matter\n",
                "    n_objects=2,\n",
                "    object_type_indices=[1, 3], # sugar, mustard\n",
                "    object_contact_params=[(0.02, -0.08, 0, 2), (0.1, 0.1, 0, 2)],\n",
                ")\n",
                "spec2 = sponana.sim.TableSceneSpec(\n",
                "    has_banana=False,\n",
                "    banana_contact_params=(0, 0, 0, 0), # doesn't matter\n",
                "    n_objects=2,\n",
                "    object_type_indices=[4, 1], # gelatin, cracker box\n",
                "    object_contact_params=[(0.02, -0.08, 0, 2), (-0.1, 0.1, 0, 2)],\n",
                ")\n",
                "\n",
                "specs = [spec0, spec1, spec2]\n",
                "# specs = [spec1, sponana.sim.TableSceneSpec(), sponana.sim.TableSceneSpec()]"
            ]
        },
        {
            "cell_type": "code",
            "execution_count": 13,
            "metadata": {
                "cell_id": "e9e13e017cf14d40820fc3d52369b818",
                "deepnote_cell_type": "code",
                "deepnote_to_be_reexecuted": false,
                "execution_millis": 17118,
                "execution_start": 1699388432954,
                "source_hash": null
            },
            "outputs": [
                {
                    "name": "stdout",
                    "output_type": "stream",
                    "text": [
                        "Press Space to log system info\n"
                    ]
                },
                {
                    "name": "stderr",
                    "output_type": "stream",
                    "text": [
                        "==== LCM Warning ===\n",
                        "LCM detected that large packets are being received, but the kernel UDP\n",
                        "receive buffer is very small.  The possibility of dropping packets due to\n",
                        "insufficient buffer space is very high.\n",
                        "\n",
                        "For more information, visit:\n",
                        "   http://lcm-proj.github.io/lcm/multicast_setup.html\n",
                        "\n",
                        "==== LCM Warning ===\n",
                        "LCM detected that large packets are being received, but the kernel UDP\n",
                        "receive buffer is very small.  The possibility of dropping packets due to\n",
                        "insufficient buffer space is very high.\n",
                        "\n",
                        "For more information, visit:\n",
                        "   http://lcm-proj.github.io/lcm/multicast_setup.html\n",
                        "\n",
                        "INFO:sponana.planner.navigator:Generating path from [ 3.    7.   -1.57] to [ 1.          4.         -3.13316598]\n"
                    ]
                },
                {
                    "name": "stdout",
                    "output_type": "stream",
                    "text": [
                        "Press Escape to stop the simulation\n"
                    ]
                },
                {
                    "name": "stderr",
                    "output_type": "stream",
                    "text": [
                        "INFO:sponana.perception.banana_spotter_bayes3d:Currently at table 0.\n",
                        "INFO:sponana.perception.banana_spotter_bayes3d:Got images.\n"
                    ]
                },
                {
                    "data": {
                        "image/png": "[encoded data removed]",
                        "text/plain": [
                            "<Figure size 1000x400 with 2 Axes>"
                        ]
                    },
                    "metadata": {},
                    "output_type": "display_data"
                },
                {
                    "name": "stderr",
                    "output_type": "stream",
                    "text": [
                        "DEBUG:sponana.perception.banana_spotter_bayes3d:Displayed images.\n",
                        "INFO:sponana.perception.banana_spotter_bayes3d:Bayes3D init on table 0\n",
                        "DEBUG:sponana.perception.bayes3d.bayes3d_interface:In bayes3d_init.\n",
                        "DEBUG:sponana.perception.bayes3d.bayes3d_interface:Got table pose.\n",
                        "DEBUG:sponana.perception.bayes3d.bayes3d_interface:Got RGBD. scaling_factor=0.1.  table_pose_in_cam_frame=[[ 1.0949973e-02  9.9994004e-01 -2.2444505e-12 -1.8258858e-01]\n",
                        " [ 4.9997002e-01 -5.4749865e-03 -8.6602539e-01 -2.5950208e-02]\n",
                        " [-8.6597347e-01  9.4829546e-03 -5.0000000e-01  6.2144715e-01]\n",
                        " [ 0.0000000e+00  0.0000000e+00  0.0000000e+00  1.0000000e+00]]\n",
                        "DEBUG:sponana.perception.bayes3d._bayes3d:rgbd scaled down\n",
                        "DEBUG:sponana.perception.bayes3d._bayes3d:rgbd.scaeld_down intrinsics: Intrinsics(height=48, width=64, fx=57.941125496954285, fy=57.941125496954285, cx=31.950000000000003, cy=23.950000000000003, near=0.001, far=10000.0)\n",
                        "[E rasterize_gl.cpp:121] OpenGL version reported as 4.6\n"
                    ]
                },
                {
                    "name": "stdout",
                    "output_type": "stream",
                    "text": [
                        "Increasing frame buffer size to (width, height, depth) = (64, 64, 1024)\n"
                    ]
                },
                {
                    "name": "stderr",
                    "output_type": "stream",
                    "text": [
                        "DEBUG:sponana.perception.bayes3d._bayes3d:setup renderer\n",
                        "DEBUG:sponana.perception.bayes3d._bayes3d:setup clouds\n",
                        "DEBUG:sponana.perception.bayes3d._bayes3d:getting inliers\n",
                        "DEBUG:sponana.perception.bayes3d._bayes3d:updating table pose\n",
                        "DEBUG:sponana.perception.bayes3d._bayes3d:about to unproject depth\n",
                        "DEBUG:sponana.perception.bayes3d._bayes3d:depth unprojected\n",
                        "DEBUG:sponana.perception.bayes3d.bayes3d_interface:Scaled successfully.\n",
                        "DEBUG:sponana.perception.bayes3d.bayes3d_interface:table dims = [0.49  0.63  0.015]\n",
                        "DEBUG:sponana.perception.bayes3d.bayes3d_interface:Setup renderer.\n",
                        "DEBUG:sponana.perception.bayes3d.bayes3d_interface:Setup meshcat.\n",
                        "DEBUG:sponana.perception.bayes3d.bayes3d_interface:Setup grid params.\n",
                        "DEBUG:sponana.perception.bayes3d.bayes3d_interface:No init inference needed.\n",
                        "DEBUG:sponana.perception.bayes3d.bayes3d_interface:Meshcat display done.\n"
                    ]
                },
                {
                    "name": "stdout",
                    "output_type": "stream",
                    "text": [
                        "You can open the visualizer by visiting the following URL:\n",
                        "http://127.0.0.1:7000/static/\n",
                        "Fitting object 0...\n"
                    ]
                },
                {
                    "name": "stderr",
                    "output_type": "stream",
                    "text": [
                        "INFO:root:Score with target object: 17.431640625\n",
                        "DEBUG:sponana.perception.bayes3d.bayes3d_interface:Attempted to fit target.\n",
                        "DEBUG:sponana.perception.bayes3d.bayes3d_interface:--> + showed meshcat\n",
                        "INFO:root:Target category banana found in scene.\n",
                        "DEBUG:sponana.perception.bayes3d.bayes3d_interface:Conducted conversions.\n"
                    ]
                },
                {
                    "ename": "ValueError",
                    "evalue": "too many values to unpack (expected 2)",
                    "output_type": "error",
                    "traceback": [
                        "\u001b[0;31m---------------------------------------------------------------------------\u001b[0m",
                        "\u001b[0;31mValueError\u001b[0m                                Traceback (most recent call last)",
                        "\u001b[1;32m/home/xiaoyan/projects/sponana/notebooks/final_sim.ipynb Cell 7\u001b[0m line \u001b[0;36m2\n\u001b[1;32m     <a href='vscode-notebook-cell://ssh-remote%2Bv100.us-central1-a.probcomp-xiaoyan/home/xiaoyan/projects/sponana/notebooks/final_sim.ipynb#W6sdnNjb2RlLXJlbW90ZQ%3D%3D?line=16'>17</a>\u001b[0m use_teleop \u001b[39m=\u001b[39m \u001b[39mFalse\u001b[39;00m\n\u001b[1;32m     <a href='vscode-notebook-cell://ssh-remote%2Bv100.us-central1-a.probcomp-xiaoyan/home/xiaoyan/projects/sponana/notebooks/final_sim.ipynb#W6sdnNjb2RlLXJlbW90ZQ%3D%3D?line=17'>18</a>\u001b[0m plot_camera_input \u001b[39m=\u001b[39m \u001b[39mTrue\u001b[39;00m\n\u001b[0;32m---> <a href='vscode-notebook-cell://ssh-remote%2Bv100.us-central1-a.probcomp-xiaoyan/home/xiaoyan/projects/sponana/notebooks/final_sim.ipynb#W6sdnNjb2RlLXJlbW90ZQ%3D%3D?line=19'>20</a>\u001b[0m simulator, diagram \u001b[39m=\u001b[39m sponana\u001b[39m.\u001b[39;49msim\u001b[39m.\u001b[39;49mcreate_and_run_simulation(\n\u001b[1;32m     <a href='vscode-notebook-cell://ssh-remote%2Bv100.us-central1-a.probcomp-xiaoyan/home/xiaoyan/projects/sponana/notebooks/final_sim.ipynb#W6sdnNjb2RlLXJlbW90ZQ%3D%3D?line=20'>21</a>\u001b[0m     meshcat,\n\u001b[1;32m     <a href='vscode-notebook-cell://ssh-remote%2Bv100.us-central1-a.probcomp-xiaoyan/home/xiaoyan/projects/sponana/notebooks/final_sim.ipynb#W6sdnNjb2RlLXJlbW90ZQ%3D%3D?line=21'>22</a>\u001b[0m     rng,\n\u001b[1;32m     <a href='vscode-notebook-cell://ssh-remote%2Bv100.us-central1-a.probcomp-xiaoyan/home/xiaoyan/projects/sponana/notebooks/final_sim.ipynb#W6sdnNjb2RlLXJlbW90ZQ%3D%3D?line=22'>23</a>\u001b[0m     add_debug_logger\u001b[39m=\u001b[39;49madd_debug_logger,\n\u001b[1;32m     <a href='vscode-notebook-cell://ssh-remote%2Bv100.us-central1-a.probcomp-xiaoyan/home/xiaoyan/projects/sponana/notebooks/final_sim.ipynb#W6sdnNjb2RlLXJlbW90ZQ%3D%3D?line=23'>24</a>\u001b[0m     simulation_time\u001b[39m=\u001b[39;49msimulation_time,\n\u001b[1;32m     <a href='vscode-notebook-cell://ssh-remote%2Bv100.us-central1-a.probcomp-xiaoyan/home/xiaoyan/projects/sponana/notebooks/final_sim.ipynb#W6sdnNjb2RlLXJlbW90ZQ%3D%3D?line=24'>25</a>\u001b[0m     add_fixed_cameras\u001b[39m=\u001b[39;49madd_fixed_cameras,\n\u001b[1;32m     <a href='vscode-notebook-cell://ssh-remote%2Bv100.us-central1-a.probcomp-xiaoyan/home/xiaoyan/projects/sponana/notebooks/final_sim.ipynb#W6sdnNjb2RlLXJlbW90ZQ%3D%3D?line=25'>26</a>\u001b[0m     use_teleop\u001b[39m=\u001b[39;49muse_teleop,\n\u001b[1;32m     <a href='vscode-notebook-cell://ssh-remote%2Bv100.us-central1-a.probcomp-xiaoyan/home/xiaoyan/projects/sponana/notebooks/final_sim.ipynb#W6sdnNjb2RlLXJlbW90ZQ%3D%3D?line=26'>27</a>\u001b[0m     plot_camera_input\u001b[39m=\u001b[39;49mplot_camera_input,\n\u001b[1;32m     <a href='vscode-notebook-cell://ssh-remote%2Bv100.us-central1-a.probcomp-xiaoyan/home/xiaoyan/projects/sponana/notebooks/final_sim.ipynb#W6sdnNjb2RlLXJlbW90ZQ%3D%3D?line=27'>28</a>\u001b[0m     table_specs\u001b[39m=\u001b[39;49mspecs\n\u001b[1;32m     <a href='vscode-notebook-cell://ssh-remote%2Bv100.us-central1-a.probcomp-xiaoyan/home/xiaoyan/projects/sponana/notebooks/final_sim.ipynb#W6sdnNjb2RlLXJlbW90ZQ%3D%3D?line=28'>29</a>\u001b[0m )\n",
                        "File \u001b[0;32m~/projects/sponana/src/sponana/sim.py:353\u001b[0m, in \u001b[0;36mcreate_and_run_simulation\u001b[0;34m(meshcat, rng, add_debug_logger, simulation_time, add_fixed_cameras, table_specs, use_teleop, starting_position, plot_camera_input)\u001b[0m\n\u001b[1;32m    344\u001b[0m plant\u001b[39m.\u001b[39mSetFreeBodyPose(\n\u001b[1;32m    345\u001b[0m     plant_context,\n\u001b[1;32m    346\u001b[0m     plant\u001b[39m.\u001b[39mget_body(\n\u001b[0;32m   (...)\u001b[0m\n\u001b[1;32m    349\u001b[0m     banana_pose,\n\u001b[1;32m    350\u001b[0m )\n\u001b[1;32m    352\u001b[0m \u001b[39m# Run the simulation\u001b[39;00m\n\u001b[0;32m--> 353\u001b[0m sponana\u001b[39m.\u001b[39;49mutils\u001b[39m.\u001b[39;49mrun_simulation(simulator, meshcat, finish_time\u001b[39m=\u001b[39;49msimulation_time)\n\u001b[1;32m    354\u001b[0m \u001b[39mreturn\u001b[39;00m simulator, diagram\n",
                        "File \u001b[0;32m~/projects/sponana/src/sponana/utils.py:66\u001b[0m, in \u001b[0;36mrun_simulation\u001b[0;34m(simulator, meshcat, finish_time)\u001b[0m\n\u001b[1;32m     64\u001b[0m     \u001b[39mprint\u001b[39m(\u001b[39m\"\u001b[39m\u001b[39mPress Escape to stop the simulation\u001b[39m\u001b[39m\"\u001b[39m)\n\u001b[1;32m     65\u001b[0m     \u001b[39mwhile\u001b[39;00m meshcat\u001b[39m.\u001b[39mGetButtonClicks(\u001b[39m\"\u001b[39m\u001b[39mStop Simulation\u001b[39m\u001b[39m\"\u001b[39m) \u001b[39m<\u001b[39m \u001b[39m1\u001b[39m:\n\u001b[0;32m---> 66\u001b[0m         simulator\u001b[39m.\u001b[39;49mAdvanceTo(simulator\u001b[39m.\u001b[39;49mget_context()\u001b[39m.\u001b[39;49mget_time() \u001b[39m+\u001b[39;49m \u001b[39m0.1\u001b[39;49m)\n\u001b[1;32m     67\u001b[0m     meshcat\u001b[39m.\u001b[39mDeleteButton(\u001b[39m\"\u001b[39m\u001b[39mStop Simulation\u001b[39m\u001b[39m\"\u001b[39m)\n\u001b[1;32m     68\u001b[0m \u001b[39melse\u001b[39;00m:\n\u001b[1;32m     69\u001b[0m     \u001b[39m# run similator for a fixed duration and publish recording\u001b[39;00m\n",
                        "File \u001b[0;32m~/projects/sponana/src/sponana/perception/banana_spotter_bayes3d.py:257\u001b[0m, in \u001b[0;36mBananaSpotterBayes3D._try_find_banana\u001b[0;34m(self, context, state)\u001b[0m\n\u001b[1;32m    250\u001b[0m     logger\u001b[39m.\u001b[39minfo(\u001b[39mf\u001b[39m\u001b[39m\"\u001b[39m\u001b[39mBayes3D update on table \u001b[39m\u001b[39m{\u001b[39;00mcurrent_table_idx\u001b[39m}\u001b[39;00m\u001b[39m\"\u001b[39m)\n\u001b[1;32m    251\u001b[0m     (known_poses, possible_poses) \u001b[39m=\u001b[39m b3d\u001b[39m.\u001b[39mb3d_update(\n\u001b[1;32m    252\u001b[0m         bs\u001b[39m.\u001b[39mknown_poses, bs\u001b[39m.\u001b[39mpossible_poses, camera_image, table_pose_world_frame, \u001b[39m'\u001b[39m\u001b[39mbanana\u001b[39m\u001b[39m'\u001b[39m,\n\u001b[1;32m    253\u001b[0m         scaling_factor\u001b[39m=\u001b[39m\u001b[39m0.1\u001b[39m,\n\u001b[1;32m    254\u001b[0m         external_pose_to_b3d_pose\u001b[39m=\u001b[39mexternal_pose_to_b3d_pose,\n\u001b[1;32m    255\u001b[0m         b3d_pose_to_external_pose\u001b[39m=\u001b[39mb3d_pose_to_external_pose\n\u001b[1;32m    256\u001b[0m     )\n\u001b[0;32m--> 257\u001b[0m logger\u001b[39m.\u001b[39minfo(\u001b[39mf\u001b[39m\u001b[39m\"\u001b[39m\u001b[39m--> known pose types: \u001b[39m\u001b[39m{\u001b[39;00m[c\u001b[39m \u001b[39m\u001b[39mfor\u001b[39;00m\u001b[39m \u001b[39m(c,\u001b[39m \u001b[39m_)\u001b[39m \u001b[39m\u001b[39min\u001b[39;00m\u001b[39m \u001b[39mknown_poses]\u001b[39m}\u001b[39;00m\u001b[39m | + \u001b[39m\u001b[39m{\u001b[39;00m\u001b[39mlen\u001b[39m(possible_poses)\u001b[39m}\u001b[39;00m\u001b[39m possible banana poses\u001b[39m\u001b[39m\"\u001b[39m)\n\u001b[1;32m    259\u001b[0m new_bs \u001b[39m=\u001b[39m TableBeliefState(known_poses, possible_poses)\n\u001b[1;32m    261\u001b[0m new_belief_states \u001b[39m=\u001b[39m [\n\u001b[1;32m    262\u001b[0m     old_bs \u001b[39mif\u001b[39;00m i \u001b[39m!=\u001b[39m current_table_idx \u001b[39melse\u001b[39;00m new_bs\n\u001b[1;32m    263\u001b[0m     \u001b[39mfor\u001b[39;00m (i, old_bs) \u001b[39min\u001b[39;00m \u001b[39menumerate\u001b[39m(table_belief_states)\n\u001b[1;32m    264\u001b[0m ]\n",
                        "File \u001b[0;32m~/projects/sponana/src/sponana/perception/banana_spotter_bayes3d.py:257\u001b[0m, in \u001b[0;36m<listcomp>\u001b[0;34m(.0)\u001b[0m\n\u001b[1;32m    250\u001b[0m     logger\u001b[39m.\u001b[39minfo(\u001b[39mf\u001b[39m\u001b[39m\"\u001b[39m\u001b[39mBayes3D update on table \u001b[39m\u001b[39m{\u001b[39;00mcurrent_table_idx\u001b[39m}\u001b[39;00m\u001b[39m\"\u001b[39m)\n\u001b[1;32m    251\u001b[0m     (known_poses, possible_poses) \u001b[39m=\u001b[39m b3d\u001b[39m.\u001b[39mb3d_update(\n\u001b[1;32m    252\u001b[0m         bs\u001b[39m.\u001b[39mknown_poses, bs\u001b[39m.\u001b[39mpossible_poses, camera_image, table_pose_world_frame, \u001b[39m'\u001b[39m\u001b[39mbanana\u001b[39m\u001b[39m'\u001b[39m,\n\u001b[1;32m    253\u001b[0m         scaling_factor\u001b[39m=\u001b[39m\u001b[39m0.1\u001b[39m,\n\u001b[1;32m    254\u001b[0m         external_pose_to_b3d_pose\u001b[39m=\u001b[39mexternal_pose_to_b3d_pose,\n\u001b[1;32m    255\u001b[0m         b3d_pose_to_external_pose\u001b[39m=\u001b[39mb3d_pose_to_external_pose\n\u001b[1;32m    256\u001b[0m     )\n\u001b[0;32m--> 257\u001b[0m logger\u001b[39m.\u001b[39minfo(\u001b[39mf\u001b[39m\u001b[39m\"\u001b[39m\u001b[39m--> known pose types: \u001b[39m\u001b[39m{\u001b[39;00m[c\u001b[39m \u001b[39m\u001b[39mfor\u001b[39;00m\u001b[39m \u001b[39m(c,\u001b[39m \u001b[39m_)\u001b[39m \u001b[39m\u001b[39min\u001b[39;00m\u001b[39m \u001b[39mknown_poses]\u001b[39m}\u001b[39;00m\u001b[39m | + \u001b[39m\u001b[39m{\u001b[39;00m\u001b[39mlen\u001b[39m(possible_poses)\u001b[39m}\u001b[39;00m\u001b[39m possible banana poses\u001b[39m\u001b[39m\"\u001b[39m)\n\u001b[1;32m    259\u001b[0m new_bs \u001b[39m=\u001b[39m TableBeliefState(known_poses, possible_poses)\n\u001b[1;32m    261\u001b[0m new_belief_states \u001b[39m=\u001b[39m [\n\u001b[1;32m    262\u001b[0m     old_bs \u001b[39mif\u001b[39;00m i \u001b[39m!=\u001b[39m current_table_idx \u001b[39melse\u001b[39;00m new_bs\n\u001b[1;32m    263\u001b[0m     \u001b[39mfor\u001b[39;00m (i, old_bs) \u001b[39min\u001b[39;00m \u001b[39menumerate\u001b[39m(table_belief_states)\n\u001b[1;32m    264\u001b[0m ]\n",
                        "\u001b[0;31mValueError\u001b[0m: too many values to unpack (expected 2)"
                    ]
                }
            ],
            "source": [
                "rng = np.random.default_rng(145)  # this is for python\n",
                "generator = RandomGenerator(rng.integers(0, 1000))  # this is for c++\n",
                "\n",
                "logging.root.setLevel(logging.INFO)\n",
                "# logging.root.setLevel(logging.DEBUG)  # Uncomment to enable debug logging.\n",
                "\n",
                "fsm_logger = logging.getLogger(\"sponana.fsm\")\n",
                "fsm_logger.setLevel(logging.INFO)\n",
                "\n",
                "bs_logger = logging.getLogger(\"sponana.perception\")\n",
                "bs_logger.setLevel(logging.DEBUG)\n",
                "\n",
                "simulation_time = -1\n",
                "# simulation_time = 1\n",
                "add_debug_logger = True\n",
                "add_fixed_cameras = False\n",
                "use_teleop = False\n",
                "plot_camera_input = True\n",
                "\n",
                "simulator, diagram = sponana.sim.create_and_run_simulation(\n",
                "    meshcat,\n",
                "    rng,\n",
                "    add_debug_logger=add_debug_logger,\n",
                "    simulation_time=simulation_time,\n",
                "    add_fixed_cameras=add_fixed_cameras,\n",
                "    use_teleop=use_teleop,\n",
                "    plot_camera_input=plot_camera_input,\n",
                "    table_specs=specs\n",
                ")"
            ]
        },
        {
            "cell_type": "code",
            "execution_count": null,
            "metadata": {},
            "outputs": [],
            "source": [
                "# Check the camera on Spot\n",
                "context = simulator.get_mutable_context()\n",
                "station = diagram.GetSubsystemByName(\"station\")\n",
                "context = station.GetMyContextFromRoot(context)\n",
                "color_image = station.GetOutputPort(\"spot_camera.rgb_image\").Eval(context)\n",
                "depth_image = station.GetOutputPort(\"spot_camera.depth_image\").Eval(context)\n",
                "plt.figure(figsize=(10, 4))\n",
                "plt.subplot(1, 2, 1)\n",
                "plt.imshow(color_image.data)\n",
                "plt.subplot(1, 2, 2)\n",
                "plt.imshow(depth_image.data)"
            ]
        },
        {
            "cell_type": "code",
            "execution_count": null,
            "metadata": {},
            "outputs": [],
            "source": []
        },
        {
            "cell_type": "code",
            "execution_count": null,
            "metadata": {},
            "outputs": [],
            "source": [
                "# camera intrinsics\n",
                "camera1 = station.GetSubsystemByName(\"rgbd_sensor_spot_camera\")\n",
                "camera_info = camera1.depth_camera_info()\n",
                "print(\"intrinsics\", camera_info.intrinsic_matrix())\n",
                "print(\"focal length\", camera_info.focal_x(), camera_info.focal_y())\n",
                "print(\"field of view\", camera_info.fov_x(), camera_info.fov_y())"
            ]
        },
        {
            "cell_type": "code",
            "execution_count": null,
            "metadata": {},
            "outputs": [],
            "source": [
                "sponana.utils.visualize_diagram(diagram, max_depth=1)"
            ]
        },
        {
            "cell_type": "code",
            "execution_count": null,
            "metadata": {},
            "outputs": [],
            "source": [
                "from sponana.hardcoded_cameras import get_base_positions_for_hardcoded_cameras\n",
                "\n",
                "get_base_positions_for_hardcoded_cameras()"
            ]
        },
        {
            "cell_type": "code",
            "execution_count": null,
            "metadata": {},
            "outputs": [],
            "source": [
                "get_base_positions_for_hardcoded_cameras().shape"
            ]
        },
        {
            "cell_type": "code",
            "execution_count": null,
            "metadata": {},
            "outputs": [],
            "source": []
        }
    ],
    "metadata": {
        "deepnote": {},
        "deepnote_execution_queue": [],
        "deepnote_notebook_id": "134d3cb183ce4f78a8c866345c1aa312",
        "kernelspec": {
            "display_name": "sponana",
            "language": "python",
            "name": "python3"
        },
        "language_info": {
            "codemirror_mode": {
                "name": "ipython",
                "version": 3
            },
            "file_extension": ".py",
            "mimetype": "text/x-python",
            "name": "python",
            "nbconvert_exporter": "python",
            "pygments_lexer": "ipython3",
            "version": "3.10.13"
        },
        "orig_nbformat": 2
    },
    "nbformat": 4,
    "nbformat_minor": 0
}
