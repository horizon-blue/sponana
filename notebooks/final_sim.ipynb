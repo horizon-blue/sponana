{
    "cells": [
        {
            "cell_type": "code",
            "execution_count": 1,
            "metadata": {},
            "outputs": [],
            "source": [
                "%load_ext autoreload\n",
                "%autoreload 2"
            ]
        },
        {
            "cell_type": "code",
            "execution_count": 2,
            "metadata": {
                "cell_id": "852d40e15b574f1aa8b7927ef36b627c",
                "deepnote_cell_type": "code",
                "deepnote_to_be_reexecuted": false,
                "execution_millis": 696,
                "execution_start": 1699388432252,
                "source_hash": null
            },
            "outputs": [],
            "source": [
                "import logging\n",
                "import numpy as np\n",
                "from matplotlib import pyplot as plt\n",
                "from pydrake.all import (\n",
                "    RandomGenerator,\n",
                "    StartMeshcat,\n",
                ")\n",
                "\n",
                "\n",
                "import sponana.utils\n",
                "import sponana.sim"
            ]
        },
        {
            "cell_type": "markdown",
            "metadata": {},
            "source": []
        },
        {
            "cell_type": "code",
            "execution_count": 3,
            "metadata": {},
            "outputs": [
                {
                    "name": "stderr",
                    "output_type": "stream",
                    "text": [
                        "INFO:drake:Meshcat listening for connections at http://localhost:7000\n"
                    ]
                }
            ],
            "source": [
                "meshcat = StartMeshcat()"
            ]
        },
        {
            "cell_type": "code",
            "execution_count": 4,
            "metadata": {},
            "outputs": [
                {
                    "name": "stderr",
                    "output_type": "stream",
                    "text": [
                        "INFO:drake:Meshcat listening for connections at http://localhost:7001\n"
                    ]
                }
            ],
            "source": [
                "meshcat = StartMeshcat()"
            ]
        },
        {
            "cell_type": "code",
            "execution_count": 5,
            "metadata": {},
            "outputs": [],
            "source": [
                "# spec1 = sponana.sim.TableSceneSpec(\n",
                "#     has_banana=True,\n",
                "#     banana_contact_params=(-0.17, 0.0, np.pi / 2, 0),\n",
                "#     n_objects=2,\n",
                "#     # Cracker boxes\n",
                "#     object_type_indices=[0, 0],\n",
                "#     object_contact_params=[(0.02, -0.08, 0, 2), (0.1, 0.1, 0, 2)],\n",
                "# )\n",
                "\n",
                "spec0 = sponana.sim.TableSceneSpec(\n",
                "    has_banana=True,\n",
                "    banana_contact_params=(0.1, 0.0, 3 * np.pi / 2, 0),\n",
                "    n_objects=0,\n",
                "    object_type_indices=[],\n",
                "    object_contact_params=[],\n",
                ")\n",
                "spec1 = sponana.sim.TableSceneSpec(\n",
                "    has_banana=False,\n",
                "    banana_contact_params=(0, 0, 0, 0), # doesn't matter\n",
                "    n_objects=2,\n",
                "    object_type_indices=[1, 3], # sugar, mustard\n",
                "    object_contact_params=[(0.02, -0.08, 0, 2), (0.1, 0.1, 0, 2)],\n",
                ")\n",
                "spec2 = sponana.sim.TableSceneSpec(\n",
                "    has_banana=False,\n",
                "    banana_contact_params=(0, 0, 0, 0), # doesn't matter\n",
                "    n_objects=2,\n",
                "    object_type_indices=[4, 1], # gelatin, cracker box\n",
                "    object_contact_params=[(0.02, -0.08, 0, 2), (-0.1, 0.1, 0, 2)],\n",
                ")\n",
                "\n",
                "specs = [spec0, spec1, spec2]\n",
                "# specs = [spec1, sponana.sim.TableSceneSpec(), sponana.sim.TableSceneSpec()]"
            ]
        },
        {
            "cell_type": "code",
            "execution_count": 6,
            "metadata": {
                "cell_id": "e9e13e017cf14d40820fc3d52369b818",
                "deepnote_cell_type": "code",
                "deepnote_to_be_reexecuted": false,
                "execution_millis": 17118,
                "execution_start": 1699388432954,
                "source_hash": null
            },
            "outputs": [
                {
                    "name": "stdout",
                    "output_type": "stream",
                    "text": [
                        "Press Space to log system info\n",
                        "Press Escape to stop the simulation\n"
                    ]
                },
                {
                    "name": "stderr",
                    "output_type": "stream",
                    "text": [
                        "==== LCM Warning ===\n",
                        "LCM detected that large packets are being received, but the kernel UDP\n",
                        "receive buffer is very small.  The possibility of dropping packets due to\n",
                        "insufficient buffer space is very high.\n",
                        "\n",
                        "For more information, visit:\n",
                        "   http://lcm-proj.github.io/lcm/multicast_setup.html\n",
                        "\n",
                        "==== LCM Warning ===\n",
                        "LCM detected that large packets are being received, but the kernel UDP\n",
                        "receive buffer is very small.  The possibility of dropping packets due to\n",
                        "insufficient buffer space is very high.\n",
                        "\n",
                        "For more information, visit:\n",
                        "   http://lcm-proj.github.io/lcm/multicast_setup.html\n",
                        "\n",
                        "INFO:sponana.planner.navigator:Generating path from [ 3.    7.   -1.57] to [ 1.          4.         -3.13316598]\n",
                        "INFO:sponana.perception.banana_spotter_bayes3d:Currently at table 0.\n",
                        "INFO:sponana.perception.banana_spotter_bayes3d:Got images.\n"
                    ]
                },
                {
                    "data": {
                        "image/png": "[encoded data removed]",
                        "text/plain": [
                            "<Figure size 1000x400 with 2 Axes>"
                        ]
                    },
                    "metadata": {},
                    "output_type": "display_data"
                },
                {
                    "name": "stderr",
                    "output_type": "stream",
                    "text": [
                        "DEBUG:sponana.perception.banana_spotter_bayes3d:Displayed images.\n",
                        "INFO:sponana.perception.banana_spotter_bayes3d:Bayes3D init on table 0\n",
                        "DEBUG:sponana.perception.bayes3d.bayes3d_interface:In bayes3d_init.\n",
                        "DEBUG:sponana.perception.bayes3d.bayes3d_interface:Got table pose.\n",
                        "DEBUG:sponana.perception.bayes3d.bayes3d_interface:Got RGBD. scaling_factor=0.2.  table_pose_in_cam_frame=[[ 3.9399549e-02  9.9922359e-01 -4.1012065e-11 -1.4751387e-01]\n",
                        " [ 4.9961177e-01 -1.9699775e-02 -8.6602539e-01 -8.6539760e-02]\n",
                        " [-8.6535299e-01  3.4121010e-02 -5.0000000e-01  7.2639126e-01]\n",
                        " [ 0.0000000e+00  0.0000000e+00  0.0000000e+00  1.0000000e+00]]\n",
                        "DEBUG:sponana.perception.bayes3d._bayes3d:rgbd scaled down\n",
                        "DEBUG:sponana.perception.bayes3d._bayes3d:rgbd.scaeld_down intrinsics: Intrinsics(height=96, width=128, fx=115.88225099390857, fy=115.88225099390857, cx=63.900000000000006, cy=47.900000000000006, near=0.001, far=10000.0)\n"
                    ]
                },
                {
                    "name": "stdout",
                    "output_type": "stream",
                    "text": [
                        "PRE PROJ MATRIX\n",
                        "POST PROJ MATRIX\n"
                    ]
                },
                {
                    "ename": "",
                    "evalue": "",
                    "output_type": "error",
                    "traceback": [
                        "\u001b[1;31mThe Kernel crashed while executing code in the the current cell or a previous cell. Please review the code in the cell(s) to identify a possible cause of the failure. Click <a href='https://aka.ms/vscodeJupyterKernelCrash'>here</a> for more info. View Jupyter <a href='command:jupyter.viewOutput'>log</a> for further details."
                    ]
                }
            ],
            "source": [
                "rng = np.random.default_rng(145)  # this is for python\n",
                "generator = RandomGenerator(rng.integers(0, 1000))  # this is for c++\n",
                "\n",
                "logging.root.setLevel(logging.INFO)\n",
                "# logging.root.setLevel(logging.DEBUG)  # Uncomment to enable debug logging.\n",
                "\n",
                "fsm_logger = logging.getLogger(\"sponana.fsm\")\n",
                "fsm_logger.setLevel(logging.INFO)\n",
                "\n",
                "bs_logger = logging.getLogger(\"sponana.perception\")\n",
                "bs_logger.setLevel(logging.DEBUG)\n",
                "\n",
                "simulation_time = -1\n",
                "# simulation_time = 1\n",
                "add_debug_logger = True\n",
                "add_fixed_cameras = False\n",
                "use_teleop = False\n",
                "plot_camera_input = True\n",
                "\n",
                "simulator, diagram = sponana.sim.create_and_run_simulation(\n",
                "    meshcat,\n",
                "    rng,\n",
                "    add_debug_logger=add_debug_logger,\n",
                "    simulation_time=simulation_time,\n",
                "    add_fixed_cameras=add_fixed_cameras,\n",
                "    use_teleop=use_teleop,\n",
                "    plot_camera_input=plot_camera_input,\n",
                "    table_specs=specs\n",
                ")"
            ]
        },
        {
            "cell_type": "code",
            "execution_count": null,
            "metadata": {},
            "outputs": [],
            "source": [
                "# Check the camera on Spot\n",
                "context = simulator.get_mutable_context()\n",
                "station = diagram.GetSubsystemByName(\"station\")\n",
                "context = station.GetMyContextFromRoot(context)\n",
                "color_image = station.GetOutputPort(\"spot_camera.rgb_image\").Eval(context)\n",
                "depth_image = station.GetOutputPort(\"spot_camera.depth_image\").Eval(context)\n",
                "plt.figure(figsize=(10, 4))\n",
                "plt.subplot(1, 2, 1)\n",
                "plt.imshow(color_image.data)\n",
                "plt.subplot(1, 2, 2)\n",
                "plt.imshow(depth_image.data)"
            ]
        },
        {
            "cell_type": "code",
            "execution_count": null,
            "metadata": {},
            "outputs": [],
            "source": []
        },
        {
            "cell_type": "code",
            "execution_count": null,
            "metadata": {},
            "outputs": [],
            "source": [
                "# camera intrinsics\n",
                "camera1 = station.GetSubsystemByName(\"rgbd_sensor_spot_camera\")\n",
                "camera_info = camera1.depth_camera_info()\n",
                "print(\"intrinsics\", camera_info.intrinsic_matrix())\n",
                "print(\"focal length\", camera_info.focal_x(), camera_info.focal_y())\n",
                "print(\"field of view\", camera_info.fov_x(), camera_info.fov_y())"
            ]
        },
        {
            "cell_type": "code",
            "execution_count": null,
            "metadata": {},
            "outputs": [],
            "source": [
                "sponana.utils.visualize_diagram(diagram, max_depth=1)"
            ]
        },
        {
            "cell_type": "code",
            "execution_count": null,
            "metadata": {},
            "outputs": [],
            "source": [
                "from sponana.hardcoded_cameras import get_base_positions_for_hardcoded_cameras\n",
                "\n",
                "get_base_positions_for_hardcoded_cameras()"
            ]
        },
        {
            "cell_type": "code",
            "execution_count": null,
            "metadata": {},
            "outputs": [],
            "source": [
                "get_base_positions_for_hardcoded_cameras().shape"
            ]
        },
        {
            "cell_type": "code",
            "execution_count": null,
            "metadata": {},
            "outputs": [],
            "source": []
        }
    ],
    "metadata": {
        "deepnote": {},
        "deepnote_execution_queue": [],
        "deepnote_notebook_id": "134d3cb183ce4f78a8c866345c1aa312",
        "kernelspec": {
            "display_name": "sponana",
            "language": "python",
            "name": "python3"
        },
        "language_info": {
            "codemirror_mode": {
                "name": "ipython",
                "version": 3
            },
            "file_extension": ".py",
            "mimetype": "text/x-python",
            "name": "python",
            "nbconvert_exporter": "python",
            "pygments_lexer": "ipython3",
            "version": "3.9.18"
        },
        "orig_nbformat": 2
    },
    "nbformat": 4,
    "nbformat_minor": 0
}
