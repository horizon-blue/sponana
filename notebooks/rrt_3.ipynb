{
 "cells": [
  {
   "cell_type": "code",
   "execution_count": 1,
   "metadata": {},
   "outputs": [],
   "source": [
    "import numpy as np\n",
    "from pydrake.all import (\n",
    "    RigidTransform,\n",
    "    RotationMatrix,\n",
    "    StartMeshcat,\n",
    "    RandomGenerator,\n",
    ")\n",
    "import numpy as np\n",
    "\n",
    "import sponana.utils\n",
    "from sponana.planner.rrt import SpotProblem, rrt_planning\n",
    "import sponana.sim"
   ]
  },
  {
   "cell_type": "code",
   "execution_count": 2,
   "metadata": {},
   "outputs": [
    {
     "name": "stderr",
     "output_type": "stream",
     "text": [
      "INFO:drake:Meshcat listening for connections at http://localhost:7001\n"
     ]
    }
   ],
   "source": [
    "# Start the visualizer.\n",
    "meshcat = StartMeshcat()"
   ]
  },
  {
   "cell_type": "code",
   "execution_count": null,
   "metadata": {},
   "outputs": [],
   "source": [
    "# Clean up the Meshcat instance.\n",
    "meshcat.Delete()\n",
    "meshcat.DeleteAddedControls()\n",
    "rng = np.random.default_rng(145)  # this is for python\n",
    "generator = RandomGenerator(rng.integers(0, 1000))  # this is for c++\n",
    "\n",
    "add_spot = True\n",
    "# simulation_time = -1  # run indefinitely until ESC is pressed\n",
    "simulation_time = -1\n",
    "debug = True\n",
    "add_fixed_cameras = False\n",
    "enable_arm_ik = True  # turn this off if you find the arm too annoying\n",
    "use_teleop = False\n",
    "\n",
    "simulator, diagram = sponana.sim.clutter_gen(\n",
    "    meshcat,\n",
    "    rng,\n",
    "    debug=debug,\n",
    "    simulation_time=simulation_time,\n",
    "    add_spot=add_spot,\n",
    "    add_fixed_cameras=add_fixed_cameras,\n",
    "    enable_arm_ik=enable_arm_ik,\n",
    "    use_teleop=use_teleop,\n",
    ")"
   ]
  },
  {
   "cell_type": "code",
   "execution_count": 4,
   "metadata": {},
   "outputs": [],
   "source": [
    "context = simulator.get_mutable_context()\n",
    "station = diagram.GetSubsystemByName(\"station\")\n",
    "# context = station.GetMyContextFromRoot(context)\n",
    "scene_graph = station.GetSubsystemByName(\"scene_graph\")\n",
    "plant = station.GetSubsystemByName(\"plant\")"
   ]
  },
  {
   "cell_type": "code",
   "execution_count": 6,
   "metadata": {},
   "outputs": [],
   "source": [
    "def check_collision_pair_name(pair_name0, pair_name1):\n",
    "    pair0_is_spot = pair_name0.startswith(\"spot\")\n",
    "    pair1_is_spot = pair_name1.startswith(\"spot\")\n",
    "    return pair0_is_spot != pair1_is_spot"
   ]
  },
  {
   "cell_type": "code",
   "execution_count": 7,
   "metadata": {},
   "outputs": [],
   "source": [
    "def in_collision(plant, scene_graph, context, print_collisions=True):\n",
    "    plant_context = plant.GetMyContextFromRoot(context)\n",
    "    sg_context = scene_graph.GetMyContextFromRoot(context)\n",
    "    query_object = plant.get_geometry_query_input_port().Eval(plant_context)\n",
    "    inspector = scene_graph.get_query_output_port().Eval(sg_context).inspector()\n",
    "    pairs = query_object.ComputePointPairPenetration()\n",
    "\n",
    "    for pair in pairs:\n",
    "        pair_name0 = inspector.GetName(pair.id_A)\n",
    "        pair_name1 = inspector.GetName(pair.id_B)\n",
    "        if check_collision_pair_name(pair_name0, pair_name1):\n",
    "            if print_collisions:\n",
    "                print(pair_name0, pair_name1)\n",
    "            return True\n",
    "    return False"
   ]
  },
  {
   "cell_type": "code",
   "execution_count": 8,
   "metadata": {},
   "outputs": [
    {
     "name": "stdout",
     "output_type": "stream",
     "text": [
      "Check Collision: False\n"
     ]
    }
   ],
   "source": [
    "collision_check = in_collision(plant, scene_graph, context, print_collisions=True)\n",
    "print(\"Check Collision:\", collision_check)"
   ]
  },
  {
   "cell_type": "code",
   "execution_count": 9,
   "metadata": {},
   "outputs": [],
   "source": [
    "from sponana.controller.inverse_kinematics import q_nominal_arm\n",
    "\n",
    "\n",
    "def move_spot(q_spot):\n",
    "    plant_context = plant.GetMyContextFromRoot(context)\n",
    "    spot_model_instance = plant.GetModelInstanceByName(\"spot\")\n",
    "    spot_init_positions = plant.GetPositions(plant_context, spot_model_instance)\n",
    "\n",
    "    if len(q_spot) == 3:\n",
    "        q_desired = np.concatenate((q_spot, q_nominal_arm))\n",
    "    else:\n",
    "        q_desired = q_spot\n",
    "\n",
    "    plant.SetPositions(plant_context, plant.GetModelInstanceByName(\"spot\"), q_desired)\n",
    "    return spot_init_positions"
   ]
  },
  {
   "cell_type": "code",
   "execution_count": 31,
   "metadata": {},
   "outputs": [],
   "source": [
    "def ExistsCollision(q_spot):\n",
    "    spot_init_positions = move_spot(q_spot)\n",
    "    collision_check = in_collision(plant, scene_graph, context, print_collisions=False)\n",
    "\n",
    "    # print(\"Check Collision:\", collision_check)\n",
    "    if collision_check == True:\n",
    "        previous_pos = move_spot(spot_init_positions)\n",
    "    return collision_check"
   ]
  },
  {
   "cell_type": "code",
   "execution_count": 14,
   "metadata": {},
   "outputs": [],
   "source": [
    "base_pose = np.array([1.00000000e00, 1.50392176e-12, 3.15001955e00])\n",
    "q_start = base_pose\n",
    "# q_goal = np.array([1.00000000e+00, 1.50392176e-12 -1, 3.15001955e+00])\n",
    "# q_goal = np.array([1.00000000e+00, -0.5, 3.15001955e+00])\n",
    "q_goal = np.array([-2, -2, 3.15001955e00])\n",
    "# q_goal = np.array([0.20894849, -0.47792893, 0.2475])"
   ]
  },
  {
   "cell_type": "code",
   "execution_count": 32,
   "metadata": {},
   "outputs": [],
   "source": [
    "spot_problem = SpotProblem(\n",
    "    q_start=q_start, q_goal=q_goal, collision_checker=ExistsCollision\n",
    ")\n",
    "path = rrt_planning(spot_problem, 1000, 0.05)"
   ]
  },
  {
   "cell_type": "code",
   "execution_count": 35,
   "metadata": {},
   "outputs": [
    {
     "name": "stdout",
     "output_type": "stream",
     "text": [
      "326\n"
     ]
    }
   ],
   "source": [
    "print(len(path))"
   ]
  },
  {
   "cell_type": "code",
   "execution_count": 37,
   "metadata": {},
   "outputs": [],
   "source": [
    "# visualize RRT output\n",
    "from manipulation.meshcat_utils import AddMeshcatTriad\n",
    "\n",
    "\n",
    "def visualize_path(path):\n",
    "    for i, pose in enumerate(path):\n",
    "        pose = RigidTransform(RotationMatrix.MakeZRotation(pose[2]), [*pose[:2], 0.0])\n",
    "        opacity = 0.2\n",
    "        AddMeshcatTriad(meshcat, f\"trajectory_{i}\", X_PT=pose, opacity=opacity)\n",
    "\n",
    "\n",
    "visualize_path(path)"
   ]
  },
  {
   "cell_type": "code",
   "execution_count": null,
   "metadata": {},
   "outputs": [],
   "source": []
  }
 ],
 "metadata": {
  "kernelspec": {
   "display_name": "robot_drake_env",
   "language": "python",
   "name": "python3"
  },
  "language_info": {
   "codemirror_mode": {
    "name": "ipython",
    "version": 3
   },
   "file_extension": ".py",
   "mimetype": "text/x-python",
   "name": "python",
   "nbconvert_exporter": "python",
   "pygments_lexer": "ipython3",
   "version": "3.11.5"
  }
 },
 "nbformat": 4,
 "nbformat_minor": 2
}
