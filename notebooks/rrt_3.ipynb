{
 "cells": [
  {
   "cell_type": "code",
   "execution_count": 1,
   "metadata": {},
   "outputs": [],
   "source": [
    "%load_ext autoreload\n",
    "%autoreload 2"
   ]
  },
  {
   "cell_type": "code",
   "execution_count": 2,
   "metadata": {},
   "outputs": [],
   "source": [
    "import numpy as np\n",
    "from pydrake.all import (\n",
    "    RigidTransform,\n",
    "    RotationMatrix,\n",
    "    StartMeshcat,\n",
    "    RandomGenerator,\n",
    "    Diagram,\n",
    ")\n",
    "import numpy as np\n",
    "\n",
    "import sponana.utils\n",
    "from sponana.planner.rrt import SpotProblem, rrt_planning\n",
    "from sponana.planner.navigator import Navigator\n",
    "\n",
    "import sponana.sim"
   ]
  },
  {
   "cell_type": "code",
   "execution_count": 3,
   "metadata": {},
   "outputs": [
    {
     "name": "stderr",
     "output_type": "stream",
     "text": [
      "INFO:drake:Meshcat listening for connections at http://localhost:7000\n"
     ]
    }
   ],
   "source": [
    "# Start the visualizer.\n",
    "meshcat = StartMeshcat()"
   ]
  },
  {
   "cell_type": "code",
   "execution_count": 4,
   "metadata": {},
   "outputs": [
    {
     "name": "stdout",
     "output_type": "stream",
     "text": [
      "x_sample [-0.1   0.05]\n",
      "y_sample [-2.00000000e-01  2.77555756e-17]\n",
      "appended: x_points_append: [0.04999999999999999] y_points_append: [2.7755575615628914e-17]\n",
      "dist 0.15\n",
      "appended: x_points_append: [0.04999999999999999, -0.1] y_points_append: [2.7755575615628914e-17, 2.7755575615628914e-17]\n",
      "dist 0.0\n",
      "dist 0.2\n",
      "dist 0.25\n",
      "appended: x_points_append: [0.04999999999999999, -0.1, 0.04999999999999999] y_points_append: [2.7755575615628914e-17, 2.7755575615628914e-17, -0.19999999999999998]\n",
      "x_sample [-0.1   0.05]\n",
      "y_sample [-2.00000000e-01  2.77555756e-17]\n",
      "appended: x_points_append: [-0.1] y_points_append: [-0.19999999999999998]\n",
      "x_sample [-0.1   0.05]\n",
      "y_sample [-2.00000000e-01  2.77555756e-17]\n",
      "appended: x_points_append: [0.04999999999999999] y_points_append: [2.7755575615628914e-17]\n",
      "dist 0.2\n",
      "appended: x_points_append: [0.04999999999999999, 0.04999999999999999] y_points_append: [2.7755575615628914e-17, -0.19999999999999998]\n",
      "dist 0.15\n",
      "dist 0.25\n",
      "appended: x_points_append: [0.04999999999999999, 0.04999999999999999, -0.1] y_points_append: [2.7755575615628914e-17, -0.19999999999999998, 2.7755575615628914e-17]\n",
      "x_sample [-0.1   0.05]\n",
      "y_sample [-2.00000000e-01  2.77555756e-17]\n",
      "appended: x_points_append: [0.04999999999999999] y_points_append: [2.7755575615628914e-17]\n",
      "dist 0.0\n",
      "dist 0.0\n",
      "dist 0.2\n",
      "appended: x_points_append: [0.04999999999999999, 0.04999999999999999] y_points_append: [2.7755575615628914e-17, -0.19999999999999998]\n",
      "dist 0.0\n",
      "dist 0.25\n",
      "dist 0.15\n",
      "appended: x_points_append: [0.04999999999999999, 0.04999999999999999, -0.1] y_points_append: [2.7755575615628914e-17, -0.19999999999999998, -0.19999999999999998]\n",
      "[TableSceneSpec(has_banana=False, banana_contact_params=None, n_objects=3, object_type_indices=array([0, 1, 1]), object_contact_params=[(0.04999999999999999, 2.7755575615628914e-17, 4.841921954315102, 0), (-0.1, 2.7755575615628914e-17, 1.657078340818876, 0), (0.04999999999999999, -0.19999999999999998, 5.721221562775121, 0)]), TableSceneSpec(has_banana=True, banana_contact_params=(-0.1, -0.19999999999999998, 1.781642008465248, 2), n_objects=3, object_type_indices=array([1, 0, 1]), object_contact_params=[(0.04999999999999999, 2.7755575615628914e-17, 0.925411991541767, 2), (0.04999999999999999, -0.19999999999999998, 4.075456308009082, 2), (-0.1, 2.7755575615628914e-17, 4.303231926064594, 0)]), TableSceneSpec(has_banana=False, banana_contact_params=None, n_objects=3, object_type_indices=array([5, 1, 5]), object_contact_params=[(0.04999999999999999, 2.7755575615628914e-17, 3.1759528834447694, 0), (0.04999999999999999, -0.19999999999999998, 3.0221099894534897, 2), (-0.1, -0.19999999999999998, 5.086347867217728, 2)])]\n"
     ]
    },
    {
     "name": "stderr",
     "output_type": "stream",
     "text": [
      "WARNING:drake:RenderEngineVtk only supports Mesh/Convex specifications which use .obj and .gltf files. Mesh specifications using other mesh types (e.g., .stl, .dae, etc.) will be ignored.\n"
     ]
    },
    {
     "name": "stdout",
     "output_type": "stream",
     "text": [
      "Press Space to log system info\n",
      "banana_table_idx 1\n",
      "spec[banana_table_idx].has_banana True\n"
     ]
    },
    {
     "name": "stderr",
     "output_type": "stream",
     "text": [
      "==== LCM Warning ===\n",
      "LCM detected that large packets are being received, but the kernel UDP\n",
      "receive buffer is very small.  The possibility of dropping packets due to\n",
      "insufficient buffer space is very high.\n",
      "\n",
      "For more information, visit:\n",
      "   http://lcm-proj.github.io/lcm/multicast_setup.html\n",
      "\n",
      "==== LCM Warning ===\n",
      "LCM detected that large packets are being received, but the kernel UDP\n",
      "receive buffer is very small.  The possibility of dropping packets due to\n",
      "insufficient buffer space is very high.\n",
      "\n",
      "For more information, visit:\n",
      "   http://lcm-proj.github.io/lcm/multicast_setup.html\n",
      "\n"
     ]
    },
    {
     "name": "stdout",
     "output_type": "stream",
     "text": [
      "Press Escape to stop the simulation\n"
     ]
    },
    {
     "name": "stderr",
     "output_type": "stream",
     "text": [
      "WARNING:drake:Ignoring Meshcat http request for /spot_mat.png\n",
      "WARNING:drake:Ignoring Meshcat http request for /spot_mat.png\n",
      "WARNING:drake:Ignoring Meshcat http request for /spot_mat.png\n",
      "WARNING:drake:Ignoring Meshcat http request for /spot_mat.png\n",
      "WARNING:drake:Ignoring Meshcat http request for /spot_mat.png\n",
      "WARNING:drake:Ignoring Meshcat http request for /spot_mat.png\n"
     ]
    },
    {
     "ename": "KeyboardInterrupt",
     "evalue": "",
     "output_type": "error",
     "traceback": [
      "\u001b[0;31m---------------------------------------------------------------------------\u001b[0m",
      "\u001b[0;31mKeyboardInterrupt\u001b[0m                         Traceback (most recent call last)",
      "\u001b[1;32m/home/rarama/Documents/research/sponana/notebooks/rrt_3.ipynb Cell 4\u001b[0m line \u001b[0;36m1\n\u001b[1;32m     <a href='vscode-notebook-cell:/home/rarama/Documents/research/sponana/notebooks/rrt_3.ipynb#W3sZmlsZQ%3D%3D?line=11'>12</a>\u001b[0m enable_arm_ik \u001b[39m=\u001b[39m \u001b[39mTrue\u001b[39;00m  \u001b[39m# turn this off if you find the arm too annoying\u001b[39;00m\n\u001b[1;32m     <a href='vscode-notebook-cell:/home/rarama/Documents/research/sponana/notebooks/rrt_3.ipynb#W3sZmlsZQ%3D%3D?line=12'>13</a>\u001b[0m use_teleop \u001b[39m=\u001b[39m \u001b[39mFalse\u001b[39;00m\n\u001b[0;32m---> <a href='vscode-notebook-cell:/home/rarama/Documents/research/sponana/notebooks/rrt_3.ipynb#W3sZmlsZQ%3D%3D?line=14'>15</a>\u001b[0m simulator, diagram \u001b[39m=\u001b[39m sponana\u001b[39m.\u001b[39;49msim\u001b[39m.\u001b[39;49mclutter_gen(\n\u001b[1;32m     <a href='vscode-notebook-cell:/home/rarama/Documents/research/sponana/notebooks/rrt_3.ipynb#W3sZmlsZQ%3D%3D?line=15'>16</a>\u001b[0m     meshcat,\n\u001b[1;32m     <a href='vscode-notebook-cell:/home/rarama/Documents/research/sponana/notebooks/rrt_3.ipynb#W3sZmlsZQ%3D%3D?line=16'>17</a>\u001b[0m     rng,\n\u001b[1;32m     <a href='vscode-notebook-cell:/home/rarama/Documents/research/sponana/notebooks/rrt_3.ipynb#W3sZmlsZQ%3D%3D?line=17'>18</a>\u001b[0m     debug\u001b[39m=\u001b[39;49mdebug,\n\u001b[1;32m     <a href='vscode-notebook-cell:/home/rarama/Documents/research/sponana/notebooks/rrt_3.ipynb#W3sZmlsZQ%3D%3D?line=18'>19</a>\u001b[0m     simulation_time\u001b[39m=\u001b[39;49msimulation_time,\n\u001b[1;32m     <a href='vscode-notebook-cell:/home/rarama/Documents/research/sponana/notebooks/rrt_3.ipynb#W3sZmlsZQ%3D%3D?line=19'>20</a>\u001b[0m     add_spot\u001b[39m=\u001b[39;49madd_spot,\n\u001b[1;32m     <a href='vscode-notebook-cell:/home/rarama/Documents/research/sponana/notebooks/rrt_3.ipynb#W3sZmlsZQ%3D%3D?line=20'>21</a>\u001b[0m     add_fixed_cameras\u001b[39m=\u001b[39;49madd_fixed_cameras,\n\u001b[1;32m     <a href='vscode-notebook-cell:/home/rarama/Documents/research/sponana/notebooks/rrt_3.ipynb#W3sZmlsZQ%3D%3D?line=21'>22</a>\u001b[0m     enable_arm_ik\u001b[39m=\u001b[39;49menable_arm_ik,\n\u001b[1;32m     <a href='vscode-notebook-cell:/home/rarama/Documents/research/sponana/notebooks/rrt_3.ipynb#W3sZmlsZQ%3D%3D?line=22'>23</a>\u001b[0m     use_teleop\u001b[39m=\u001b[39;49muse_teleop,\n\u001b[1;32m     <a href='vscode-notebook-cell:/home/rarama/Documents/research/sponana/notebooks/rrt_3.ipynb#W3sZmlsZQ%3D%3D?line=23'>24</a>\u001b[0m )\n",
      "File \u001b[0;32m~/Documents/research/sponana/src/sponana/sim.py:338\u001b[0m, in \u001b[0;36mclutter_gen\u001b[0;34m(meshcat, rng, add_spot, debug, simulation_time, add_fixed_cameras, enable_arm_ik, table_specs, use_teleop)\u001b[0m\n\u001b[1;32m    329\u001b[0m plant\u001b[39m.\u001b[39mSetFreeBodyPose(\n\u001b[1;32m    330\u001b[0m     plant_context,\n\u001b[1;32m    331\u001b[0m     plant\u001b[39m.\u001b[39mget_body(\n\u001b[0;32m   (...)\u001b[0m\n\u001b[1;32m    334\u001b[0m     banana_pose,\n\u001b[1;32m    335\u001b[0m )\n\u001b[1;32m    337\u001b[0m \u001b[39m# Run the simulation\u001b[39;00m\n\u001b[0;32m--> 338\u001b[0m sponana\u001b[39m.\u001b[39;49mutils\u001b[39m.\u001b[39;49mrun_simulation(simulator, meshcat, finish_time\u001b[39m=\u001b[39;49msimulation_time)\n\u001b[1;32m    339\u001b[0m \u001b[39mreturn\u001b[39;00m simulator, diagram\n",
      "File \u001b[0;32m~/Documents/research/sponana/src/sponana/utils.py:52\u001b[0m, in \u001b[0;36mrun_simulation\u001b[0;34m(simulator, meshcat, finish_time)\u001b[0m\n\u001b[1;32m     50\u001b[0m     \u001b[39mprint\u001b[39m(\u001b[39m\"\u001b[39m\u001b[39mPress Escape to stop the simulation\u001b[39m\u001b[39m\"\u001b[39m)\n\u001b[1;32m     51\u001b[0m     \u001b[39mwhile\u001b[39;00m meshcat\u001b[39m.\u001b[39mGetButtonClicks(\u001b[39m\"\u001b[39m\u001b[39mStop Simulation\u001b[39m\u001b[39m\"\u001b[39m) \u001b[39m<\u001b[39m \u001b[39m1\u001b[39m:\n\u001b[0;32m---> 52\u001b[0m         simulator\u001b[39m.\u001b[39;49mAdvanceTo(simulator\u001b[39m.\u001b[39;49mget_context()\u001b[39m.\u001b[39;49mget_time() \u001b[39m+\u001b[39;49m \u001b[39m0.1\u001b[39;49m)\n\u001b[1;32m     53\u001b[0m     meshcat\u001b[39m.\u001b[39mDeleteButton(\u001b[39m\"\u001b[39m\u001b[39mStop Simulation\u001b[39m\u001b[39m\"\u001b[39m)\n\u001b[1;32m     54\u001b[0m \u001b[39melse\u001b[39;00m:\n\u001b[1;32m     55\u001b[0m     \u001b[39m# run similator for a fixed duration and publish recording\u001b[39;00m\n",
      "File \u001b[0;32m~/Documents/research/sponana/src/sponana/controller/position_combiner.py:30\u001b[0m, in \u001b[0;36mPositionCombiner._combine_position\u001b[0;34m(self, context, output)\u001b[0m\n\u001b[1;32m     28\u001b[0m \u001b[39mdef\u001b[39;00m \u001b[39m_combine_position\u001b[39m(\u001b[39mself\u001b[39m, context: Context, output: BasicVector):\n\u001b[1;32m     29\u001b[0m     base_position \u001b[39m=\u001b[39m \u001b[39mself\u001b[39m\u001b[39m.\u001b[39mget_base_position_input_port()\u001b[39m.\u001b[39mEval(context)\n\u001b[0;32m---> 30\u001b[0m     arm_position \u001b[39m=\u001b[39m \u001b[39mself\u001b[39;49m\u001b[39m.\u001b[39;49mget_arm_position_input_port()\u001b[39m.\u001b[39;49mEval(context)\n\u001b[1;32m     31\u001b[0m     \u001b[39mif\u001b[39;00m \u001b[39mself\u001b[39m\u001b[39m.\u001b[39muse_teleop:\n\u001b[1;32m     32\u001b[0m         base_position \u001b[39m=\u001b[39m base_position[:\u001b[39m3\u001b[39m]\n",
      "File \u001b[0;32m~/Documents/research/sponana/src/sponana/controller/spot_arm_ik_controller.py:61\u001b[0m, in \u001b[0;36mSpotArmIKController._solve_ik\u001b[0;34m(self, context, output)\u001b[0m\n\u001b[1;32m     59\u001b[0m desired_pose\u001b[39m.\u001b[39mset_translation(desired_pose\u001b[39m.\u001b[39mtranslation() \u001b[39m+\u001b[39m [\u001b[39m0\u001b[39m, \u001b[39m0\u001b[39m, \u001b[39m0.2\u001b[39m])\n\u001b[1;32m     60\u001b[0m \u001b[39mtry\u001b[39;00m:\n\u001b[0;32m---> 61\u001b[0m     q \u001b[39m=\u001b[39m solve_ik(\n\u001b[1;32m     62\u001b[0m         plant\u001b[39m=\u001b[39;49m\u001b[39mself\u001b[39;49m\u001b[39m.\u001b[39;49m_plant,\n\u001b[1;32m     63\u001b[0m         context\u001b[39m=\u001b[39;49m\u001b[39mself\u001b[39;49m\u001b[39m.\u001b[39;49m_plant\u001b[39m.\u001b[39;49mCreateDefaultContext(),\n\u001b[1;32m     64\u001b[0m         X_WT\u001b[39m=\u001b[39;49mdesired_pose,\n\u001b[1;32m     65\u001b[0m         base_position\u001b[39m=\u001b[39;49mbase_position,\n\u001b[1;32m     66\u001b[0m         target_frame_name\u001b[39m=\u001b[39;49m\u001b[39m\"\u001b[39;49m\u001b[39marm_link_fngr\u001b[39;49m\u001b[39m\"\u001b[39;49m,\n\u001b[1;32m     67\u001b[0m         fix_base\u001b[39m=\u001b[39;49m\u001b[39mTrue\u001b[39;49;00m,\n\u001b[1;32m     68\u001b[0m     )\n\u001b[1;32m     69\u001b[0m     \u001b[39mself\u001b[39m\u001b[39m.\u001b[39m_last_state \u001b[39m=\u001b[39m q[\u001b[39m3\u001b[39m:\u001b[39m10\u001b[39m]\n\u001b[1;32m     71\u001b[0m \u001b[39mexcept\u001b[39;00m \u001b[39mAssertionError\u001b[39;00m:\n",
      "File \u001b[0;32m~/Documents/research/sponana/src/sponana/controller/inverse_kinematics.py:94\u001b[0m, in \u001b[0;36msolve_ik\u001b[0;34m(plant, context, X_WT, target_frame_name, base_position, fix_base, rotation_bound, position_bound, collision_bound)\u001b[0m\n\u001b[1;32m     91\u001b[0m prog\u001b[39m.\u001b[39mAddQuadraticErrorCost(np\u001b[39m.\u001b[39midentity(\u001b[39mlen\u001b[39m(q)), q0, q)\n\u001b[1;32m     92\u001b[0m prog\u001b[39m.\u001b[39mSetInitialGuess(q, np\u001b[39m.\u001b[39mrandom\u001b[39m.\u001b[39mrand(\u001b[39mlen\u001b[39m(q)))\n\u001b[0;32m---> 94\u001b[0m result \u001b[39m=\u001b[39m Solve(ik\u001b[39m.\u001b[39;49mprog())\n\u001b[1;32m     95\u001b[0m \u001b[39mif\u001b[39;00m result\u001b[39m.\u001b[39mis_success():\n\u001b[1;32m     96\u001b[0m     \u001b[39mreturn\u001b[39;00m result\u001b[39m.\u001b[39mGetSolution(q)\n",
      "\u001b[0;31mKeyboardInterrupt\u001b[0m: "
     ]
    }
   ],
   "source": [
    "# Clean up the Meshcat instance.\n",
    "meshcat.Delete()\n",
    "meshcat.DeleteAddedControls()\n",
    "rng = np.random.default_rng(145)  # this is for python\n",
    "generator = RandomGenerator(rng.integers(0, 1000))  # this is for c++\n",
    "\n",
    "add_spot = True\n",
    "# simulation_time = -1  # run indefinitely until ESC is pressed\n",
    "simulation_time = -1\n",
    "debug = True\n",
    "add_fixed_cameras = False\n",
    "enable_arm_ik = True  # turn this off if you find the arm too annoying\n",
    "use_teleop = False\n",
    "\n",
    "simulator, diagram = sponana.sim.clutter_gen(\n",
    "    meshcat,\n",
    "    rng,\n",
    "    debug=debug,\n",
    "    simulation_time=simulation_time,\n",
    "    add_spot=add_spot,\n",
    "    add_fixed_cameras=add_fixed_cameras,\n",
    "    enable_arm_ik=enable_arm_ik,\n",
    "    use_teleop=use_teleop,\n",
    ")"
   ]
  },
  {
   "cell_type": "code",
   "execution_count": null,
   "metadata": {},
   "outputs": [],
   "source": [
    "base_pose = np.array([1.00000000e00, 1.50392176e-12, 3.15001955e00])\n",
    "q_start = base_pose\n",
    "# q_goal = np.array([1.00000000e+00, 1.50392176e-12 -1, 3.15001955e+00])\n",
    "# q_goal = np.array([1.00000000e+00, -0.5, 3.15001955e+00])\n",
    "q_goal = np.array([-2, -2, 3.15001955e00])\n",
    "# q_goal = np.array([0.20894849, -0.47792893, 0.2475])"
   ]
  },
  {
   "cell_type": "code",
   "execution_count": null,
   "metadata": {},
   "outputs": [],
   "source": [
    "navigator = Navigator()\n",
    "spot_problem = SpotProblem(\n",
    "    q_start=q_start, q_goal=q_goal, collision_checker=navigator._collision_check\n",
    ")\n",
    "path = rrt_planning(spot_problem, 1000, 0.05)"
   ]
  },
  {
   "cell_type": "code",
   "execution_count": null,
   "metadata": {},
   "outputs": [
    {
     "name": "stdout",
     "output_type": "stream",
     "text": [
      "397\n"
     ]
    }
   ],
   "source": [
    "print(len(path))"
   ]
  },
  {
   "cell_type": "code",
   "execution_count": null,
   "metadata": {},
   "outputs": [],
   "source": [
    "# visualize RRT output\n",
    "from manipulation.meshcat_utils import AddMeshcatTriad\n",
    "\n",
    "\n",
    "def visualize_path(path):\n",
    "    for i, pose in enumerate(path):\n",
    "        pose = RigidTransform(RotationMatrix.MakeZRotation(pose[2]), [*pose[:2], 0.0])\n",
    "        opacity = 0.2\n",
    "        AddMeshcatTriad(meshcat, f\"trajectory_{i}\", X_PT=pose, opacity=opacity)\n",
    "\n",
    "\n",
    "visualize_path(path)"
   ]
  },
  {
   "cell_type": "code",
   "execution_count": null,
   "metadata": {},
   "outputs": [],
   "source": [
    "sponana.utils.visualize_diagram(diagram, 1)"
   ]
  },
  {
   "cell_type": "code",
   "execution_count": null,
   "metadata": {},
   "outputs": [],
   "source": []
  }
 ],
 "metadata": {
  "kernelspec": {
   "display_name": "robot_drake_env",
   "language": "python",
   "name": "python3"
  },
  "language_info": {
   "codemirror_mode": {
    "name": "ipython",
    "version": 3
   },
   "file_extension": ".py",
   "mimetype": "text/x-python",
   "name": "python",
   "nbconvert_exporter": "python",
   "pygments_lexer": "ipython3",
   "version": "3.10.12"
  }
 },
 "nbformat": 4,
 "nbformat_minor": 2
}
