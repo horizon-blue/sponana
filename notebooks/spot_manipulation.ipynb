{
 "cells": [
  {
   "cell_type": "code",
   "execution_count": 1,
   "metadata": {},
   "outputs": [],
   "source": [
    "%load_ext autoreload\n",
    "%autoreload 2"
   ]
  },
  {
   "cell_type": "code",
   "execution_count": 2,
   "metadata": {},
   "outputs": [],
   "source": [
    "from pydrake.all import (\n",
    "    ModelVisualizer,\n",
    "    StartMeshcat,\n",
    "    Simulator,\n",
    ")\n",
    "import pydot\n",
    "\n",
    "from IPython.display import SVG, display\n",
    "from manipulation import running_as_notebook\n",
    "from manipulation.station import MakeHardwareStation, load_scenario\n",
    "import matplotlib.pyplot as plt\n",
    "import numpy as np\n",
    "\n",
    "import sponana.utils"
   ]
  },
  {
   "cell_type": "code",
   "execution_count": 3,
   "metadata": {},
   "outputs": [
    {
     "name": "stderr",
     "output_type": "stream",
     "text": [
      "INFO:drake:Meshcat listening for connections at http://localhost:7001\n"
     ]
    }
   ],
   "source": [
    "# Start the visualizer.\n",
    "meshcat = StartMeshcat()"
   ]
  },
  {
   "cell_type": "code",
   "execution_count": 4,
   "metadata": {},
   "outputs": [],
   "source": [
    "inspect_spot_model = False\n",
    "\n",
    "if inspect_spot_model:\n",
    "    # Inspecting the Spot Model\n",
    "    visualizer = ModelVisualizer(meshcat=meshcat)\n",
    "    sponana.utils.configure_parser(visualizer.parser())\n",
    "    visualizer.AddModels(url=\"package://manipulation/spot/spot_with_arm.urdf\")\n",
    "    visualizer.Run(loop_once=not running_as_notebook)\n",
    "    meshcat.DeleteAddedControls()"
   ]
  },
  {
   "cell_type": "code",
   "execution_count": 5,
   "metadata": {},
   "outputs": [],
   "source": [
    "def create_scene(scenario_data: str):\n",
    "    # Clean up the Meshcat instance.\n",
    "    meshcat.Delete()\n",
    "    meshcat.DeleteAddedControls()\n",
    "\n",
    "    scenario = load_scenario(data=scenario_data)\n",
    "    station = MakeHardwareStation(\n",
    "        scenario, meshcat, parser_preload_callback=sponana.utils.configure_parser\n",
    "    )\n",
    "\n",
    "    return station"
   ]
  },
  {
   "cell_type": "code",
   "execution_count": 16,
   "metadata": {},
   "outputs": [],
   "source": [
    "def run_simulation(scenario_data):\n",
    "    station = create_scene(scenario_data)\n",
    "    simulator = Simulator(station)\n",
    "\n",
    "    context = simulator.get_mutable_context()\n",
    "    x0 = station.GetOutputPort(\"spot.state_estimated\").Eval(context)\n",
    "    station.GetInputPort(\"spot.desired_state\").FixValue(context, x0)\n",
    "\n",
    "    simulator.Initialize()\n",
    "    simulator.set_target_realtime_rate(1.0)\n",
    "\n",
    "    meshcat.StartRecording()\n",
    "    finish_time = 2.0\n",
    "    simulator.AdvanceTo(finish_time)\n",
    "    meshcat.PublishRecording()\n",
    "    return station, simulator"
   ]
  },
  {
   "cell_type": "code",
   "execution_count": 17,
   "metadata": {},
   "outputs": [],
   "source": [
    "scenario_data = \"\"\"\n",
    "cameras:\n",
    "    spot_camera:\n",
    "        name: camera0\n",
    "        depth: True\n",
    "        X_PB:\n",
    "            translation: [0, 0.01, 0]\n",
    "            base_frame: camera0::base\n",
    "            rotation: !Rpy { deg: [40, 180, 180] }\n",
    "\n",
    "directives:\n",
    "- add_model:\n",
    "    name: spot\n",
    "    file: package://manipulation/spot/spot_with_arm_and_floating_base_actuators.urdf\n",
    "    default_joint_positions:\n",
    "        arm_sh1: [-3.1]\n",
    "        arm_el0: [3.1]\n",
    "    \n",
    "- add_model:\n",
    "    name: banana\n",
    "    file: package://sponana/banana/banana.sdf\n",
    "    default_free_body_pose:\n",
    "        banana:\n",
    "            # move it in front of Spot \n",
    "            translation: [0.45, 0, 0]\n",
    "\n",
    "- add_model:\n",
    "    name: floor\n",
    "    file: package://sponana/platform.sdf\n",
    "\n",
    "- add_weld:\n",
    "    parent: world\n",
    "    child: floor::platform_center\n",
    "    X_PC:\n",
    "        translation: [0, 0, -.5]\n",
    "\n",
    "- add_model:\n",
    "    name: camera0\n",
    "    file: package://manipulation/camera_box.sdf\n",
    "\n",
    "- add_weld:\n",
    "    parent: spot::body\n",
    "    child: camera0::base\n",
    "    X_PC:\n",
    "        translation: [0.4, 0, 0]\n",
    "        # Point slightly down towards camera\n",
    "        rotation: !Rpy { deg: [-20, 0, -90] }\n",
    "\n",
    "model_drivers:\n",
    "    spot: !InverseDynamicsDriver {}\n",
    "\"\"\""
   ]
  },
  {
   "cell_type": "code",
   "execution_count": 18,
   "metadata": {},
   "outputs": [
    {
     "name": "stderr",
     "output_type": "stream",
     "text": [
      "WARNING:drake:warning: Warning parsing Wavefront obj data : Both `d` and `Tr` parameters defined for \"banana\". Use the value of `d` for dissolve (line 9 in .mtl.)\n",
      "WARNING:drake:warning: Both `d` and `Tr` parameters defined for \"banana\". Use the value of `d` for dissolve (line 9 in .mtl.)\n",
      "\n",
      "WARNING:drake:Ignoring Meshcat http request for /spot_mat.png\n"
     ]
    },
    {
     "name": "stderr",
     "output_type": "stream",
     "text": [
      "WARNING:drake:Ignoring Meshcat http request for /spot_mat.png\n",
      "WARNING:drake:Ignoring Meshcat http request for /spot_mat.png\n",
      "WARNING:drake:Ignoring Meshcat http request for /spot_mat.png\n",
      "WARNING:drake:Ignoring Meshcat http request for /spot_mat.png\n",
      "WARNING:drake:Ignoring Meshcat http request for /spot_mat.png\n",
      "WARNING:drake:Ignoring Meshcat http request for /spot_mat.png\n",
      "WARNING:drake:Ignoring Meshcat http request for /spot_mat.png\n",
      "WARNING:drake:Ignoring Meshcat http request for /spot_mat.png\n",
      "WARNING:drake:Ignoring Meshcat http request for /spot_mat.png\n",
      "WARNING:drake:Ignoring Meshcat http request for /spot_mat.png\n",
      "WARNING:drake:Ignoring Meshcat http request for /spot_mat.png\n",
      "WARNING:drake:Ignoring Meshcat http request for /spot_mat.png\n",
      "WARNING:drake:Ignoring Meshcat http request for /spot_mat.png\n",
      "WARNING:drake:Ignoring Meshcat http request for /spot_mat.png\n",
      "WARNING:drake:Ignoring Meshcat http request for /spot_mat.png\n",
      "WARNING:drake:Ignoring Meshcat http request for /spot_mat.png\n",
      "WARNING:drake:Ignoring Meshcat http request for /spot_mat.png\n",
      "WARNING:drake:Ignoring Meshcat http request for /spot_mat.png\n",
      "WARNING:drake:Ignoring Meshcat http request for /spot_mat.png\n",
      "WARNING:drake:Ignoring Meshcat http request for /spot_mat.png\n",
      "WARNING:drake:Ignoring Meshcat http request for /spot_mat.png\n",
      "WARNING:drake:Ignoring Meshcat http request for /spot_mat.png\n",
      "WARNING:drake:Ignoring Meshcat http request for /spot_mat.png\n",
      "WARNING:drake:Ignoring Meshcat http request for /spot_mat.png\n"
     ]
    }
   ],
   "source": [
    "station, simulator = run_simulation(scenario_data)"
   ]
  },
  {
   "cell_type": "code",
   "execution_count": 19,
   "metadata": {},
   "outputs": [
    {
     "data": {
      "text/plain": [
       "<matplotlib.image.AxesImage at 0x17feac510>"
      ]
     },
     "execution_count": 19,
     "metadata": {},
     "output_type": "execute_result"
    },
    {
     "data": {
      "image/png": "[encoded data removed]",
      "text/plain": [
       "<Figure size 1000x400 with 2 Axes>"
      ]
     },
     "metadata": {},
     "output_type": "display_data"
    }
   ],
   "source": [
    "context = simulator.get_mutable_context()\n",
    "color_image = station.GetOutputPort(\"camera0.rgb_image\").Eval(context)\n",
    "depth_image = station.GetOutputPort(\"camera0.depth_image\").Eval(context)\n",
    "plt.figure(figsize=(10, 4))\n",
    "plt.subplot(1, 2, 1)\n",
    "plt.imshow(color_image.data)\n",
    "plt.subplot(1, 2, 2)\n",
    "plt.imshow(depth_image.data)"
   ]
  },
  {
   "cell_type": "code",
   "execution_count": null,
   "metadata": {},
   "outputs": [],
   "source": [
    "diagram = create_scene(scenario_data)\n",
    "display(\n",
    "    SVG(\n",
    "        pydot.graph_from_dot_data(diagram.GetGraphvizString(max_depth=1))[\n",
    "            0\n",
    "        ].create_svg()\n",
    "    )\n",
    ")"
   ]
  },
  {
   "cell_type": "code",
   "execution_count": null,
   "metadata": {},
   "outputs": [],
   "source": []
  }
 ],
 "metadata": {
  "kernelspec": {
   "display_name": "sponana",
   "language": "python",
   "name": "python3"
  },
  "language_info": {
   "codemirror_mode": {
    "name": "ipython",
    "version": 3
   },
   "file_extension": ".py",
   "mimetype": "text/x-python",
   "name": "python",
   "nbconvert_exporter": "python",
   "pygments_lexer": "ipython3",
   "version": "3.11.5"
  }
 },
 "nbformat": 4,
 "nbformat_minor": 2
}
