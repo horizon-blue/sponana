{
 "cells": [
  {
   "cell_type": "code",
   "execution_count": 1,
   "metadata": {},
   "outputs": [],
   "source": [
    "%load_ext autoreload\n",
    "%autoreload 2"
   ]
  },
  {
   "cell_type": "code",
   "execution_count": 29,
   "metadata": {},
   "outputs": [],
   "source": [
    "from pydrake.all import (\n",
    "    ModelVisualizer,\n",
    "    StartMeshcat,\n",
    "    Simulator,\n",
    "    DiagramBuilder,\n",
    "    StateInterpolatorWithDiscreteDerivative,\n",
    "    JointSliders,\n",
    "    PointCloud,\n",
    ")\n",
    "import pydot\n",
    "\n",
    "from IPython.display import SVG, display\n",
    "from manipulation import running_as_notebook\n",
    "from manipulation.station import MakeHardwareStation, load_scenario\n",
    "import matplotlib.pyplot as plt\n",
    "import numpy as np\n",
    "\n",
    "import sponana.utils"
   ]
  },
  {
   "cell_type": "code",
   "execution_count": 3,
   "metadata": {},
   "outputs": [
    {
     "name": "stderr",
     "output_type": "stream",
     "text": [
      "INFO:drake:Meshcat listening for connections at http://localhost:7001\n"
     ]
    }
   ],
   "source": [
    "# Start the visualizer.\n",
    "meshcat = StartMeshcat()"
   ]
  },
  {
   "cell_type": "code",
   "execution_count": 4,
   "metadata": {},
   "outputs": [],
   "source": [
    "inspect_spot_model = False\n",
    "\n",
    "if inspect_spot_model:\n",
    "    # Inspecting the Spot Model\n",
    "    visualizer = ModelVisualizer(meshcat=meshcat)\n",
    "    sponana.utils.configure_parser(visualizer.parser())\n",
    "    visualizer.AddModels(\n",
    "        url=\"package://manipulation/spot/spot_with_arm_and_floating_base_actuators.urdf\"\n",
    "    )\n",
    "    visualizer.Run(loop_once=not running_as_notebook)\n",
    "    meshcat.DeleteAddedControls()"
   ]
  },
  {
   "cell_type": "code",
   "execution_count": 139,
   "metadata": {},
   "outputs": [],
   "source": [
    "# Re-load the model (in case file changed).\n",
    "from sponana.perception import BananaSpotter"
   ]
  },
  {
   "cell_type": "markdown",
   "metadata": {},
   "source": []
  },
  {
   "cell_type": "code",
   "execution_count": 127,
   "metadata": {},
   "outputs": [],
   "source": [
    "def create_scene(scenario_data: str):\n",
    "    # Clean up the Meshcat instance.\n",
    "    meshcat.Delete()\n",
    "    meshcat.DeleteAddedControls()\n",
    "\n",
    "    builder = DiagramBuilder()\n",
    "    scenario = load_scenario(data=scenario_data)\n",
    "    station = builder.AddSystem(\n",
    "        MakeHardwareStation(\n",
    "            scenario, meshcat, parser_preload_callback=sponana.utils.configure_parser\n",
    "        )\n",
    "    )\n",
    "\n",
    "    controller_plant = station.GetSubsystemByName(\n",
    "        \"spot.controller\"\n",
    "    ).get_multibody_plant_for_control()\n",
    "\n",
    "    # Pose Sliders\n",
    "    teleop = builder.AddSystem(\n",
    "        JointSliders(\n",
    "            meshcat,\n",
    "            controller_plant,\n",
    "            controller_plant.GetPositions(controller_plant.CreateDefaultContext()),\n",
    "            step=0.05,\n",
    "            decrement_keycodes=[\"ArrowLeft\", \"ArrowDown\", \"KeyA\"] + [\"\"] * 7,\n",
    "            increment_keycodes=[\"ArrowRight\", \"ArrowUp\", \"KeyD\"] + [\"\"] * 7,\n",
    "        )\n",
    "    )\n",
    "    teleop.set_name(\"teleop\")\n",
    "    desired_state_from_position = builder.AddSystem(\n",
    "        StateInterpolatorWithDiscreteDerivative(\n",
    "            10, 0.05, suppress_initial_transient=True\n",
    "        )\n",
    "    )\n",
    "    builder.Connect(\n",
    "        teleop.get_output_port(), desired_state_from_position.get_input_port()\n",
    "    )\n",
    "    builder.Connect(\n",
    "        desired_state_from_position.get_output_port(),\n",
    "        station.GetInputPort(\"spot.desired_state\"),\n",
    "    )\n",
    "\n",
    "    # Camera to Perception\n",
    "    camera0 = station.GetSubsystemByName(\"rgbd_sensor_camera0\")\n",
    "    banana_spotter = builder.AddSystem(BananaSpotter(camera0))\n",
    "    banana_spotter.set_name(\"banana_spotter\")\n",
    "    builder.Connect(\n",
    "        station.GetOutputPort(\"camera0.rgb_image\"),\n",
    "        banana_spotter.get_color_image_input_port(),\n",
    "    )\n",
    "    builder.Connect(\n",
    "        station.GetOutputPort(\"camera0.depth_image\"),\n",
    "        banana_spotter.get_depth_image_input_port(),\n",
    "    )\n",
    "\n",
    "    diagram = builder.Build()\n",
    "    diagram.set_name(\"everything\")  # the outmost diagram\n",
    "    return diagram"
   ]
  },
  {
   "cell_type": "code",
   "execution_count": 128,
   "metadata": {},
   "outputs": [],
   "source": [
    "def run_simulation(scenario_data, finish_time=2.0):\n",
    "    diagram = create_scene(scenario_data)\n",
    "    simulator = Simulator(diagram)\n",
    "    simulator.Initialize()\n",
    "    simulator.set_target_realtime_rate(1.0)\n",
    "\n",
    "    if finish_time <= 0:\n",
    "        # keep simulation running\n",
    "        meshcat.AddButton(\"Stop Simulation\", \"Escape\")\n",
    "        print(\"Press Escape to stop the simulation\")\n",
    "        while meshcat.GetButtonClicks(\"Stop Simulation\") < 1:\n",
    "            simulator.AdvanceTo(simulator.get_context().get_time() + 0.1)\n",
    "        meshcat.DeleteButton(\"Stop Simulation\")\n",
    "    else:\n",
    "        # run similator for a fixed duration and publish recording\n",
    "        meshcat.StartRecording()\n",
    "        simulator.AdvanceTo(finish_time)\n",
    "        meshcat.PublishRecording()\n",
    "    return diagram, simulator"
   ]
  },
  {
   "cell_type": "code",
   "execution_count": 129,
   "metadata": {},
   "outputs": [],
   "source": [
    "scenario_data = \"\"\"\n",
    "cameras:\n",
    "    spot_camera:\n",
    "        name: camera0\n",
    "        depth: True\n",
    "        X_PB:\n",
    "            translation: [0, 0.01, 0]\n",
    "            base_frame: camera0::base\n",
    "            rotation: !Rpy { deg: [40, 180, 180] }\n",
    "\n",
    "directives:\n",
    "- add_model:\n",
    "    name: spot\n",
    "    file: package://manipulation/spot/spot_with_arm_and_floating_base_actuators.urdf\n",
    "    default_joint_positions:\n",
    "        arm_sh1: [-3.1]\n",
    "        arm_el0: [3.1]\n",
    "    \n",
    "- add_model:\n",
    "    name: banana\n",
    "    file: package://sponana/banana/banana.sdf\n",
    "    default_free_body_pose:\n",
    "        banana:\n",
    "            # move it in front of Spot \n",
    "            translation: [0.45, 0, 0.05]\n",
    "\n",
    "- add_model:\n",
    "    name: floor\n",
    "    file: package://sponana/platform.sdf\n",
    "\n",
    "- add_weld:\n",
    "    parent: world\n",
    "    child: floor::platform_center\n",
    "\n",
    "- add_model:\n",
    "    name: camera0\n",
    "    file: package://manipulation/camera_box.sdf\n",
    "\n",
    "- add_weld:\n",
    "    parent: spot::body\n",
    "    child: camera0::base\n",
    "    X_PC:\n",
    "        translation: [0.4, 0, 0]\n",
    "        # Point slightly down towards camera\n",
    "        rotation: !Rpy { deg: [-20, 0, -90] }\n",
    "\n",
    "model_drivers:\n",
    "    spot: !InverseDynamicsDriver {}\n",
    "\"\"\""
   ]
  },
  {
   "cell_type": "code",
   "execution_count": 131,
   "metadata": {},
   "outputs": [
    {
     "name": "stderr",
     "output_type": "stream",
     "text": [
      "WARNING:drake:Ignoring Meshcat http request for /spot_mat.png\n"
     ]
    },
    {
     "name": "stderr",
     "output_type": "stream",
     "text": [
      "WARNING:drake:Ignoring Meshcat http request for /spot_mat.png\n",
      "WARNING:drake:Ignoring Meshcat http request for /spot_mat.png\n",
      "WARNING:drake:Ignoring Meshcat http request for /spot_mat.png\n"
     ]
    }
   ],
   "source": [
    "diagram, simulator = run_simulation(scenario_data, finish_time=1)"
   ]
  },
  {
   "cell_type": "code",
   "execution_count": 132,
   "metadata": {},
   "outputs": [
    {
     "name": "stdout",
     "output_type": "stream",
     "text": [
      "has_banana [1.]\n"
     ]
    },
    {
     "data": {
      "image/png": "[encoded data removed]",
      "text/plain": [
       "<Figure size 1000x400 with 2 Axes>"
      ]
     },
     "metadata": {},
     "output_type": "display_data"
    }
   ],
   "source": [
    "# test banana spotter\n",
    "context = simulator.get_mutable_context()\n",
    "banana_spotter = diagram.GetSubsystemByName(\"banana_spotter\")\n",
    "context = banana_spotter.GetMyContextFromRoot(context)\n",
    "has_banana = banana_spotter.GetOutputPort(\"has_banana\").Eval(context)\n",
    "print(\"has_banana\", has_banana)  # this value is currently being hard-coded\n",
    "# notice that re-running this cell will not re-plot the images due to caching"
   ]
  },
  {
   "cell_type": "code",
   "execution_count": null,
   "metadata": {},
   "outputs": [],
   "source": [
    "# another way to get the images directly\n",
    "context = simulator.get_mutable_context()\n",
    "station = diagram.GetSubsystemByName(\"station\")\n",
    "context = station.GetMyContextFromRoot(context)\n",
    "color_image = station.GetOutputPort(\"camera0.rgb_image\").Eval(context)\n",
    "depth_image = station.GetOutputPort(\"camera0.depth_image\").Eval(context)\n",
    "plt.figure(figsize=(10, 4))\n",
    "plt.subplot(1, 2, 1)\n",
    "plt.imshow(color_image.data)\n",
    "plt.subplot(1, 2, 2)\n",
    "plt.imshow(depth_image.data)"
   ]
  },
  {
   "cell_type": "code",
   "execution_count": 136,
   "metadata": {},
   "outputs": [
    {
     "name": "stdout",
     "output_type": "stream",
     "text": [
      "intrinsics [[579.41125497   0.         319.5       ]\n",
      " [  0.         579.41125497 239.5       ]\n",
      " [  0.           0.           1.        ]]\n",
      "focal length 579.4112549695427 579.4112549695427\n",
      "field of view 1.009191289973297 0.7853981633974485\n"
     ]
    }
   ],
   "source": [
    "# camera intrinsics\n",
    "camera0 = station.GetSubsystemByName(\"rgbd_sensor_camera0\")\n",
    "camera_info = camera0.depth_camera_info()\n",
    "print(\"intrinsics\", camera_info.intrinsic_matrix())\n",
    "print(\"focal length\", camera_info.focal_x(), camera_info.focal_y())\n",
    "print(\"field of view\", camera_info.fov_x(), camera_info.fov_y())"
   ]
  },
  {
   "cell_type": "code",
   "execution_count": null,
   "metadata": {},
   "outputs": [],
   "source": [
    "display(\n",
    "    SVG(\n",
    "        pydot.graph_from_dot_data(diagram.GetGraphvizString(max_depth=1))[\n",
    "            0\n",
    "        ].create_svg()\n",
    "    )\n",
    ")"
   ]
  },
  {
   "cell_type": "code",
   "execution_count": null,
   "metadata": {},
   "outputs": [],
   "source": []
  }
 ],
 "metadata": {
  "kernelspec": {
   "display_name": "sponana",
   "language": "python",
   "name": "python3"
  },
  "language_info": {
   "codemirror_mode": {
    "name": "ipython",
    "version": 3
   },
   "file_extension": ".py",
   "mimetype": "text/x-python",
   "name": "python",
   "nbconvert_exporter": "python",
   "pygments_lexer": "ipython3",
   "version": "3.11.5"
  }
 },
 "nbformat": 4,
 "nbformat_minor": 2
}
