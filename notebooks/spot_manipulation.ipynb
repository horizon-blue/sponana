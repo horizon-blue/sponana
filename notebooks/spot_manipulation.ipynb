{
 "cells": [
  {
   "cell_type": "code",
   "execution_count": 1,
   "metadata": {},
   "outputs": [],
   "source": [
    "%load_ext autoreload\n",
    "%autoreload 2"
   ]
  },
  {
   "cell_type": "code",
   "execution_count": 2,
   "metadata": {},
   "outputs": [],
   "source": [
    "from pydrake.all import (\n",
    "    ModelVisualizer,\n",
    "    StartMeshcat,\n",
    "    Simulator,\n",
    "    DiagramBuilder,\n",
    "    LogVectorOutput,\n",
    ")\n",
    "\n",
    "from manipulation import running_as_notebook\n",
    "from manipulation.station import MakeHardwareStation, load_scenario\n",
    "import matplotlib.pyplot as plt\n",
    "import numpy as np\n",
    "\n",
    "import sponana.utils\n",
    "from sponana.perception import (\n",
    "    BananaSpotter,\n",
    "    add_camera_pose_extractor,\n",
    "    add_body_pose_extractor,\n",
    ")\n",
    "from sponana.controller import SpotController, solve_ik\n",
    "from sponana.debug_logger import DebugLogger"
   ]
  },
  {
   "cell_type": "code",
   "execution_count": 3,
   "metadata": {},
   "outputs": [
    {
     "name": "stderr",
     "output_type": "stream",
     "text": [
      "INFO:drake:Meshcat listening for connections at http://localhost:7001\n"
     ]
    }
   ],
   "source": [
    "# Start the visualizer.\n",
    "meshcat = StartMeshcat()"
   ]
  },
  {
   "cell_type": "code",
   "execution_count": 4,
   "metadata": {},
   "outputs": [],
   "source": [
    "inspect_spot_model = False\n",
    "\n",
    "if inspect_spot_model:\n",
    "    # Inspecting the Spot Model\n",
    "    visualizer = ModelVisualizer(meshcat=meshcat)\n",
    "    sponana.utils.configure_parser(visualizer.parser())\n",
    "    visualizer.AddModels(\n",
    "        url=\"package://manipulation/spot/spot_with_arm_and_floating_base_actuators.urdf\"\n",
    "    )\n",
    "    visualizer.Run(loop_once=not running_as_notebook)\n",
    "    meshcat.DeleteAddedControls()"
   ]
  },
  {
   "cell_type": "markdown",
   "metadata": {},
   "source": []
  },
  {
   "cell_type": "code",
   "execution_count": 63,
   "metadata": {},
   "outputs": [],
   "source": [
    "def create_scene(scenario_data: str, debug: bool = True):\n",
    "    # Clean up the Meshcat instance.\n",
    "    meshcat.Delete()\n",
    "    meshcat.DeleteAddedControls()\n",
    "\n",
    "    builder = DiagramBuilder()\n",
    "    scenario = load_scenario(data=scenario_data)\n",
    "    station = builder.AddSystem(\n",
    "        MakeHardwareStation(\n",
    "            scenario, meshcat, parser_preload_callback=sponana.utils.configure_parser\n",
    "        )\n",
    "    )\n",
    "\n",
    "    spot_plant = station.GetSubsystemByName(\n",
    "        \"spot.controller\"\n",
    "    ).get_multibody_plant_for_control()\n",
    "    spot_controller = builder.AddSystem(SpotController(spot_plant, meshcat=meshcat))\n",
    "    builder.Connect(\n",
    "        spot_controller.get_output_port(),\n",
    "        station.GetInputPort(\"spot.desired_state\"),\n",
    "    )\n",
    "\n",
    "    # Get camera poses\n",
    "    spot_camera_config = scenario.cameras[\"spot_camera\"]\n",
    "    camera_pose_extractor = add_camera_pose_extractor(\n",
    "        spot_camera_config, station, builder\n",
    "    )\n",
    "\n",
    "    # Camera to Perception\n",
    "    spot_camera = station.GetSubsystemByName(\"rgbd_sensor_spot_camera\")\n",
    "    banana_spotter = builder.AddSystem(BananaSpotter(spot_camera))\n",
    "    banana_spotter.set_name(\"banana_spotter\")\n",
    "    builder.Connect(\n",
    "        station.GetOutputPort(\"spot_camera.rgb_image\"),\n",
    "        banana_spotter.get_color_image_input_port(),\n",
    "    )\n",
    "    builder.Connect(\n",
    "        station.GetOutputPort(\"spot_camera.depth_image\"),\n",
    "        banana_spotter.get_depth_image_input_port(),\n",
    "    )\n",
    "\n",
    "    # Banana pose (for debugging)\n",
    "    banana_pose_extractor = add_body_pose_extractor(\n",
    "        \"banana\", \"banana\", station, builder\n",
    "    )\n",
    "    builder.Connect(\n",
    "        banana_pose_extractor.get_output_port(),\n",
    "        spot_controller.GetInputPort(\"desired_gripper_pose\"),\n",
    "    )\n",
    "\n",
    "    if debug:\n",
    "        # Connect debugger\n",
    "        debugger = builder.AddNamedSystem(\n",
    "            \"debug_logger\", DebugLogger(spot_camera, meshcat)\n",
    "        )\n",
    "        builder.Connect(\n",
    "            station.GetOutputPort(\"spot_camera.rgb_image\"),\n",
    "            debugger.get_color_image_input_port(),\n",
    "        )\n",
    "        builder.Connect(\n",
    "            station.GetOutputPort(\"spot_camera.depth_image\"),\n",
    "            debugger.get_depth_image_input_port(),\n",
    "        )\n",
    "        builder.Connect(\n",
    "            camera_pose_extractor.get_output_port(),\n",
    "            debugger.get_camera_pose_input_port(),\n",
    "        )\n",
    "        builder.Connect(\n",
    "            station.GetOutputPort(\"spot.state_estimated\"),\n",
    "            debugger.get_spot_state_input_port(),\n",
    "        )\n",
    "        builder.Connect(\n",
    "            banana_pose_extractor.get_output_port(),\n",
    "            debugger.get_banana_pose_input_port(),\n",
    "        )\n",
    "\n",
    "    diagram = builder.Build()\n",
    "    diagram.set_name(\"everything\")  # the outmost diagram\n",
    "    return diagram"
   ]
  },
  {
   "cell_type": "code",
   "execution_count": 25,
   "metadata": {},
   "outputs": [],
   "source": [
    "scenario_data = \"\"\"\n",
    "cameras:\n",
    "    spot_camera:\n",
    "        name: spot_camera\n",
    "        depth: True\n",
    "        X_PB:\n",
    "            translation: [0, 0.05, 0]\n",
    "            base_frame: spot_camera::base\n",
    "            rotation: !Rpy { deg: [-90, 0, 0] }\n",
    "\n",
    "directives:\n",
    "- add_model:\n",
    "    name: spot\n",
    "    file: package://manipulation/spot/spot_with_arm_and_floating_base_actuators.urdf\n",
    "    default_joint_positions:\n",
    "        arm_sh1: [-3.1]\n",
    "        arm_el0: [3.1]\n",
    "    \n",
    "- add_model:\n",
    "    name: banana\n",
    "    file: package://sponana/banana/banana.sdf\n",
    "    default_free_body_pose:\n",
    "        banana:\n",
    "            # move it in front of Spot \n",
    "            translation: [0.45, 0, 0.05]\n",
    "\n",
    "- add_model:\n",
    "    name: floor\n",
    "    file: package://sponana/platform.sdf\n",
    "\n",
    "- add_weld:\n",
    "    parent: world\n",
    "    child: floor::platform_center\n",
    "\n",
    "- add_model:\n",
    "    name: spot_camera\n",
    "    file: package://manipulation/camera_box.sdf\n",
    "\n",
    "- add_weld:\n",
    "    parent: spot::body\n",
    "    child: spot_camera::base\n",
    "    X_PC:\n",
    "        translation: [0.4, 0, 0]\n",
    "        rotation: !Rpy { deg: [-30, 0, -90] }\n",
    "\n",
    "model_drivers:\n",
    "    spot: !InverseDynamicsDriver {}\n",
    "\"\"\""
   ]
  },
  {
   "cell_type": "code",
   "execution_count": 30,
   "metadata": {},
   "outputs": [
    {
     "name": "stdout",
     "output_type": "stream",
     "text": [
      "Logging system info...\n",
      "Camera pose: RigidTransform(\n",
      "  R=RotationMatrix([\n",
      "    [1.583848449927165e-08, -0.49999999999999983, 0.8660254037844386],\n",
      "    [-0.9999999999999999, -7.919242249635822e-09, 1.3716529933815306e-08],\n",
      "    [0.0, -0.8660254037844387, -0.4999999999999999],\n",
      "  ]),\n",
      "  p=[-0.009380219096421213, 6.873976304740825e-09, 0.495],\n",
      ")\n"
     ]
    },
    {
     "data": {
      "image/png": "[encoded data removed]",
      "text/plain": [
       "<Figure size 1000x400 with 2 Axes>"
      ]
     },
     "metadata": {},
     "output_type": "display_data"
    }
   ],
   "source": [
    "diagram = create_scene(scenario_data)\n",
    "simulator = Simulator(diagram)\n",
    "sponana.utils.run_simulation(simulator, meshcat, finish_time=-1)"
   ]
  },
  {
   "cell_type": "code",
   "execution_count": 36,
   "metadata": {},
   "outputs": [
    {
     "name": "stdout",
     "output_type": "stream",
     "text": [
      "has_banana [1.]\n"
     ]
    }
   ],
   "source": [
    "# test banana spotter\n",
    "context = simulator.get_mutable_context()\n",
    "banana_spotter = diagram.GetSubsystemByName(\"banana_spotter\")\n",
    "context = banana_spotter.GetMyContextFromRoot(context)\n",
    "has_banana = banana_spotter.GetOutputPort(\"has_banana\").Eval(context)\n",
    "print(\"has_banana\", has_banana)  # this value is currently being hard-coded"
   ]
  },
  {
   "cell_type": "code",
   "execution_count": null,
   "metadata": {},
   "outputs": [],
   "source": [
    "# another way to get the images directly\n",
    "context = simulator.get_mutable_context()\n",
    "station = diagram.GetSubsystemByName(\"station\")\n",
    "context = station.GetMyContextFromRoot(context)\n",
    "color_image = station.GetOutputPort(\"spot_camera.rgb_image\").Eval(context)\n",
    "depth_image = station.GetOutputPort(\"spot_camera.depth_image\").Eval(context)\n",
    "plt.figure(figsize=(10, 4))\n",
    "plt.subplot(1, 2, 1)\n",
    "plt.imshow(color_image.data)\n",
    "plt.subplot(1, 2, 2)\n",
    "plt.imshow(depth_image.data)"
   ]
  },
  {
   "cell_type": "code",
   "execution_count": 38,
   "metadata": {},
   "outputs": [
    {
     "name": "stdout",
     "output_type": "stream",
     "text": [
      "intrinsics [[579.41125497   0.         319.5       ]\n",
      " [  0.         579.41125497 239.5       ]\n",
      " [  0.           0.           1.        ]]\n",
      "focal length 579.4112549695427 579.4112549695427\n",
      "field of view 1.009191289973297 0.7853981633974485\n"
     ]
    }
   ],
   "source": [
    "# camera intrinsics\n",
    "spot_camera = station.GetSubsystemByName(\"rgbd_sensor_spot_camera\")\n",
    "camera_info = spot_camera.depth_camera_info()\n",
    "print(\"intrinsics\", camera_info.intrinsic_matrix())\n",
    "print(\"focal length\", camera_info.focal_x(), camera_info.focal_y())\n",
    "print(\"field of view\", camera_info.fov_x(), camera_info.fov_y())"
   ]
  },
  {
   "cell_type": "code",
   "execution_count": null,
   "metadata": {},
   "outputs": [],
   "source": [
    "sponana.utils.visualize_diagram(diagram, max_depth=1)"
   ]
  },
  {
   "cell_type": "code",
   "execution_count": null,
   "metadata": {},
   "outputs": [],
   "source": []
  }
 ],
 "metadata": {
  "kernelspec": {
   "display_name": "sponana",
   "language": "python",
   "name": "python3"
  },
  "language_info": {
   "codemirror_mode": {
    "name": "ipython",
    "version": 3
   },
   "file_extension": ".py",
   "mimetype": "text/x-python",
   "name": "python",
   "nbconvert_exporter": "python",
   "pygments_lexer": "ipython3",
   "version": "3.11.5"
  }
 },
 "nbformat": 4,
 "nbformat_minor": 2
}
