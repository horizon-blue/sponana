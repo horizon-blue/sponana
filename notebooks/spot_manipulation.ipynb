{
 "cells": [
  {
   "cell_type": "code",
   "execution_count": 8,
   "metadata": {},
   "outputs": [
    {
     "name": "stdout",
     "output_type": "stream",
     "text": [
      "The autoreload extension is already loaded. To reload it, use:\n",
      "  %reload_ext autoreload\n"
     ]
    }
   ],
   "source": [
    "%load_ext autoreload\n",
    "%autoreload 2"
   ]
  },
  {
   "cell_type": "code",
   "execution_count": 9,
   "metadata": {},
   "outputs": [],
   "source": [
    "from pydrake.all import (\n",
    "    ModelVisualizer,\n",
    "    StartMeshcat,\n",
    "    Simulator,\n",
    "    DiagramBuilder,\n",
    ")\n",
    "\n",
    "from manipulation import running_as_notebook\n",
    "from manipulation.station import MakeHardwareStation, load_scenario\n",
    "import matplotlib.pyplot as plt\n",
    "import numpy as np\n",
    "\n",
    "import sponana.utils\n",
    "from sponana.perception import (\n",
    "    BananaSpotter,\n",
    "    add_camera_pose_extractor,\n",
    "    add_body_pose_extractor,\n",
    ")\n",
    "from sponana.controller import SpotController, solve_ik\n",
    "from sponana.debug_logger import DebugLogger\n",
    "from sponana.planner import Navigator"
   ]
  },
  {
   "cell_type": "code",
   "execution_count": 10,
   "metadata": {},
   "outputs": [
    {
     "name": "stderr",
     "output_type": "stream",
     "text": [
      "INFO:drake:Meshcat listening for connections at http://localhost:7001\n"
     ]
    }
   ],
   "source": [
    "# Start the visualizer.\n",
    "meshcat = StartMeshcat()"
   ]
  },
  {
   "cell_type": "code",
   "execution_count": 11,
   "metadata": {},
   "outputs": [],
   "source": [
    "inspect_spot_model = False\n",
    "\n",
    "if inspect_spot_model:\n",
    "    # Inspecting the Spot Model\n",
    "    visualizer = ModelVisualizer(meshcat=meshcat)\n",
    "    sponana.utils.configure_parser(visualizer.parser())\n",
    "    visualizer.AddModels(\n",
    "        url=\"package://manipulation/spot/spot_with_arm_and_floating_base_actuators.urdf\"\n",
    "    )\n",
    "    visualizer.Run(loop_once=not running_as_notebook)\n",
    "    meshcat.DeleteAddedControls()"
   ]
  },
  {
   "cell_type": "markdown",
   "metadata": {},
   "source": []
  },
  {
   "cell_type": "code",
   "execution_count": 12,
   "metadata": {},
   "outputs": [],
   "source": [
    "def create_scene(scenario_data: str, debug: bool = True):\n",
    "    # Clean up the Meshcat instance.\n",
    "    meshcat.Delete()\n",
    "    meshcat.DeleteAddedControls()\n",
    "\n",
    "    builder = DiagramBuilder()\n",
    "    scenario = load_scenario(data=scenario_data)\n",
    "    station = builder.AddSystem(\n",
    "        MakeHardwareStation(\n",
    "            scenario, meshcat, parser_preload_callback=sponana.utils.configure_parser\n",
    "        )\n",
    "    )\n",
    "\n",
    "    spot_plant = station.GetSubsystemByName(\n",
    "        \"spot.controller\"\n",
    "    ).get_multibody_plant_for_control()\n",
    "    spot_controller = builder.AddSystem(\n",
    "        SpotController(spot_plant, meshcat=meshcat, use_teleop=False)\n",
    "    )\n",
    "    builder.Connect(\n",
    "        spot_controller.get_output_port(),\n",
    "        station.GetInputPort(\"spot.desired_state\"),\n",
    "    )\n",
    "\n",
    "    # planner\n",
    "    planner = builder.AddNamedSystem(\"navigator\", Navigator(meshcat=meshcat))\n",
    "    builder.Connect(\n",
    "        station.GetOutputPort(\"spot.state_estimated\"),\n",
    "        planner.get_spot_state_input_port(),\n",
    "    )\n",
    "    builder.Connect(\n",
    "        planner.get_output_port(),\n",
    "        spot_controller.GetInputPort(\"desired_base_position\"),\n",
    "    )\n",
    "\n",
    "    # Get camera poses\n",
    "    spot_camera_config = scenario.cameras[\"spot_camera\"]\n",
    "    camera_pose_extractor = add_camera_pose_extractor(\n",
    "        spot_camera_config, station, builder\n",
    "    )\n",
    "\n",
    "    # Camera to Perception\n",
    "    spot_camera = station.GetSubsystemByName(\"rgbd_sensor_spot_camera\")\n",
    "    banana_spotter = builder.AddSystem(BananaSpotter(spot_camera))\n",
    "    banana_spotter.set_name(\"banana_spotter\")\n",
    "    builder.Connect(\n",
    "        station.GetOutputPort(\"spot_camera.rgb_image\"),\n",
    "        banana_spotter.get_color_image_input_port(),\n",
    "    )\n",
    "    builder.Connect(\n",
    "        station.GetOutputPort(\"spot_camera.depth_image\"),\n",
    "        banana_spotter.get_depth_image_input_port(),\n",
    "    )\n",
    "\n",
    "    # Banana pose (for debugging)\n",
    "    banana_pose_extractor = add_body_pose_extractor(\n",
    "        \"banana\", \"banana\", station, builder\n",
    "    )\n",
    "    builder.Connect(\n",
    "        banana_pose_extractor.get_output_port(),\n",
    "        spot_controller.GetInputPort(\"desired_gripper_pose\"),\n",
    "    )\n",
    "\n",
    "    if debug:\n",
    "        # Connect debugger\n",
    "        debugger = builder.AddNamedSystem(\n",
    "            \"debug_logger\", DebugLogger(spot_camera, meshcat)\n",
    "        )\n",
    "        builder.Connect(\n",
    "            station.GetOutputPort(\"spot_camera.rgb_image\"),\n",
    "            debugger.get_color_image_input_port(),\n",
    "        )\n",
    "        builder.Connect(\n",
    "            station.GetOutputPort(\"spot_camera.depth_image\"),\n",
    "            debugger.get_depth_image_input_port(),\n",
    "        )\n",
    "        builder.Connect(\n",
    "            camera_pose_extractor.get_output_port(),\n",
    "            debugger.get_camera_pose_input_port(),\n",
    "        )\n",
    "        builder.Connect(\n",
    "            station.GetOutputPort(\"spot.state_estimated\"),\n",
    "            debugger.get_spot_state_input_port(),\n",
    "        )\n",
    "        builder.Connect(\n",
    "            banana_pose_extractor.get_output_port(),\n",
    "            debugger.get_banana_pose_input_port(),\n",
    "        )\n",
    "\n",
    "    diagram = builder.Build()\n",
    "    diagram.set_name(\"everything\")  # the outmost diagram\n",
    "    return diagram"
   ]
  },
  {
   "cell_type": "code",
   "execution_count": 13,
   "metadata": {},
   "outputs": [],
   "source": [
    "scenario_data = \"\"\"\n",
    "cameras:\n",
    "    spot_camera:\n",
    "        name: spot_camera\n",
    "        depth: True\n",
    "        X_PB:\n",
    "            translation: [0, 0.05, 0]\n",
    "            base_frame: spot_camera::base\n",
    "            rotation: !Rpy { deg: [-90, 0, 0] }\n",
    "\n",
    "directives:\n",
    "- add_model:\n",
    "    name: spot\n",
    "    file: package://manipulation/spot/spot_with_arm_and_floating_base_actuators.urdf\n",
    "    default_joint_positions:\n",
    "        arm_sh1: [-3.1]\n",
    "        arm_el0: [3.1]\n",
    "    \n",
    "- add_model:\n",
    "    name: banana\n",
    "    file: package://sponana/banana/banana.sdf\n",
    "    default_free_body_pose:\n",
    "        banana:\n",
    "            # move it in front of Spot \n",
    "            translation: [1.45, 0, 0.05]\n",
    "\n",
    "- add_model:\n",
    "    name: floor\n",
    "    file: package://sponana/platform.sdf\n",
    "\n",
    "- add_weld:\n",
    "    parent: world\n",
    "    child: floor::platform_center\n",
    "\n",
    "- add_model:\n",
    "    name: spot_camera\n",
    "    file: package://manipulation/camera_box.sdf\n",
    "\n",
    "- add_weld:\n",
    "    parent: spot::body\n",
    "    child: spot_camera::base\n",
    "    X_PC:\n",
    "        translation: [0.4, 0, 0]\n",
    "        rotation: !Rpy { deg: [-30, 0, -90] }\n",
    "\n",
    "model_drivers:\n",
    "    spot: !InverseDynamicsDriver {}\n",
    "\"\"\""
   ]
  },
  {
   "cell_type": "code",
   "execution_count": 14,
   "metadata": {},
   "outputs": [
    {
     "name": "stdout",
     "output_type": "stream",
     "text": [
      "Press Space to log system info\n",
      "trajectory [array([0., 0., 0.]), array([0.12631579, 0.06052632, 0.08684211]), array([0.25263158, 0.12105263, 0.17368421]), array([0.37894737, 0.18157895, 0.26052632]), array([0.50526316, 0.24210526, 0.34736842]), array([0.63157895, 0.30263158, 0.43421053]), array([0.75789474, 0.36315789, 0.52105263]), array([0.88421053, 0.42368421, 0.60789474]), array([1.01052632, 0.48421053, 0.69473684]), array([1.13684211, 0.54473684, 0.78157895]), array([1.26315789, 0.60526316, 0.86842105]), array([1.38947368, 0.66578947, 0.95526316]), array([1.51578947, 0.72631579, 1.04210526]), array([1.64210526, 0.78684211, 1.12894737]), array([1.76842105, 0.84736842, 1.21578947]), array([1.89473684, 0.90789474, 1.30263158]), array([2.02105263, 0.96842105, 1.38947368]), array([2.14736842, 1.02894737, 1.47631579]), array([2.27368421, 1.08947368, 1.56315789]), array([2.4 , 1.15, 1.65])]\n",
      "Press Escape to stop the simulation\n"
     ]
    },
    {
     "name": "stderr",
     "output_type": "stream",
     "text": [
      "==== LCM Warning ===\n",
      "LCM detected that large packets are being received, but the kernel UDP\n",
      "receive buffer is very small.  The possibility of dropping packets due to\n",
      "insufficient buffer space is very high.\n",
      "\n",
      "For more information, visit:\n",
      "   http://lcm-proj.github.io/lcm/multicast_setup.html\n",
      "\n",
      "WARNING:drake:Ignoring Meshcat http request for /spot_mat.png\n",
      "WARNING:drake:Ignoring Meshcat http request for /spot_mat.png\n",
      "WARNING:drake:Ignoring Meshcat http request for /spot_mat.png\n",
      "WARNING:drake:Ignoring Meshcat http request for /spot_mat.png\n",
      "WARNING:drake:Ignoring Meshcat http request for /spot_mat.png\n"
     ]
    },
    {
     "ename": "KeyboardInterrupt",
     "evalue": "",
     "output_type": "error",
     "traceback": [
      "\u001b[0;31m---------------------------------------------------------------------------\u001b[0m",
      "\u001b[0;31mKeyboardInterrupt\u001b[0m                         Traceback (most recent call last)",
      "\u001b[1;32m/home/rarama/Documents/research/sponana/notebooks/spot_manipulation.ipynb Cell 8\u001b[0m line \u001b[0;36m3\n\u001b[1;32m      <a href='vscode-notebook-cell:/home/rarama/Documents/research/sponana/notebooks/spot_manipulation.ipynb#X10sZmlsZQ%3D%3D?line=0'>1</a>\u001b[0m diagram \u001b[39m=\u001b[39m create_scene(scenario_data)\n\u001b[1;32m      <a href='vscode-notebook-cell:/home/rarama/Documents/research/sponana/notebooks/spot_manipulation.ipynb#X10sZmlsZQ%3D%3D?line=1'>2</a>\u001b[0m simulator \u001b[39m=\u001b[39m Simulator(diagram)\n\u001b[0;32m----> <a href='vscode-notebook-cell:/home/rarama/Documents/research/sponana/notebooks/spot_manipulation.ipynb#X10sZmlsZQ%3D%3D?line=2'>3</a>\u001b[0m sponana\u001b[39m.\u001b[39;49mutils\u001b[39m.\u001b[39;49mrun_simulation(simulator, meshcat, finish_time\u001b[39m=\u001b[39;49m\u001b[39m-\u001b[39;49m\u001b[39m1\u001b[39;49m)\n",
      "File \u001b[0;32m~/Documents/research/sponana/src/sponana/utils.py:51\u001b[0m, in \u001b[0;36mrun_simulation\u001b[0;34m(simulator, meshcat, finish_time)\u001b[0m\n\u001b[1;32m     49\u001b[0m     \u001b[39mprint\u001b[39m(\u001b[39m\"\u001b[39m\u001b[39mPress Escape to stop the simulation\u001b[39m\u001b[39m\"\u001b[39m)\n\u001b[1;32m     50\u001b[0m     \u001b[39mwhile\u001b[39;00m meshcat\u001b[39m.\u001b[39mGetButtonClicks(\u001b[39m\"\u001b[39m\u001b[39mStop Simulation\u001b[39m\u001b[39m\"\u001b[39m) \u001b[39m<\u001b[39m \u001b[39m1\u001b[39m:\n\u001b[0;32m---> 51\u001b[0m         simulator\u001b[39m.\u001b[39;49mAdvanceTo(simulator\u001b[39m.\u001b[39;49mget_context()\u001b[39m.\u001b[39;49mget_time() \u001b[39m+\u001b[39;49m \u001b[39m0.1\u001b[39;49m)\n\u001b[1;32m     52\u001b[0m     meshcat\u001b[39m.\u001b[39mDeleteButton(\u001b[39m\"\u001b[39m\u001b[39mStop Simulation\u001b[39m\u001b[39m\"\u001b[39m)\n\u001b[1;32m     53\u001b[0m \u001b[39melse\u001b[39;00m:\n\u001b[1;32m     54\u001b[0m     \u001b[39m# run similator for a fixed duration and publish recording\u001b[39;00m\n",
      "File \u001b[0;32m~/Documents/research/sponana/src/sponana/controller/position_combiner.py:27\u001b[0m, in \u001b[0;36mPositionCombiner._combine_position\u001b[0;34m(self, context, output)\u001b[0m\n\u001b[1;32m     24\u001b[0m \u001b[39mdef\u001b[39;00m \u001b[39mget_arm_position_input_port\u001b[39m(\u001b[39mself\u001b[39m):\n\u001b[1;32m     25\u001b[0m     \u001b[39mreturn\u001b[39;00m \u001b[39mself\u001b[39m\u001b[39m.\u001b[39mget_input_port(\u001b[39m1\u001b[39m)\n\u001b[0;32m---> 27\u001b[0m \u001b[39mdef\u001b[39;00m \u001b[39m_combine_position\u001b[39m(\u001b[39mself\u001b[39m, context: Context, output: BasicVector):\n\u001b[1;32m     28\u001b[0m     base_position \u001b[39m=\u001b[39m \u001b[39mself\u001b[39m\u001b[39m.\u001b[39mget_base_position_input_port()\u001b[39m.\u001b[39mEval(context)[:\u001b[39m3\u001b[39m]\n\u001b[1;32m     29\u001b[0m     arm_position \u001b[39m=\u001b[39m \u001b[39mself\u001b[39m\u001b[39m.\u001b[39mget_arm_position_input_port()\u001b[39m.\u001b[39mEval(context)\n",
      "\u001b[0;31mKeyboardInterrupt\u001b[0m: "
     ]
    }
   ],
   "source": [
    "diagram = create_scene(scenario_data)\n",
    "simulator = Simulator(diagram)\n",
    "sponana.utils.run_simulation(simulator, meshcat, finish_time=-1)"
   ]
  },
  {
   "cell_type": "code",
   "execution_count": null,
   "metadata": {},
   "outputs": [
    {
     "name": "stdout",
     "output_type": "stream",
     "text": [
      "has_banana [1.]\n"
     ]
    }
   ],
   "source": [
    "# test banana spotter\n",
    "context = simulator.get_mutable_context()\n",
    "banana_spotter = diagram.GetSubsystemByName(\"banana_spotter\")\n",
    "context = banana_spotter.GetMyContextFromRoot(context)\n",
    "has_banana = banana_spotter.GetOutputPort(\"has_banana\").Eval(context)\n",
    "print(\"has_banana\", has_banana)  # this value is currently being hard-coded"
   ]
  },
  {
   "cell_type": "code",
   "execution_count": null,
   "metadata": {},
   "outputs": [],
   "source": [
    "# another way to get the images directly\n",
    "context = simulator.get_mutable_context()\n",
    "station = diagram.GetSubsystemByName(\"station\")\n",
    "context = station.GetMyContextFromRoot(context)\n",
    "color_image = station.GetOutputPort(\"spot_camera.rgb_image\").Eval(context)\n",
    "depth_image = station.GetOutputPort(\"spot_camera.depth_image\").Eval(context)\n",
    "plt.figure(figsize=(10, 4))\n",
    "plt.subplot(1, 2, 1)\n",
    "plt.imshow(color_image.data)\n",
    "plt.subplot(1, 2, 2)\n",
    "plt.imshow(depth_image.data)"
   ]
  },
  {
   "cell_type": "code",
   "execution_count": null,
   "metadata": {},
   "outputs": [
    {
     "name": "stdout",
     "output_type": "stream",
     "text": [
      "intrinsics [[579.41125497   0.         319.5       ]\n",
      " [  0.         579.41125497 239.5       ]\n",
      " [  0.           0.           1.        ]]\n",
      "focal length 579.4112549695427 579.4112549695427\n",
      "field of view 1.009191289973297 0.7853981633974485\n"
     ]
    }
   ],
   "source": [
    "# camera intrinsics\n",
    "spot_camera = station.GetSubsystemByName(\"rgbd_sensor_spot_camera\")\n",
    "camera_info = spot_camera.depth_camera_info()\n",
    "print(\"intrinsics\", camera_info.intrinsic_matrix())\n",
    "print(\"focal length\", camera_info.focal_x(), camera_info.focal_y())\n",
    "print(\"field of view\", camera_info.fov_x(), camera_info.fov_y())"
   ]
  },
  {
   "cell_type": "code",
   "execution_count": null,
   "metadata": {},
   "outputs": [],
   "source": [
    "sponana.utils.visualize_diagram(diagram, max_depth=1)"
   ]
  },
  {
   "cell_type": "code",
   "execution_count": null,
   "metadata": {},
   "outputs": [],
   "source": []
  }
 ],
 "metadata": {
  "kernelspec": {
   "display_name": "sponana",
   "language": "python",
   "name": "python3"
  },
  "language_info": {
   "codemirror_mode": {
    "name": "ipython",
    "version": 3
   },
   "file_extension": ".py",
   "mimetype": "text/x-python",
   "name": "python",
   "nbconvert_exporter": "python",
   "pygments_lexer": "ipython3",
   "version": "3.10.12"
  }
 },
 "nbformat": 4,
 "nbformat_minor": 2
}
