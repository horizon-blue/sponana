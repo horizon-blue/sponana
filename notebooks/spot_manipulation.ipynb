{
 "cells": [
  {
   "cell_type": "code",
   "execution_count": 1,
   "metadata": {},
   "outputs": [],
   "source": [
    "%load_ext autoreload\n",
    "%autoreload 2"
   ]
  },
  {
   "cell_type": "code",
   "execution_count": 2,
   "metadata": {},
   "outputs": [],
   "source": [
    "from pydrake.all import (\n",
    "    ModelVisualizer,\n",
    "    StartMeshcat,\n",
    "    Simulator,\n",
    ")\n",
    "import pydot\n",
    "\n",
    "from IPython.display import SVG, display\n",
    "from manipulation import running_as_notebook\n",
    "from manipulation.station import MakeHardwareStation, load_scenario\n",
    "\n",
    "import sponana.utils"
   ]
  },
  {
   "cell_type": "code",
   "execution_count": 3,
   "metadata": {},
   "outputs": [
    {
     "name": "stderr",
     "output_type": "stream",
     "text": [
      "INFO:drake:Meshcat listening for connections at http://localhost:7001\n"
     ]
    }
   ],
   "source": [
    "# Start the visualizer.\n",
    "meshcat = StartMeshcat()"
   ]
  },
  {
   "cell_type": "code",
   "execution_count": 5,
   "metadata": {},
   "outputs": [],
   "source": [
    "inspect_spot_model = False\n",
    "\n",
    "if inspect_spot_model:\n",
    "    # Inspecting the Spot Model\n",
    "    visualizer = ModelVisualizer(meshcat=meshcat)\n",
    "    sponana.utils.configure_parser(visualizer.parser())\n",
    "    visualizer.AddModels(url=\"package://manipulation/spot/spot_with_arm.urdf\")\n",
    "    visualizer.Run(loop_once=not running_as_notebook)\n",
    "    meshcat.DeleteAddedControls()"
   ]
  },
  {
   "cell_type": "code",
   "execution_count": 19,
   "metadata": {},
   "outputs": [],
   "source": [
    "def create_scene(scenario_data: str):\n",
    "    # Clean up the Meshcat instance.\n",
    "    meshcat.Delete()\n",
    "    meshcat.DeleteAddedControls()\n",
    "\n",
    "    scenario = load_scenario(data=scenario_data)\n",
    "    station = MakeHardwareStation(\n",
    "        scenario, meshcat, package_xmls=sponana.utils.PACKAGE_XMLS\n",
    "    )\n",
    "\n",
    "    return station"
   ]
  },
  {
   "cell_type": "code",
   "execution_count": 20,
   "metadata": {},
   "outputs": [],
   "source": [
    "def initialize_simulation(diagram):\n",
    "    simulator = Simulator(diagram)\n",
    "    simulator.Initialize()\n",
    "    simulator.set_target_realtime_rate(1.0)\n",
    "    return simulator\n",
    "\n",
    "\n",
    "def run_simulation(scenario_data):\n",
    "    station = create_scene(scenario_data)\n",
    "    simulator = initialize_simulation(station)\n",
    "    meshcat.StartRecording()\n",
    "    finish_time = 2.0\n",
    "    simulator.AdvanceTo(finish_time)\n",
    "    meshcat.PublishRecording()"
   ]
  },
  {
   "cell_type": "code",
   "execution_count": 9,
   "metadata": {},
   "outputs": [],
   "source": [
    "scenario_data = \"\"\"\n",
    "cameras:\n",
    "    main_camera:\n",
    "        name: camera0\n",
    "        depth: True\n",
    "        X_PB:\n",
    "            base_frame: world\n",
    "            translation: [0, 0, 0.8]\n",
    "            rotation: !Rpy { deg: [180, 0, 90]}\n",
    "directives:\n",
    "- add_model:\n",
    "    name: spot\n",
    "    file: package://manipulation/spot/spot_with_arm.urdf\n",
    "    \n",
    "- add_model:\n",
    "    name: banana\n",
    "    file: package://sponana/banana/banana.sdf\n",
    "\n",
    "- add_model:\n",
    "    name: floor\n",
    "    file: package://sponana/platform.sdf\n",
    "\n",
    "- add_weld:\n",
    "    parent: world\n",
    "    child: floor::platform_center\n",
    "    X_PC:\n",
    "        translation: [0, 0, -.5]\n",
    "\"\"\""
   ]
  },
  {
   "cell_type": "code",
   "execution_count": 45,
   "metadata": {},
   "outputs": [
    {
     "name": "stderr",
     "output_type": "stream",
     "text": [
      "WARNING:drake:warning: Warning parsing Wavefront obj data : Both `d` and `Tr` parameters defined for \"banana\". Use the value of `d` for dissolve (line 9 in .mtl.)\n",
      "WARNING:drake:warning: Both `d` and `Tr` parameters defined for \"banana\". Use the value of `d` for dissolve (line 9 in .mtl.)\n",
      "\n",
      "WARNING:drake:Texture map '/Users/xiaoyan/projects/sponana/src/sponana/models/banana/banana.jpg' has an unsupported bit depth, casting it to uchar channels.\n",
      "ERROR: In vtkPNGReader.cxx, line 132\n",
      "(nullptr): Unknown file type! Not a PNG file!\n",
      "\n",
      "ERROR: In vtkPNGReader.cxx, line 270\n",
      "vtkPNGReader (0x2bdad8a60): Invalid file header: not a PNG file\n",
      "\n",
      "ERROR: In vtkPNGReader.cxx, line 132\n",
      "(nullptr): Unknown file type! Not a PNG file!\n",
      "\n",
      "ERROR: In vtkPNGReader.cxx, line 394\n",
      "vtkPNGReader (0x2bdad8a60): Invalid file header: not a PNG file\n",
      "\n",
      "WARNING:drake:Ignoring Meshcat http request for /spot_mat.png\n"
     ]
    },
    {
     "name": "stderr",
     "output_type": "stream",
     "text": [
      "WARNING:drake:Ignoring Meshcat http request for /spot_mat.png\n",
      "WARNING:drake:Ignoring Meshcat http request for /spot_mat.png\n",
      "WARNING:drake:Ignoring Meshcat http request for /spot_mat.png\n",
      "WARNING:drake:Ignoring Meshcat http request for /spot_mat.png\n",
      "WARNING:drake:Ignoring Meshcat http request for /spot_mat.png\n"
     ]
    }
   ],
   "source": [
    "run_simulation(scenario_data)"
   ]
  },
  {
   "cell_type": "code",
   "execution_count": null,
   "metadata": {},
   "outputs": [],
   "source": [
    "diagram = create_scene(scenario_data)\n",
    "display(\n",
    "    SVG(\n",
    "        pydot.graph_from_dot_data(diagram.GetGraphvizString(max_depth=1))[\n",
    "            0\n",
    "        ].create_svg()\n",
    "    )\n",
    ")"
   ]
  },
  {
   "cell_type": "code",
   "execution_count": null,
   "metadata": {},
   "outputs": [],
   "source": []
  }
 ],
 "metadata": {
  "kernelspec": {
   "display_name": "sponana",
   "language": "python",
   "name": "python3"
  },
  "language_info": {
   "codemirror_mode": {
    "name": "ipython",
    "version": 3
   },
   "file_extension": ".py",
   "mimetype": "text/x-python",
   "name": "python",
   "nbconvert_exporter": "python",
   "pygments_lexer": "ipython3",
   "version": "3.11.5"
  }
 },
 "nbformat": 4,
 "nbformat_minor": 2
}
