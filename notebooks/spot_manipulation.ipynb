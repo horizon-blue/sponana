{
 "cells": [
  {
   "cell_type": "code",
   "execution_count": 41,
   "metadata": {},
   "outputs": [],
   "source": [
    "from pydrake.all import (\n",
    "    ModelVisualizer,\n",
    "    StartMeshcat,\n",
    "    PackageMap,\n",
    "    DiagramBuilder,\n",
    "    AddMultibodyPlantSceneGraph,\n",
    "    RigidTransform,\n",
    "    Parser,\n",
    "    RollPitchYaw,\n",
    "    AddDefaultVisualization,\n",
    "    Simulator,\n",
    ")\n",
    "import pydot\n",
    "\n",
    "from IPython.display import HTML, SVG, display\n",
    "from manipulation import running_as_notebook, ConfigureParser\n",
    "import numpy as np"
   ]
  },
  {
   "cell_type": "code",
   "execution_count": 3,
   "metadata": {},
   "outputs": [
    {
     "name": "stderr",
     "output_type": "stream",
     "text": [
      "INFO:drake:Meshcat listening for connections at http://localhost:7001\n"
     ]
    }
   ],
   "source": [
    "# Start the visualizer.\n",
    "meshcat = StartMeshcat()"
   ]
  },
  {
   "cell_type": "code",
   "execution_count": null,
   "metadata": {},
   "outputs": [],
   "source": [
    "visualizer = ModelVisualizer(meshcat=meshcat)\n",
    "ConfigureParser(visualizer.parser())\n",
    "visualizer.parser().package_map().AddRemote(\n",
    "    package_name=\"spot_description\",\n",
    "    params=PackageMap.RemoteParams(\n",
    "        urls=[\n",
    "            f\"https://github.com/bdaiinstitute/spot_ros2/archive/d429947a1df842ec38f8c6099dde9501945090d6.tar.gz\"\n",
    "        ],\n",
    "        sha256=(\"e4dd471be4e7e822a12afcfd6a94ce7ecbb39e2d4ea406779a96e146a607bf53\"),\n",
    "        strip_prefix=\"spot_ros2-d429947a1df842ec38f8c6099dde9501945090d6/spot_description/\",\n",
    "    ),\n",
    ")\n",
    "visualizer.AddModels(url=\"package://manipulation/spot/spot_with_arm.urdf\")\n",
    "visualizer.Run(loop_once=not running_as_notebook)\n",
    "meshcat.DeleteAddedControls()"
   ]
  },
  {
   "cell_type": "code",
   "execution_count": 111,
   "metadata": {},
   "outputs": [],
   "source": [
    "platform_sdf = \"\"\"<?xml version=\"1.0\"?>\n",
    "    <sdf version=\"1.7\">\n",
    "    <model name=\"platform\">\n",
    "        <link name=\"platform_link\">\n",
    "        <visual name=\"visual\">\n",
    "            <pose>0 0 -0.2 0 0 0</pose>\n",
    "            <geometry>\n",
    "            <box>\n",
    "                <size>10.0 8.1 0.05</size>\n",
    "            </box>\n",
    "            </geometry>\n",
    "            <material>\n",
    "            <diffuse>0.9 0.8 0.7 1.0</diffuse>\n",
    "            </material>\n",
    "        </visual>\n",
    "        <collision name=\"collision\">\n",
    "            <pose>0 0 -0.2  0 0 0</pose>\n",
    "            <geometry>\n",
    "            <box>\n",
    "                <size>10.0 8.1 0.05</size>\n",
    "            </box>\n",
    "            </geometry>\n",
    "        </collision>\n",
    "        </link>\n",
    "        <frame name=\"platform_center\">\n",
    "        <pose relative_to=\"platform_link\">0 0 0.47 0 0 0</pose>\n",
    "        </frame>\n",
    "    </model>\n",
    "    </sdf>\n",
    "    \"\"\""
   ]
  },
  {
   "cell_type": "code",
   "execution_count": 112,
   "metadata": {},
   "outputs": [],
   "source": [
    "def create_scene(sim_time_step):\n",
    "    # Clean up the Meshcat instance.\n",
    "    meshcat.Delete()\n",
    "    meshcat.DeleteAddedControls()\n",
    "\n",
    "    builder = DiagramBuilder()\n",
    "    plant, scene_graph = AddMultibodyPlantSceneGraph(builder, time_step=sim_time_step)\n",
    "    parser = Parser(plant)\n",
    "    # Add the manipulation/package.xml index to the given Parser, so it know\n",
    "    # where to find Spot model\n",
    "    ConfigureParser(parser)\n",
    "\n",
    "    # Loading models.\n",
    "    parser.package_map().AddRemote(\n",
    "        package_name=\"spot_description\",\n",
    "        params=PackageMap.RemoteParams(\n",
    "            urls=[\n",
    "                f\"https://github.com/bdaiinstitute/spot_ros2/archive/d429947a1df842ec38f8c6099dde9501945090d6.tar.gz\"\n",
    "            ],\n",
    "            sha256=(\"e4dd471be4e7e822a12afcfd6a94ce7ecbb39e2d4ea406779a96e146a607bf53\"),\n",
    "            strip_prefix=\"spot_ros2-d429947a1df842ec38f8c6099dde9501945090d6/spot_description/\",\n",
    "        ),\n",
    "    )\n",
    "    parser.AddModels(url=\"package://manipulation/spot/spot_with_arm.urdf\")\n",
    "    parser.AddModelsFromString(platform_sdf, \"sdf\")\n",
    "\n",
    "    # # Weld the table to the world so that it's fixed during the simulation.\n",
    "    platform_frame = plant.GetFrameByName(\"platform_center\")\n",
    "    plant.WeldFrames(plant.world_frame(), platform_frame)\n",
    "    # # Finalize the plant after loading the scene.\n",
    "    plant.Finalize()\n",
    "\n",
    "    # Add visualization to see the geometries.\n",
    "    AddDefaultVisualization(builder=builder, meshcat=meshcat)\n",
    "\n",
    "    diagram = builder.Build()\n",
    "    return diagram"
   ]
  },
  {
   "cell_type": "code",
   "execution_count": 113,
   "metadata": {},
   "outputs": [],
   "source": [
    "def initialize_simulation(diagram):\n",
    "    simulator = Simulator(diagram)\n",
    "    simulator.Initialize()\n",
    "    simulator.set_target_realtime_rate(1.0)\n",
    "    return simulator\n",
    "\n",
    "\n",
    "def run_simulation(sim_time_step):\n",
    "    diagram = create_scene(sim_time_step)\n",
    "    simulator = initialize_simulation(diagram)\n",
    "    meshcat.StartRecording()\n",
    "    finish_time = 2.0\n",
    "    simulator.AdvanceTo(finish_time)\n",
    "    meshcat.PublishRecording()"
   ]
  },
  {
   "cell_type": "code",
   "execution_count": 114,
   "metadata": {},
   "outputs": [
    {
     "name": "stderr",
     "output_type": "stream",
     "text": [
      "WARNING:drake:Ignoring Meshcat http request for /spot_mat.png\n"
     ]
    },
    {
     "name": "stderr",
     "output_type": "stream",
     "text": [
      "WARNING:drake:Ignoring Meshcat http request for /spot_mat.png\n",
      "WARNING:drake:Ignoring Meshcat http request for /spot_mat.png\n",
      "WARNING:drake:Ignoring Meshcat http request for /spot_mat.png\n",
      "WARNING:drake:Ignoring Meshcat http request for /spot_mat.png\n",
      "WARNING:drake:Ignoring Meshcat http request for /spot_mat.png\n"
     ]
    }
   ],
   "source": [
    "run_simulation(0.0001)"
   ]
  },
  {
   "cell_type": "code",
   "execution_count": null,
   "metadata": {},
   "outputs": [],
   "source": [
    "diagram = create_scene(0.001)\n",
    "display(\n",
    "    SVG(\n",
    "        pydot.graph_from_dot_data(diagram.GetGraphvizString(max_depth=1))[\n",
    "            0\n",
    "        ].create_svg()\n",
    "    )\n",
    ")"
   ]
  },
  {
   "cell_type": "code",
   "execution_count": null,
   "metadata": {},
   "outputs": [],
   "source": []
  }
 ],
 "metadata": {
  "kernelspec": {
   "display_name": "sponana",
   "language": "python",
   "name": "python3"
  },
  "language_info": {
   "codemirror_mode": {
    "name": "ipython",
    "version": 3
   },
   "file_extension": ".py",
   "mimetype": "text/x-python",
   "name": "python",
   "nbconvert_exporter": "python",
   "pygments_lexer": "ipython3",
   "version": "3.11.5"
  }
 },
 "nbformat": 4,
 "nbformat_minor": 2
}
