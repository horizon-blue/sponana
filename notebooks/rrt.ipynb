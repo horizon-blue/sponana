{
 "cells": [
  {
   "cell_type": "code",
   "execution_count": 1,
   "metadata": {},
   "outputs": [],
   "source": [
    "%load_ext autoreload\n",
    "%autoreload 2"
   ]
  },
  {
   "cell_type": "code",
   "execution_count": 11,
   "metadata": {},
   "outputs": [],
   "source": [
    "import numpy as np\n",
    "from pydrake.all import (\n",
    "    RigidTransform,\n",
    "    RotationMatrix,\n",
    "    StartMeshcat,\n",
    "    RandomGenerator,\n",
    "    Diagram,\n",
    ")\n",
    "import numpy as np\n",
    "\n",
    "import sponana.utils\n",
    "from sponana.planner.rrt import SpotProblem, rrt_planning\n",
    "from sponana.planner.navigator import Navigator\n",
    "\n",
    "import sponana.sim"
   ]
  },
  {
   "cell_type": "code",
   "execution_count": 4,
   "metadata": {},
   "outputs": [
    {
     "name": "stderr",
     "output_type": "stream",
     "text": [
      "INFO:drake:Meshcat listening for connections at http://localhost:7001\n"
     ]
    }
   ],
   "source": [
    "# Start the visualizer.\n",
    "meshcat = StartMeshcat()"
   ]
  },
  {
   "cell_type": "code",
   "execution_count": null,
   "metadata": {},
   "outputs": [],
   "source": [
    "# Clean up the Meshcat instance.\n",
    "meshcat.Delete()\n",
    "meshcat.DeleteAddedControls()\n",
    "rng = np.random.default_rng(145)  # this is for python\n",
    "generator = RandomGenerator(rng.integers(0, 1000))  # this is for c++\n",
    "\n",
    "# simulation_time = -1  # run indefinitely until ESC is pressed\n",
    "simulation_time = 1\n",
    "add_debug_logger = True\n",
    "add_fixed_cameras = False\n",
    "use_teleop = False\n",
    "\n",
    "simulator, diagram = sponana.sim.clutter_gen(\n",
    "    meshcat,\n",
    "    rng,\n",
    "    add_debug_logger=add_debug_logger,\n",
    "    simulation_time=simulation_time,\n",
    "    add_fixed_cameras=add_fixed_cameras,\n",
    "    use_teleop=use_teleop,\n",
    ")"
   ]
  },
  {
   "cell_type": "code",
   "execution_count": 10,
   "metadata": {},
   "outputs": [],
   "source": [
    "base_pose = np.array([1.00000000e00, 1.50392176e-12, 3.15001955e00])\n",
    "q_start = base_pose\n",
    "# q_goal = np.array([1.00000000e+00, 1.50392176e-12 -1, 3.15001955e+00])\n",
    "# q_goal = np.array([1.00000000e+00, -0.5, 3.15001955e+00])\n",
    "q_goal = np.array([-2, -2, 3.15001955e00])\n",
    "# q_goal = np.array([0.20894849, -0.47792893, 0.2475])"
   ]
  },
  {
   "cell_type": "code",
   "execution_count": 12,
   "metadata": {},
   "outputs": [],
   "source": [
    "navigator = Navigator()\n",
    "spot_problem = SpotProblem(\n",
    "    q_start=q_start, q_goal=q_goal, collision_checker=navigator._collision_check\n",
    ")\n",
    "path = rrt_planning(spot_problem, 1000, 0.05)"
   ]
  },
  {
   "cell_type": "code",
   "execution_count": 13,
   "metadata": {},
   "outputs": [
    {
     "name": "stdout",
     "output_type": "stream",
     "text": [
      "397\n"
     ]
    }
   ],
   "source": [
    "print(len(path))"
   ]
  },
  {
   "cell_type": "code",
   "execution_count": 14,
   "metadata": {},
   "outputs": [],
   "source": [
    "# visualize RRT output\n",
    "from manipulation.meshcat_utils import AddMeshcatTriad\n",
    "\n",
    "\n",
    "def visualize_path(path):\n",
    "    for i, pose in enumerate(path):\n",
    "        pose = RigidTransform(RotationMatrix.MakeZRotation(pose[2]), [*pose[:2], 0.0])\n",
    "        opacity = 0.2\n",
    "        AddMeshcatTriad(meshcat, f\"trajectory_{i}\", X_PT=pose, opacity=opacity)\n",
    "\n",
    "\n",
    "visualize_path(path)"
   ]
  },
  {
   "cell_type": "code",
   "execution_count": null,
   "metadata": {},
   "outputs": [],
   "source": [
    "sponana.utils.visualize_diagram(diagram, 1)"
   ]
  },
  {
   "cell_type": "code",
   "execution_count": 13,
   "metadata": {},
   "outputs": [
    {
     "data": {
      "text/plain": [
       "array([[[ 1.00000000e+00,  4.00000000e+00, -3.13316598e+00],\n",
       "        [-6.96709467e-01,  3.15240161e+00,  8.57867299e-01],\n",
       "        [-6.03719954e-01,  4.85234302e+00, -9.63954086e-01]],\n",
       "\n",
       "       [[ 1.00000000e+00,  1.82786728e-12, -3.13316598e+00],\n",
       "        [-6.96709467e-01, -8.47598387e-01,  8.57867299e-01],\n",
       "        [-6.03719954e-01,  8.52343020e-01, -9.63954086e-01]],\n",
       "\n",
       "       [[ 1.00000000e+00, -4.00000000e+00, -3.13316598e+00],\n",
       "        [-6.96709467e-01, -4.84759839e+00,  8.57867299e-01],\n",
       "        [-6.03719954e-01, -3.14765698e+00, -9.63954086e-01]]])"
      ]
     },
     "execution_count": 13,
     "metadata": {},
     "output_type": "execute_result"
    }
   ],
   "source": [
    "from sponana.hardcoded_cameras import get_base_positions_for_hardcoded_cameras\n",
    "\n",
    "target_base_positions = get_base_positions_for_hardcoded_cameras()\n",
    "visualize_path(target_base_positions.reshape(-1, 3))\n",
    "target_base_positions"
   ]
  },
  {
   "cell_type": "code",
   "execution_count": null,
   "metadata": {},
   "outputs": [],
   "source": []
  }
 ],
 "metadata": {
  "kernelspec": {
   "display_name": "robot_drake_env",
   "language": "python",
   "name": "python3"
  },
  "language_info": {
   "codemirror_mode": {
    "name": "ipython",
    "version": 3
   },
   "file_extension": ".py",
   "mimetype": "text/x-python",
   "name": "python",
   "nbconvert_exporter": "python",
   "pygments_lexer": "ipython3",
   "version": "3.11.5"
  }
 },
 "nbformat": 4,
 "nbformat_minor": 2
}
