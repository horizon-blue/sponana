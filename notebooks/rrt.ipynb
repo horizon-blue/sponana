{
 "cells": [
  {
   "cell_type": "code",
   "execution_count": 1,
   "metadata": {},
   "outputs": [],
   "source": [
    "%load_ext autoreload\n",
    "%autoreload 2"
   ]
  },
  {
   "cell_type": "code",
   "execution_count": 11,
   "metadata": {},
   "outputs": [],
   "source": [
    "import numpy as np\n",
    "from pydrake.all import (\n",
    "    RigidTransform,\n",
    "    RotationMatrix,\n",
    "    StartMeshcat,\n",
    "    RandomGenerator,\n",
    "    Diagram,\n",
    ")\n",
    "import numpy as np\n",
    "\n",
    "import sponana.utils\n",
    "from sponana.planner.rrt import SpotProblem, rrt_planning\n",
    "from sponana.planner.navigator import Navigator\n",
    "from sponana.planner.utils import visualize_path\n",
    "from sponana.planner.rrt_tools import calc_intermediate_qs_wo_collision\n",
    "\n",
    "import sponana.sim"
   ]
  },
  {
   "cell_type": "code",
   "execution_count": 4,
   "metadata": {},
   "outputs": [
    {
     "name": "stderr",
     "output_type": "stream",
     "text": [
      "INFO:drake:Meshcat listening for connections at http://localhost:7001\n"
     ]
    }
   ],
   "source": [
    "# Start the visualizer.\n",
    "meshcat = StartMeshcat()"
   ]
  },
  {
   "cell_type": "code",
   "execution_count": null,
   "metadata": {},
   "outputs": [],
   "source": [
    "# Clean up the Meshcat instance.\n",
    "rng = np.random.default_rng(145)  # this is for python\n",
    "generator = RandomGenerator(rng.integers(0, 1000))  # this is for c++\n",
    "\n",
    "# simulation_time = -1  # run indefinitely until ESC is pressed\n",
    "simulation_time = 1\n",
    "add_debug_logger = True\n",
    "add_fixed_cameras = False\n",
    "use_teleop = False\n",
    "\n",
    "simulator, diagram = sponana.sim.clutter_gen(\n",
    "    meshcat,\n",
    "    rng,\n",
    "    add_debug_logger=add_debug_logger,\n",
    "    simulation_time=simulation_time,\n",
    "    add_fixed_cameras=add_fixed_cameras,\n",
    "    use_teleop=use_teleop,\n",
    ")"
   ]
  },
  {
   "cell_type": "code",
   "execution_count": 5,
   "metadata": {},
   "outputs": [],
   "source": [
    "q_start = np.array([3.0, 7.0, -1.57])\n",
    "q_goal = np.array([1.0, 4.0, -3.13316598])"
   ]
  },
  {
   "cell_type": "code",
   "execution_count": 8,
   "metadata": {},
   "outputs": [],
   "source": [
    "navigator = Navigator()\n",
    "spot_problem = SpotProblem(\n",
    "    q_start=q_start, q_goal=q_goal, collision_checker=navigator._collision_check\n",
    ")\n",
    "path = rrt_planning(spot_problem, 1500, 0.05)"
   ]
  },
  {
   "cell_type": "code",
   "execution_count": 18,
   "metadata": {},
   "outputs": [
    {
     "name": "stdout",
     "output_type": "stream",
     "text": [
      "249\n"
     ]
    }
   ],
   "source": [
    "print(len(path))\n",
    "\n",
    "visualize_path(path, meshcat)"
   ]
  },
  {
   "cell_type": "code",
   "execution_count": null,
   "metadata": {},
   "outputs": [],
   "source": [
    "sponana.utils.visualize_diagram(diagram, 1)"
   ]
  },
  {
   "cell_type": "code",
   "execution_count": 13,
   "metadata": {},
   "outputs": [
    {
     "data": {
      "text/plain": [
       "array([[[ 1.00000000e+00,  4.00000000e+00, -3.13316598e+00],\n",
       "        [-6.96709467e-01,  3.15240161e+00,  8.57867299e-01],\n",
       "        [-6.03719954e-01,  4.85234302e+00, -9.63954086e-01]],\n",
       "\n",
       "       [[ 1.00000000e+00,  1.82786728e-12, -3.13316598e+00],\n",
       "        [-6.96709467e-01, -8.47598387e-01,  8.57867299e-01],\n",
       "        [-6.03719954e-01,  8.52343020e-01, -9.63954086e-01]],\n",
       "\n",
       "       [[ 1.00000000e+00, -4.00000000e+00, -3.13316598e+00],\n",
       "        [-6.96709467e-01, -4.84759839e+00,  8.57867299e-01],\n",
       "        [-6.03719954e-01, -3.14765698e+00, -9.63954086e-01]]])"
      ]
     },
     "execution_count": 13,
     "metadata": {},
     "output_type": "execute_result"
    }
   ],
   "source": [
    "from sponana.hardcoded_cameras import get_base_positions_for_hardcoded_cameras\n",
    "\n",
    "target_base_positions = get_base_positions_for_hardcoded_cameras()\n",
    "visualize_path(target_base_positions.reshape(-1, 3))\n",
    "target_base_positions"
   ]
  },
  {
   "cell_type": "code",
   "execution_count": null,
   "metadata": {},
   "outputs": [],
   "source": [
    "def check_straight_line_shortcutting(node1, node2):\n",
    "    spot_problem = SpotProblem(node1, node2, self._collision_check)\n",
    "    rrt_tools = RRT_tools(spot_problem)\n",
    "    q_goal = problem.goal\n",
    "    straight_path = calc_intermediate_qs_wo_collision(node1, node2)\n",
    "    if straight_path[-1] == node2:\n",
    "        return True\n",
    "    else:\n",
    "        return False"
   ]
  },
  {
   "cell_type": "code",
   "execution_count": null,
   "metadata": {},
   "outputs": [],
   "source": [
    "def two_nodes_shortcutting(path):\n",
    "    #https://www.cs.cmu.edu/~maxim/classes/robotplanning/lectures/RRT_16350_sp23.pdf\n",
    "    n0_ind = 0 # start\n",
    "    n1_ind = n0_ind+1\n",
    "    new_path = []\n",
    "    goal_node = path[-1]\n",
    "    goal_node_ind = len(path)-1\n",
    "    while path[n0_ind] != goal_node:\n",
    "        n0 = path[n0_ind]\n",
    "        n1 = path[n1_ind]\n",
    "        while check_straight_line_shortcutting(n0, n1) and (n1_ind+1) < goal_node_ind:\n",
    "            n1_ind += 1\n",
    "        new_path.append(n0, n1)\n",
    "        n0_ind = n1_ind\n",
    "        n1_ind = n1_ind + 1 \n"
   ]
  },
  {
   "cell_type": "code",
   "execution_count": null,
   "metadata": {},
   "outputs": [],
   "source": []
  }
 ],
 "metadata": {
  "kernelspec": {
   "display_name": "robot_drake_env",
   "language": "python",
   "name": "python3"
  },
  "language_info": {
   "codemirror_mode": {
    "name": "ipython",
    "version": 3
   },
   "file_extension": ".py",
   "mimetype": "text/x-python",
   "name": "python",
   "nbconvert_exporter": "python",
   "pygments_lexer": "ipython3",
   "version": "3.10.12"
  }
 },
 "nbformat": 4,
 "nbformat_minor": 2
}
