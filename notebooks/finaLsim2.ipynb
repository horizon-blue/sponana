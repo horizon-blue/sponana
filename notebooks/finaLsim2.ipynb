{
    "cells": [
        {
            "cell_type": "code",
            "execution_count": null,
            "metadata": {},
            "outputs": [],
            "source": [
                "%load_ext autoreload\n",
                "%autoreload 2"
            ]
        },
        {
            "cell_type": "code",
            "execution_count": 18,
            "metadata": {
                "cell_id": "852d40e15b574f1aa8b7927ef36b627c",
                "deepnote_cell_type": "code",
                "deepnote_to_be_reexecuted": false,
                "execution_millis": 696,
                "execution_start": 1699388432252,
                "source_hash": null
            },
            "outputs": [],
            "source": [
                "import numpy as np\n",
                "\n",
                "from pydrake.common import temp_directory\n",
                "from pydrake.geometry import StartMeshcat\n",
                "from pydrake.systems.analysis import Simulator\n",
                "from pydrake.visualization import ModelVisualizer\n",
                "from pydrake.all import (\n",
                "    Simulator,\n",
                "    StartMeshcat,\n",
                ")\n",
                "\n",
                "from manipulation import running_as_notebook\n",
                "from manipulation.station import MakeHardwareStation, load_scenario\n",
                "from IPython.display import HTML, display\n",
                "from matplotlib import pyplot as plt\n",
                "from pydrake.all import (\n",
                "    AddMultibodyPlantSceneGraph,\n",
                "    Box,\n",
                "    ConnectPlanarSceneGraphVisualizer,\n",
                "    DiagramBuilder,\n",
                "    FixedOffsetFrame,\n",
                "    JointIndex,\n",
                "    Parser,\n",
                "    PlanarJoint,\n",
                "    RandomGenerator,\n",
                "    RigidTransform,\n",
                "    RotationMatrix,\n",
                "    Simulator,\n",
                "    StartMeshcat,\n",
                "    UniformlyRandomRotationMatrix,\n",
                ")\n",
                "\n",
                "from manipulation import ConfigureParser, running_as_notebook\n",
                "from manipulation.scenarios import AddShape, ycb\n",
                "from manipulation.station import MakeHardwareStation, load_scenario\n",
                "from pydrake.common import temp_directory\n",
                "#sponana/src/sponana/utils.py\n",
                "import sponana.utils"
            ]
        },
        {
            "cell_type": "code",
            "execution_count": 8,
            "metadata": {},
            "outputs": [
                {
                    "name": "stderr",
                    "output_type": "stream",
                    "text": [
                        "INFO:drake:Meshcat listening for connections at http://localhost:7000\n"
                    ]
                }
            ],
            "source": [
                "meshcat = StartMeshcat()"
            ]
        },
        {
            "cell_type": "code",
            "execution_count": 9,
            "metadata": {
                "cell_id": "e9e13e017cf14d40820fc3d52369b818",
                "deepnote_cell_type": "code",
                "deepnote_to_be_reexecuted": false,
                "execution_millis": 17118,
                "execution_start": 1699388432954,
                "source_hash": null
            },
            "outputs": [
                {
                    "name": "stderr",
                    "output_type": "stream",
                    "text": [
                        "WARNING:drake:warning: Warning parsing Wavefront obj data : Both `d` and `Tr` parameters defined for \"banana\". Use the value of `d` for dissolve (line 9 in .mtl.)\n"
                    ]
                },
                {
                    "name": "stdout",
                    "output_type": "stream",
                    "text": [
                        "plant Floating Base {BodyIndex(25), BodyIndex(16), BodyIndex(24)}\n",
                        "<class 'set'>\n"
                    ]
                }
            ],
            "source": [
                "# Clean up the Meshcat instance.\n",
                "meshcat.Delete()\n",
                "meshcat.DeleteAddedControls()\n",
                "\n",
                "rng = np.random.default_rng(145)  # this is for python\n",
                "generator = RandomGenerator(rng.integers(0, 1000))  # this is for c++\n",
                "\n",
                "# simulation_time = -1  # run indefinitely until ESC is pressed\n",
                "simulation_time = 2\n",
                "\n",
                "\n",
                "def clutter_gen():\n",
                "    scenario_data = f\"\"\"\n",
                "cameras:\n",
                "    spot_camera:\n",
                "        name: camera0\n",
                "        depth: True\n",
                "        X_PB:\n",
                "            base_frame: camera0::base\n",
                "            translation: [0, 0, -0.05]\n",
                "            rotation: !Rpy {{ deg: [-90, 0, 0] }}\n",
                "        \n",
                "directives:\n",
                "- add_model:\n",
                "    name: camera0\n",
                "    file: package://manipulation/camera_box.sdf\n",
                "- add_weld:\n",
                "    parent: world\n",
                "    child: camera0::base\n",
                "    X_PC:\n",
                "        translation: [0, 1.75, 1.0]\n",
                "        rotation: !Rpy {{ deg: [-75, 0, 0] }}\n",
                "    \n",
                "- add_model:\n",
                "    name: table_top\n",
                "    file: package://sponana/table_top.sdf\n",
                "\n",
                "- add_weld:\n",
                "    parent: world\n",
                "    child: table_top::table_top_center\n",
                "\n",
                "- add_model:\n",
                "    name: table_top2\n",
                "    file: package://sponana/table_top.sdf\n",
                "\n",
                "- add_weld:\n",
                "    parent: world\n",
                "    child: table_top2::table_top_center\n",
                "    X_PC:\n",
                "        translation: [0, 2.0, 0]\n",
                "\n",
                "- add_model:\n",
                "    name: table_top3\n",
                "    file: package://sponana/table_top.sdf\n",
                "\n",
                "- add_weld:\n",
                "    parent: world\n",
                "    child: table_top3::table_top_center\n",
                "    X_PC:\n",
                "        translation: [0, -2.0, 0]\n",
                "\"\"\"\n",
                "#walls\n",
                "    scenario_data += f\"\"\"\n",
                "- add_model:\n",
                "    name: table_top4\n",
                "    file: package://sponana/table_top4.sdf\n",
                "- add_weld:\n",
                "    parent: world\n",
                "    child: table_top4::table_top4_center\n",
                "\n",
                "- add_model:\n",
                "    name: table_top5\n",
                "    file: package://sponana/table_top5.sdf\n",
                "- add_weld:\n",
                "    parent: world\n",
                "    child: table_top5::table_top5_center\n",
                "\n",
                "- add_model:\n",
                "    name: table_top6\n",
                "    file: package://sponana/table_top6.sdf\n",
                "- add_weld:\n",
                "    parent: world\n",
                "    child: table_top6::table_top6_center\n",
                "\n",
                "- add_model:\n",
                "    name: table_top7\n",
                "    file: package://sponana/table_top7.sdf\n",
                "- add_weld:\n",
                "    parent: world\n",
                "    child: table_top7::table_top7_center\n",
                "\n",
                "- add_model:\n",
                "    name: table_top8\n",
                "    file: package://sponana/table_top8.sdf\n",
                "- add_weld:\n",
                "    parent: world\n",
                "    child: table_top8::table_top8_center\n",
                "\n",
                "- add_model:\n",
                "    name: table_top9\n",
                "    file: package://sponana/table_top9.sdf\n",
                "- add_weld:\n",
                "    parent: world\n",
                "    child: table_top9::table_top9_center\n",
                "    \"\"\"\n",
                "\n",
                "    for i in range(22 if running_as_notebook else 2):\n",
                "        object_num = rng.integers(0, len(ycb))\n",
                "        scenario_data += f\"\"\"\n",
                "- add_model:\n",
                "    name: thing{i}\n",
                "    file: package://manipulation/hydro/{ycb[object_num]} \n",
                "\"\"\"\n",
                "    scenario_data += f\"\"\"\n",
                "- add_model:\n",
                "    name: banana\n",
                "    file: package://sponana/banana/banana.sdf\n",
                "    default_free_body_pose:\n",
                "        banana: \n",
                "            translation: [0, 0, 1]\n",
                "            rotation: !Rpy {{ deg: [0, 0, 0] }}    \n",
                "\"\"\"\n",
                "\n",
                "    scenario = load_scenario(data=scenario_data)\n",
                "    station = builder.AddSystem(\n",
                "        MakeHardwareStation(\n",
                "            scenario, meshcat, parser_preload_callback=sponana.utils.configure_parser\n",
                "        )\n",
                "    )\n",
                "\n",
                "    if add_spot:\n",
                "    diagram = builder.Build()\n",
                "\n",
                "    simulator = Simulator(diagram)\n",
                "    context = simulator.get_mutable_context()\n",
                "    plant = station.GetSubsystemByName(\"plant\")\n",
                "    plant_context = plant.GetMyContextFromRoot(context)\n",
                "\n",
                "    z = 0\n",
                "    #z = 0.2\n",
                "    print(\"plant Floating Base\",set(list(plant.GetFloatingBaseBodies())[0:3]))\n",
                "    print(type(plant.GetFloatingBaseBodies()))\n",
                "    floating_base_bodies_list = list(plant.GetFloatingBaseBodies())\n",
                "    len_bodies = len(floating_base_bodies_list)\n",
                "\n",
                "    center_table_bodies = set(floating_base_bodies_list[0:len_bodies//3])\n",
                "    for body_index in center_table_bodies:\n",
                "        tf = RigidTransform(\n",
                "            UniformlyRandomRotationMatrix(generator),\n",
                "            [rng.uniform(-0.20, 0.20), rng.uniform(-0.30, 0.30), z],)\n",
                "        plant.SetFreeBodyPose(plant_context, plant.get_body(body_index), tf)\n",
                "        z += 0.01\n",
                "    \n",
                "    z = 0\n",
                "    #z = 0.2\n",
                "    #0.49 0.63\n",
                "    right_table_bodies = set(floating_base_bodies_list[len_bodies//3:len_bodies//3*2])\n",
                "    for body_index in right_table_bodies:\n",
                "        tf = RigidTransform(\n",
                "            UniformlyRandomRotationMatrix(generator),\n",
                "            [rng.uniform(-0.20, 0.20), 2+rng.uniform(-0.30, 0.30), z],)\n",
                "        plant.SetFreeBodyPose(plant_context, plant.get_body(body_index), tf)\n",
                "        z += 0.01\n",
                " \n",
                "    z = 0\n",
                "    #z = 0.2\n",
                "    left_table_bodies = set(floating_base_bodies_list[len_bodies//3*2:])\n",
                "    for body_index in left_table_bodies:\n",
                "        tf = RigidTransform(\n",
                "            UniformlyRandomRotationMatrix(generator),\n",
                "            [rng.uniform(-0.20, 0.20), -2+rng.uniform(-0.30, 0.30), z],)\n",
                "        plant.SetFreeBodyPose(plant_context, plant.get_body(body_index), tf)\n",
                "        z += 0.01\n",
                "\n",
                "    sponana.utils.run_simulation(simulator, meshcat, finish_time=simulation_time)\n",
                "    # color_image = station.GetOutputPort(\"camera0.rgb_image\").Eval(context)\n",
                "    # plt.figure()\n",
                "    # plt.imshow(color_image.data)\n",
                "    # plt.axis(\"off\")\n",
                "    return simulator, diagram\n",
                "\n",
                "\n",
                "simulator, diagram = clutter_gen()"
            ]
        },
        {
            "cell_type": "code",
            "execution_count": 47,
            "metadata": {},
            "outputs": [
                {
                    "name": "stderr",
                    "output_type": "stream",
                    "text": [
                        "WARNING:drake:Ignoring Meshcat http request for /spot_mat.png\n"
                    ]
                },
                {
                    "data": {
                        "text/plain": [
                            "<matplotlib.image.AxesImage at 0x92f1e7fd0>"
                        ]
                    },
                    "execution_count": 47,
                    "metadata": {},
                    "output_type": "execute_result"
                },
                {
                    "data": {
                        "image/png": "[encoded data removed]",
                        "text/plain": [
                            "<Figure size 1000x400 with 2 Axes>"
                        ]
                    },
                    "metadata": {},
                    "output_type": "display_data"
                }
            ],
            "source": [
                "# another way to get the images directly\n",
                "context = simulator.get_mutable_context()\n",
                "station = diagram.GetSubsystemByName(\"station\")\n",
                "context = station.GetMyContextFromRoot(context)\n",
                "color_image = station.GetOutputPort(\"camera0.rgb_image\").Eval(context)\n",
                "depth_image = station.GetOutputPort(\"camera0.depth_image\").Eval(context)\n",
                "plt.figure(figsize=(10, 4))\n",
                "plt.subplot(1, 2, 1)\n",
                "plt.imshow(color_image.data)\n",
                "plt.subplot(1, 2, 2)\n",
                "plt.imshow(depth_image.data)"
            ]
        },
        {
            "cell_type": "markdown",
            "metadata": {
                "created_in_deepnote_cell": true,
                "deepnote_cell_type": "markdown"
            },
            "source": [
                "<a style='text-decoration:none;line-height:16px;display:flex;color:#5B5B62;padding:10px;justify-content:end;' href='https://deepnote.com?utm_source=created-in-deepnote-cell&projectId=3d6be65c-ca3c-46d4-a8f3-21f3622a2ace' target=\"_blank\">\n",
                "<img alt='Created in deepnote.com' style='display:inline;max-height:16px;margin:0px;margin-right:7.5px;' src='data:image/svg+xml;base64,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' > </img>\n",
                "Created in <span style='font-weight:600;margin-left:4px;'>Deepnote</span></a>"
            ]
        }
    ],
    "metadata": {
        "deepnote": {},
        "deepnote_execution_queue": [],
        "deepnote_notebook_id": "134d3cb183ce4f78a8c866345c1aa312",
        "kernelspec": {
            "display_name": "sponana",
            "language": "python",
            "name": "python3"
        },
        "language_info": {
            "codemirror_mode": {
                "name": "ipython",
                "version": 3
            },
            "file_extension": ".py",
            "mimetype": "text/x-python",
            "name": "python",
            "nbconvert_exporter": "python",
            "pygments_lexer": "ipython3",
            "version": "3.11.0"
        },
        "orig_nbformat": 2
    },
    "nbformat": 4,
    "nbformat_minor": 0
}
