{
 "cells": [
  {
   "cell_type": "code",
   "execution_count": 1,
   "metadata": {},
   "outputs": [],
   "source": [
    "%load_ext autoreload\n",
    "%autoreload 2"
   ]
  },
  {
   "cell_type": "code",
   "execution_count": 2,
   "metadata": {},
   "outputs": [],
   "source": [
    "import numpy as np\n",
    "from IPython.display import clear_output\n",
    "from pydrake.all import (\n",
    "    AbstractValue,\n",
    "    AddMultibodyPlantSceneGraph,\n",
    "    Concatenate,\n",
    "    DiagramBuilder,\n",
    "    JointSliders,\n",
    "    LeafSystem,\n",
    "    MeshcatPoseSliders,\n",
    "    MeshcatVisualizer,\n",
    "    MeshcatVisualizerParams,\n",
    "    Parser,\n",
    "    PointCloud,\n",
    "    RandomGenerator,\n",
    "    Rgba,\n",
    "    RigidTransform,\n",
    "    RotationMatrix,\n",
    "    Simulator,\n",
    "    StartMeshcat,\n",
    "    UniformlyRandomRotationMatrix,\n",
    ")\n",
    "from manipulation.scenarios import AddMultibodyTriad\n",
    "\n",
    "from manipulation import running_as_notebook\n",
    "from manipulation.scenarios import AddFloatingRpyJoint, AddRgbdSensors, ycb\n",
    "from manipulation.utils import ConfigureParser\n",
    "import sponana.utils"
   ]
  },
  {
   "cell_type": "code",
   "execution_count": 3,
   "metadata": {},
   "outputs": [],
   "source": [
    "from sponana.grasping.grasp_generator import get_unified_point_cloud, BananaSystem, ScoreSystem, GenerateAntipodalGraspCandidate"
   ]
  },
  {
   "cell_type": "code",
   "execution_count": 4,
   "metadata": {},
   "outputs": [
    {
     "name": "stderr",
     "output_type": "stream",
     "text": [
      "INFO:drake:Meshcat listening for connections at http://localhost:7006\n"
     ]
    }
   ],
   "source": [
    "# Start the visualizer.\n",
    "meshcat = StartMeshcat()"
   ]
  },
  {
   "cell_type": "code",
   "execution_count": 5,
   "metadata": {},
   "outputs": [],
   "source": [
    "def make_internal_model():\n",
    "    builder = DiagramBuilder()\n",
    "    plant, scene_graph = AddMultibodyPlantSceneGraph(builder, time_step=0.001)\n",
    "    parser = Parser(plant)\n",
    "    sponana.utils.configure_parser(parser)\n",
    "    parser.AddModelsFromUrl(\"package://sponana/grasping/banana_and_spot_gripper.dmd.yaml\")\n",
    "    plant.Finalize()\n",
    "    return builder.Build()\n"
   ]
  },
  {
   "cell_type": "code",
   "execution_count": 20,
   "metadata": {},
   "outputs": [
    {
     "name": "stderr",
     "output_type": "stream",
     "text": [
      "INFO:drake:Press the 'Stop JointSliders' button in Meshcat or press 'Escape' to continue.\n"
     ]
    },
    {
     "name": "stdout",
     "output_type": "stream",
     "text": [
      "cost: -19.99999365863669\n",
      "normal terms: []\n"
     ]
    }
   ],
   "source": [
    "def grasp_score_inspector(gripper_name=\"arm_link_wr1\"):\n",
    "    meshcat.Delete()\n",
    "\n",
    "    # Finally, we'll build a diagram for running our visualization\n",
    "    builder = DiagramBuilder()\n",
    "    plant, scene_graph = AddMultibodyPlantSceneGraph(builder, time_step=0.001)\n",
    "    parser = Parser(plant)\n",
    "    sponana.utils.configure_parser(parser)\n",
    "    \n",
    "    parser.AddModelsFromUrl(\"package://sponana/grasping/banana_and_spot_gripper.dmd.yaml\")\n",
    "\n",
    "    AddFloatingRpyJoint(\n",
    "        plant,\n",
    "        plant.GetFrameByName(gripper_name),\n",
    "        plant.GetModelInstanceByName(\"_gripper\"),\n",
    "    )\n",
    "    AddMultibodyTriad(plant.GetFrameByName(gripper_name), scene_graph)\n",
    "    plant.Finalize()\n",
    "\n",
    "    meshcat.DeleteAddedControls()\n",
    "    params = MeshcatVisualizerParams()\n",
    "    params.prefix = \"planning\"\n",
    "    visualizer = MeshcatVisualizer.AddToBuilder(\n",
    "        builder, scene_graph, meshcat, params\n",
    "    )\n",
    "\n",
    "    environment = BananaSystem()\n",
    "    environment_context = environment.CreateDefaultContext()\n",
    "\n",
    "    cloud = get_unified_point_cloud(\n",
    "        environment,\n",
    "        environment_context,\n",
    "        meshcat=meshcat\n",
    "    )\n",
    "    meshcat.SetObject(\"planning/cloud\", cloud, point_size=0.003)\n",
    "\n",
    "    internal_model = make_internal_model()\n",
    "    score = builder.AddSystem(\n",
    "        ScoreSystem(internal_model, cloud, gripper_name, plant.GetBodyByName(gripper_name).index(), meshcat=meshcat)\n",
    "    )\n",
    "    builder.Connect(plant.get_body_poses_output_port(), score.get_input_port())\n",
    "\n",
    "    lower_limit = [-1, -1, 0, -np.pi, -np.pi / 4.0, -np.pi / 4.0]\n",
    "    upper_limit = [1, 1, 1, 0, np.pi / 4.0, np.pi / 4.0]\n",
    "    q0 = [-0.05, -0.5, 0.25, -np.pi / 2.0, 0, 0]\n",
    "    default_interactive_timeout = None if running_as_notebook else 1.0\n",
    "    sliders = builder.AddSystem(\n",
    "        JointSliders(\n",
    "            meshcat,\n",
    "            plant,\n",
    "            initial_value=q0,\n",
    "            lower_limit=lower_limit,\n",
    "            upper_limit=upper_limit,\n",
    "            decrement_keycodes=[\n",
    "                \"KeyQ\",\n",
    "                \"KeyS\",\n",
    "                \"KeyA\",\n",
    "                \"KeyJ\",\n",
    "                \"KeyK\",\n",
    "                \"KeyU\",\n",
    "            ],\n",
    "            increment_keycodes=[\n",
    "                \"KeyE\",\n",
    "                \"KeyW\",\n",
    "                \"KeyD\",\n",
    "                \"KeyL\",\n",
    "                \"KeyI\",\n",
    "                \"KeyO\",\n",
    "            ],\n",
    "        )\n",
    "    )\n",
    "    diagram = builder.Build()\n",
    "    sliders.Run(diagram, default_interactive_timeout)\n",
    "    meshcat.DeleteAddedControls()\n",
    "\n",
    "\n",
    "grasp_score_inspector(gripper_name=\"gripper\") #gripper_name=\"body\")"
   ]
  },
  {
   "cell_type": "code",
   "execution_count": null,
   "metadata": {},
   "outputs": [],
   "source": []
  },
  {
   "cell_type": "markdown",
   "metadata": {},
   "source": [
    "# Generate grasps"
   ]
  },
  {
   "cell_type": "code",
   "execution_count": 11,
   "metadata": {},
   "outputs": [],
   "source": [
    "# For visualization\n",
    "def draw_grasp_candidate(X_G, meshcat, gripper_name, prefix=\"gripper\", draw_frames=True):\n",
    "    builder = DiagramBuilder()\n",
    "    plant, scene_graph = AddMultibodyPlantSceneGraph(builder, time_step=0.001)\n",
    "    parser = Parser(plant)\n",
    "    sponana.utils.configure_parser(parser)\n",
    "    parser.AddModelsFromUrl(\n",
    "        \"package://sponana/grasping/spot_gripper.urdf\"\n",
    "    )\n",
    "    plant.WeldFrames(plant.world_frame(), plant.GetFrameByName(gripper_name), X_G)\n",
    "    plant.Finalize()\n",
    "\n",
    "    # frames_to_draw = {\"gripper\": {\"body\"}} if draw_frames else {}\n",
    "    params = MeshcatVisualizerParams()\n",
    "    params.prefix = prefix\n",
    "    params.delete_prefix_on_initialization_event = False\n",
    "    visualizer = MeshcatVisualizer.AddToBuilder(\n",
    "        builder, scene_graph, meshcat, params\n",
    "    )\n",
    "    diagram = builder.Build()\n",
    "    context = diagram.CreateDefaultContext()\n",
    "    diagram.ForcedPublish(context)"
   ]
  },
  {
   "cell_type": "code",
   "execution_count": 1,
   "metadata": {},
   "outputs": [
    {
     "ename": "NameError",
     "evalue": "name 'RigidTransform' is not defined",
     "output_type": "error",
     "traceback": [
      "\u001b[0;31m---------------------------------------------------------------------------\u001b[0m",
      "\u001b[0;31mNameError\u001b[0m                                 Traceback (most recent call last)",
      "\u001b[1;32m/Users/georgematheos/Developer/classes/2023/manipulation/sponana/src/sponana/grasping/grasp_banana.ipynb Cell 10\u001b[0m line \u001b[0;36m1\n\u001b[0;32m----> <a href='vscode-notebook-cell:/Users/georgematheos/Developer/classes/2023/manipulation/sponana/src/sponana/grasping/grasp_banana.ipynb#X12sZmlsZQ%3D%3D?line=0'>1</a>\u001b[0m \u001b[39mdef\u001b[39;00m \u001b[39msample_grasps_example\u001b[39m(gripper_name\u001b[39m=\u001b[39m\u001b[39m\"\u001b[39m\u001b[39marm_link_wr1\u001b[39m\u001b[39m\"\u001b[39m, pointcloud_transform\u001b[39m=\u001b[39mRigidTransform()):\n\u001b[1;32m      <a href='vscode-notebook-cell:/Users/georgematheos/Developer/classes/2023/manipulation/sponana/src/sponana/grasping/grasp_banana.ipynb#X12sZmlsZQ%3D%3D?line=1'>2</a>\u001b[0m     meshcat\u001b[39m.\u001b[39mDelete()\n\u001b[1;32m      <a href='vscode-notebook-cell:/Users/georgematheos/Developer/classes/2023/manipulation/sponana/src/sponana/grasping/grasp_banana.ipynb#X12sZmlsZQ%3D%3D?line=2'>3</a>\u001b[0m     rng \u001b[39m=\u001b[39m np\u001b[39m.\u001b[39mrandom\u001b[39m.\u001b[39mdefault_rng()\n",
      "\u001b[0;31mNameError\u001b[0m: name 'RigidTransform' is not defined"
     ]
    }
   ],
   "source": [
    "def sample_grasps_example(gripper_name=\"arm_link_wr1\", pointcloud_transform=RigidTransform()):\n",
    "    meshcat.Delete()\n",
    "    rng = np.random.default_rng()\n",
    "\n",
    "    builder = DiagramBuilder()\n",
    "    plant, scene_graph = AddMultibodyPlantSceneGraph(builder, time_step=0.001)\n",
    "    parser = Parser(plant)\n",
    "    sponana.utils.configure_parser(parser)\n",
    "    \n",
    "    parser.AddModelsFromUrl(\"package://sponana/grasping/banana_and_spot_gripper.dmd.yaml\")\n",
    "\n",
    "    AddFloatingRpyJoint(\n",
    "        plant,\n",
    "        plant.GetFrameByName(gripper_name),\n",
    "        plant.GetModelInstanceByName(\"_gripper\"),\n",
    "    )\n",
    "    plant.Finalize()\n",
    "\n",
    "    params = MeshcatVisualizerParams()\n",
    "    params.prefix = \"planning\"\n",
    "    visualizer = MeshcatVisualizer.AddToBuilder(\n",
    "        builder, scene_graph, meshcat, params\n",
    "    )\n",
    "    diagram = builder.Build()\n",
    "    context = diagram.CreateDefaultContext()\n",
    "    diagram.ForcedPublish(context)\n",
    "\n",
    "    # Hide the planning gripper\n",
    "    meshcat.SetProperty(\"planning/gripper\", \"visible\", False)\n",
    "\n",
    "    environment = BananaSystem()\n",
    "    environment_context = environment.CreateDefaultContext()\n",
    "    cloud = get_unified_point_cloud(\n",
    "        environment,\n",
    "        environment_context,\n",
    "        meshcat=meshcat\n",
    "    )\n",
    "    cloud = pointcloud_transform.multiply(cloud)\n",
    "    meshcat.SetObject(\"planning/cloud\", cloud, point_size=0.003)\n",
    "\n",
    "    plant.GetMyContextFromRoot(context)\n",
    "    scene_graph.GetMyContextFromRoot(context)\n",
    "\n",
    "    internal_model = make_internal_model()\n",
    "    internal_model_context = internal_model.CreateDefaultContext()\n",
    "    costs = []\n",
    "    X_Gs = []\n",
    "    for i in range(1000 if running_as_notebook else 2):\n",
    "        cost, X_G = GenerateAntipodalGraspCandidate(\n",
    "            internal_model, internal_model_context, cloud, rng,\n",
    "            wsg_body_index=plant.GetBodyByName(gripper_name).index(),\n",
    "        )\n",
    "        if np.isfinite(cost):\n",
    "            costs.append(cost)\n",
    "            X_Gs.append(X_G)\n",
    "\n",
    "    indices = np.asarray(costs).argsort()[:5]\n",
    "    for rank, index in enumerate(indices):\n",
    "        draw_grasp_candidate(\n",
    "            X_Gs[index], meshcat, gripper_name, prefix=f\"{rank}th best\", draw_frames=False\n",
    "        )\n",
    "\n",
    "    print(costs)\n",
    "\n",
    "sample_grasps_example(gripper_name=\"gripper\")"
   ]
  },
  {
   "cell_type": "code",
   "execution_count": null,
   "metadata": {},
   "outputs": [],
   "source": []
  }
 ],
 "metadata": {
  "kernelspec": {
   "display_name": "sponana",
   "language": "python",
   "name": "python3"
  },
  "language_info": {
   "codemirror_mode": {
    "name": "ipython",
    "version": 3
   },
   "file_extension": ".py",
   "mimetype": "text/x-python",
   "name": "python",
   "nbconvert_exporter": "python",
   "pygments_lexer": "ipython3",
   "version": "3.11.5"
  }
 },
 "nbformat": 4,
 "nbformat_minor": 2
}
