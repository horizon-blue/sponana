{
 "cells": [
  {
   "cell_type": "code",
   "execution_count": 1,
   "metadata": {},
   "outputs": [],
   "source": [
    "%load_ext autoreload\n",
    "%autoreload 2"
   ]
  },
  {
   "cell_type": "code",
   "execution_count": 2,
   "metadata": {},
   "outputs": [],
   "source": [
    "import numpy as np\n",
    "from IPython.display import clear_output\n",
    "from pydrake.all import (\n",
    "    AbstractValue,\n",
    "    AddMultibodyPlantSceneGraph,\n",
    "    Concatenate,\n",
    "    DiagramBuilder,\n",
    "    JointSliders,\n",
    "    LeafSystem,\n",
    "    MeshcatPoseSliders,\n",
    "    MeshcatVisualizer,\n",
    "    MeshcatVisualizerParams,\n",
    "    Parser,\n",
    "    PointCloud,\n",
    "    RandomGenerator,\n",
    "    Rgba,\n",
    "    RigidTransform,\n",
    "    RotationMatrix,\n",
    "    Simulator,\n",
    "    StartMeshcat,\n",
    "    UniformlyRandomRotationMatrix,\n",
    ")\n",
    "\n",
    "from manipulation import running_as_notebook\n",
    "from manipulation.scenarios import AddFloatingRpyJoint, AddRgbdSensors, ycb\n",
    "from manipulation.utils import ConfigureParser\n",
    "import sponana.utils"
   ]
  },
  {
   "cell_type": "code",
   "execution_count": 16,
   "metadata": {},
   "outputs": [],
   "source": [
    "from sponana.grasping.grasp_generator import get_unified_point_cloud, BananaSystem, ScoreSystem, GenerateAntipodalGraspCandidate"
   ]
  },
  {
   "cell_type": "code",
   "execution_count": 4,
   "metadata": {},
   "outputs": [
    {
     "name": "stderr",
     "output_type": "stream",
     "text": [
      "INFO:drake:Meshcat listening for connections at http://localhost:7006\n"
     ]
    }
   ],
   "source": [
    "# Start the visualizer.\n",
    "meshcat = StartMeshcat()"
   ]
  },
  {
   "cell_type": "code",
   "execution_count": 11,
   "metadata": {},
   "outputs": [],
   "source": [
    "def make_internal_model():\n",
    "    builder = DiagramBuilder()\n",
    "    plant, scene_graph = AddMultibodyPlantSceneGraph(builder, time_step=0.001)\n",
    "    parser = Parser(plant)\n",
    "    sponana.utils.configure_parser(parser)\n",
    "    parser.AddModelsFromUrl(\"package://sponana/grasping/banana_and_gripper.dmd.yaml\")\n",
    "    plant.Finalize()\n",
    "    return builder.Build()\n"
   ]
  },
  {
   "cell_type": "code",
   "execution_count": 15,
   "metadata": {},
   "outputs": [
    {
     "name": "stdout",
     "output_type": "stream",
     "text": [
      "cost: -14.804734118947348\n",
      "normal terms: [0.02230194 0.05648695 0.0973478  0.06090133 0.10572309 0.17236773\n",
      " 0.1877837  0.02573566]\n"
     ]
    }
   ],
   "source": [
    "def grasp_score_inspector():\n",
    "    meshcat.Delete()\n",
    "\n",
    "    # Finally, we'll build a diagram for running our visualization\n",
    "    builder = DiagramBuilder()\n",
    "    plant, scene_graph = AddMultibodyPlantSceneGraph(builder, time_step=0.001)\n",
    "    parser = Parser(plant)\n",
    "    sponana.utils.configure_parser(parser)\n",
    "    \n",
    "    parser.AddModelsFromUrl(\"package://sponana/grasping/banana_and_gripper.dmd.yaml\")\n",
    "\n",
    "    AddFloatingRpyJoint(\n",
    "        plant,\n",
    "        plant.GetFrameByName(\"body\"),\n",
    "        plant.GetModelInstanceByName(\"gripper\"),\n",
    "    )\n",
    "    plant.Finalize()\n",
    "\n",
    "    meshcat.DeleteAddedControls()\n",
    "    params = MeshcatVisualizerParams()\n",
    "    params.prefix = \"planning\"\n",
    "    visualizer = MeshcatVisualizer.AddToBuilder(\n",
    "        builder, scene_graph, meshcat, params\n",
    "    )\n",
    "\n",
    "    environment = BananaSystem()\n",
    "    environment_context = environment.CreateDefaultContext()\n",
    "\n",
    "    cloud = get_unified_point_cloud(\n",
    "        environment,\n",
    "        environment_context,\n",
    "        meshcat=meshcat\n",
    "    )\n",
    "    meshcat.SetObject(\"planning/cloud\", cloud, point_size=0.003)\n",
    "\n",
    "    internal_model = make_internal_model()\n",
    "    score = builder.AddSystem(\n",
    "        ScoreSystem(internal_model, cloud, plant.GetBodyByName(\"body\").index(), meshcat=meshcat)\n",
    "    )\n",
    "    builder.Connect(plant.get_body_poses_output_port(), score.get_input_port())\n",
    "\n",
    "    lower_limit = [-1, -1, 0, -np.pi, -np.pi / 4.0, -np.pi / 4.0]\n",
    "    upper_limit = [1, 1, 1, 0, np.pi / 4.0, np.pi / 4.0]\n",
    "    q0 = [-0.05, -0.5, 0.25, -np.pi / 2.0, 0, 0]\n",
    "    default_interactive_timeout = None if running_as_notebook else 1.0\n",
    "    sliders = builder.AddSystem(\n",
    "        JointSliders(\n",
    "            meshcat,\n",
    "            plant,\n",
    "            initial_value=q0,\n",
    "            lower_limit=lower_limit,\n",
    "            upper_limit=upper_limit,\n",
    "            decrement_keycodes=[\n",
    "                \"KeyQ\",\n",
    "                \"KeyS\",\n",
    "                \"KeyA\",\n",
    "                \"KeyJ\",\n",
    "                \"KeyK\",\n",
    "                \"KeyU\",\n",
    "            ],\n",
    "            increment_keycodes=[\n",
    "                \"KeyE\",\n",
    "                \"KeyW\",\n",
    "                \"KeyD\",\n",
    "                \"KeyL\",\n",
    "                \"KeyI\",\n",
    "                \"KeyO\",\n",
    "            ],\n",
    "        )\n",
    "    )\n",
    "    diagram = builder.Build()\n",
    "    sliders.Run(diagram, default_interactive_timeout)\n",
    "    meshcat.DeleteAddedControls()\n",
    "\n",
    "\n",
    "grasp_score_inspector()"
   ]
  },
  {
   "cell_type": "code",
   "execution_count": null,
   "metadata": {},
   "outputs": [],
   "source": []
  },
  {
   "cell_type": "markdown",
   "metadata": {},
   "source": [
    "# Generate grasps"
   ]
  },
  {
   "cell_type": "code",
   "execution_count": 17,
   "metadata": {},
   "outputs": [],
   "source": [
    "# For visualization\n",
    "def draw_grasp_candidate(X_G, meshcat, prefix=\"gripper\", draw_frames=True):\n",
    "    builder = DiagramBuilder()\n",
    "    plant, scene_graph = AddMultibodyPlantSceneGraph(builder, time_step=0.001)\n",
    "    parser = Parser(plant)\n",
    "    ConfigureParser(parser)\n",
    "    parser.AddModelsFromUrl(\n",
    "        \"package://manipulation/schunk_wsg_50_welded_fingers.sdf\"\n",
    "    )\n",
    "    plant.WeldFrames(plant.world_frame(), plant.GetFrameByName(\"body\"), X_G)\n",
    "    plant.Finalize()\n",
    "\n",
    "    # frames_to_draw = {\"gripper\": {\"body\"}} if draw_frames else {}\n",
    "    params = MeshcatVisualizerParams()\n",
    "    params.prefix = prefix\n",
    "    params.delete_prefix_on_initialization_event = False\n",
    "    visualizer = MeshcatVisualizer.AddToBuilder(\n",
    "        builder, scene_graph, meshcat, params\n",
    "    )\n",
    "    diagram = builder.Build()\n",
    "    context = diagram.CreateDefaultContext()\n",
    "    diagram.ForcedPublish(context)"
   ]
  },
  {
   "cell_type": "code",
   "execution_count": 23,
   "metadata": {},
   "outputs": [],
   "source": [
    "def sample_grasps_example():\n",
    "    meshcat.Delete()\n",
    "    rng = np.random.default_rng()\n",
    "\n",
    "    builder = DiagramBuilder()\n",
    "    plant, scene_graph = AddMultibodyPlantSceneGraph(builder, time_step=0.001)\n",
    "    parser = Parser(plant)\n",
    "    sponana.utils.configure_parser(parser)\n",
    "    \n",
    "    parser.AddModelsFromUrl(\"package://sponana/grasping/banana_and_gripper.dmd.yaml\")\n",
    "\n",
    "    AddFloatingRpyJoint(\n",
    "        plant,\n",
    "        plant.GetFrameByName(\"body\"),\n",
    "        plant.GetModelInstanceByName(\"gripper\"),\n",
    "    )\n",
    "    plant.Finalize()\n",
    "\n",
    "    params = MeshcatVisualizerParams()\n",
    "    params.prefix = \"planning\"\n",
    "    visualizer = MeshcatVisualizer.AddToBuilder(\n",
    "        builder, scene_graph, meshcat, params\n",
    "    )\n",
    "    diagram = builder.Build()\n",
    "    context = diagram.CreateDefaultContext()\n",
    "    diagram.ForcedPublish(context)\n",
    "\n",
    "    # Hide the planning gripper\n",
    "    meshcat.SetProperty(\"planning/gripper\", \"visible\", False)\n",
    "\n",
    "    environment = BananaSystem()\n",
    "    environment_context = environment.CreateDefaultContext()\n",
    "    cloud = get_unified_point_cloud(\n",
    "        environment,\n",
    "        environment_context,\n",
    "        meshcat=meshcat\n",
    "    )\n",
    "    meshcat.SetObject(\"planning/cloud\", cloud, point_size=0.003)\n",
    "\n",
    "    plant.GetMyContextFromRoot(context)\n",
    "    scene_graph.GetMyContextFromRoot(context)\n",
    "\n",
    "    internal_model = make_internal_model()\n",
    "    internal_model_context = internal_model.CreateDefaultContext()\n",
    "    costs = []\n",
    "    X_Gs = []\n",
    "    for i in range(100 if running_as_notebook else 2):\n",
    "        cost, X_G = GenerateAntipodalGraspCandidate(\n",
    "            internal_model, internal_model_context, cloud, rng\n",
    "        )\n",
    "        if np.isfinite(cost):\n",
    "            costs.append(cost)\n",
    "            X_Gs.append(X_G)\n",
    "\n",
    "    indices = np.asarray(costs).argsort()[:5]\n",
    "    for rank, index in enumerate(indices):\n",
    "        draw_grasp_candidate(\n",
    "            X_Gs[index], meshcat, prefix=f\"{rank}th best\", draw_frames=False\n",
    "        )\n",
    "\n",
    "sample_grasps_example()"
   ]
  },
  {
   "cell_type": "code",
   "execution_count": null,
   "metadata": {},
   "outputs": [],
   "source": []
  }
 ],
 "metadata": {
  "kernelspec": {
   "display_name": "sponana",
   "language": "python",
   "name": "python3"
  },
  "language_info": {
   "codemirror_mode": {
    "name": "ipython",
    "version": 3
   },
   "file_extension": ".py",
   "mimetype": "text/x-python",
   "name": "python",
   "nbconvert_exporter": "python",
   "pygments_lexer": "ipython3",
   "version": "3.11.5"
  }
 },
 "nbformat": 4,
 "nbformat_minor": 2
}
