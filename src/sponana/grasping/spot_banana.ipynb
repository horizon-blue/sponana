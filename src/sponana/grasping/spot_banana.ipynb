{
 "cells": [
  {
   "cell_type": "code",
   "execution_count": 1,
   "metadata": {},
   "outputs": [],
   "source": [
    "%load_ext autoreload\n",
    "%autoreload 2"
   ]
  },
  {
   "cell_type": "code",
   "execution_count": 2,
   "metadata": {},
   "outputs": [],
   "source": [
    "import numpy as np\n",
    "from IPython.display import clear_output\n",
    "from pydrake.all import (\n",
    "    AbstractValue,\n",
    "    AddMultibodyPlantSceneGraph,\n",
    "    Concatenate,\n",
    "    DiagramBuilder,\n",
    "    JointSliders,\n",
    "    LeafSystem,\n",
    "    MeshcatPoseSliders,\n",
    "    MeshcatVisualizer,\n",
    "    MeshcatVisualizerParams,\n",
    "    Parser,\n",
    "    PointCloud,\n",
    "    RandomGenerator,\n",
    "    Rgba,\n",
    "    RigidTransform,\n",
    "    RotationMatrix,\n",
    "    Simulator,\n",
    "    StartMeshcat,\n",
    "    UniformlyRandomRotationMatrix,\n",
    ")\n",
    "from manipulation.scenarios import AddMultibodyTriad\n",
    "\n",
    "from manipulation import running_as_notebook\n",
    "from manipulation.scenarios import AddFloatingRpyJoint, AddRgbdSensors, ycb\n",
    "from manipulation.utils import ConfigureParser\n",
    "import sponana.utils"
   ]
  },
  {
   "cell_type": "code",
   "execution_count": 3,
   "metadata": {},
   "outputs": [],
   "source": [
    "from sponana.grasping.grasp_generator import get_unified_point_cloud, BananaSystem, ScoreSystem, GenerateAntipodalGraspCandidate"
   ]
  },
  {
   "cell_type": "code",
   "execution_count": 4,
   "metadata": {},
   "outputs": [
    {
     "name": "stderr",
     "output_type": "stream",
     "text": [
      "INFO:drake:Meshcat listening for connections at http://localhost:7001\n"
     ]
    }
   ],
   "source": [
    "# Start the visualizer.\n",
    "meshcat = StartMeshcat()"
   ]
  },
  {
   "cell_type": "code",
   "execution_count": 8,
   "metadata": {},
   "outputs": [],
   "source": [
    "def make_internal_model():\n",
    "    builder = DiagramBuilder()\n",
    "    plant, scene_graph = AddMultibodyPlantSceneGraph(builder, time_step=0.001)\n",
    "    parser = Parser(plant)\n",
    "    sponana.utils.configure_parser(parser)\n",
    "    parser.AddModelsFromUrl(\"package://sponana/grasping/banana_and_spot_gripper.dmd.yaml\")\n",
    "    plant.Finalize()\n",
    "    return builder.Build()\n"
   ]
  },
  {
   "cell_type": "code",
   "execution_count": 9,
   "metadata": {},
   "outputs": [],
   "source": [
    "# For visualization\n",
    "def draw_grasp_candidate(X_G, meshcat, gripper_name, prefix=\"gripper\", draw_frames=True):\n",
    "    builder = DiagramBuilder()\n",
    "    plant, scene_graph = AddMultibodyPlantSceneGraph(builder, time_step=0.001)\n",
    "    parser = Parser(plant)\n",
    "    sponana.utils.configure_parser(parser)\n",
    "    parser.AddModelsFromUrl(\n",
    "        \"package://sponana/grasping/spot_gripper.urdf\"\n",
    "    )\n",
    "    plant.WeldFrames(plant.world_frame(), plant.GetFrameByName(gripper_name), X_G)\n",
    "    plant.Finalize()\n",
    "\n",
    "    # frames_to_draw = {\"gripper\": {\"body\"}} if draw_frames else {}\n",
    "    params = MeshcatVisualizerParams()\n",
    "    params.prefix = prefix\n",
    "    params.delete_prefix_on_initialization_event = False\n",
    "    visualizer = MeshcatVisualizer.AddToBuilder(\n",
    "        builder, scene_graph, meshcat, params\n",
    "    )\n",
    "    diagram = builder.Build()\n",
    "    context = diagram.CreateDefaultContext()\n",
    "    diagram.ForcedPublish(context)"
   ]
  },
  {
   "cell_type": "code",
   "execution_count": 135,
   "metadata": {},
   "outputs": [
    {
     "name": "stderr",
     "output_type": "stream",
     "text": [
      "WARNING:drake:Ignoring Meshcat http request for /spot_mat.png\n",
      "WARNING:drake:Ignoring Meshcat http request for /spot_mat.png\n"
     ]
    },
    {
     "name": "stdout",
     "output_type": "stream",
     "text": [
      "-0.30549159425042627\n"
     ]
    }
   ],
   "source": [
    "def sample_grasps_example(gripper_name=\"arm_link_wr1\", pointcloud_transform=RigidTransform()):\n",
    "    meshcat.Delete()\n",
    "    rng = np.random.default_rng()\n",
    "\n",
    "    builder = DiagramBuilder()\n",
    "    plant, scene_graph = AddMultibodyPlantSceneGraph(builder, time_step=0.001)\n",
    "    parser = Parser(plant)\n",
    "    sponana.utils.configure_parser(parser)\n",
    "    \n",
    "    parser.AddModelsFromUrl(\"package://sponana/grasping/banana_and_spot.dmd.yaml\")\n",
    "\n",
    "    plant.Finalize()\n",
    "\n",
    "    params = MeshcatVisualizerParams()\n",
    "    params.prefix = \"planning\"\n",
    "    visualizer = MeshcatVisualizer.AddToBuilder(\n",
    "        builder, scene_graph, meshcat, params\n",
    "    )\n",
    "    diagram = builder.Build()\n",
    "    context = diagram.CreateDefaultContext()\n",
    "    diagram.ForcedPublish(context)\n",
    "\n",
    "    # Hide the planning gripper\n",
    "    meshcat.SetProperty(\"planning/gripper\", \"visible\", False)\n",
    "\n",
    "    environment = BananaSystem()\n",
    "    environment_context = environment.CreateDefaultContext()\n",
    "    cloud = get_unified_point_cloud(\n",
    "        environment,\n",
    "        environment_context,\n",
    "        meshcat=None\n",
    "    )\n",
    "    cloud.mutable_xyzs()[:] = pointcloud_transform.multiply(cloud.xyzs())\n",
    "    meshcat.SetObject(\"planning/cloud\", cloud, point_size=0.003)\n",
    "\n",
    "    plant.GetMyContextFromRoot(context)\n",
    "    scene_graph.GetMyContextFromRoot(context)\n",
    "\n",
    "    internal_model = make_internal_model()\n",
    "    internal_model_context = internal_model.CreateDefaultContext()\n",
    "    costs = []\n",
    "    X_Gs = []\n",
    "    for i in range(1000 if running_as_notebook else 2):\n",
    "        cost, X_G = GenerateAntipodalGraspCandidate(\n",
    "            internal_model, internal_model_context, cloud, rng,\n",
    "            wsg_body_index=internal_model.GetSubsystemByName(\"plant\").GetBodyByName(gripper_name).index(),\n",
    "        )\n",
    "        if np.isfinite(cost):\n",
    "            costs.append(cost)\n",
    "            X_Gs.append(X_G)\n",
    "\n",
    "    indices = np.asarray(costs).argsort()[:1]\n",
    "    for rank, index in enumerate(indices):\n",
    "        draw_grasp_candidate(\n",
    "            X_Gs[index], meshcat, gripper_name, prefix=f\"{rank}th best\", draw_frames=False\n",
    "        )\n",
    "\n",
    "    print(max(costs))\n",
    "\n",
    "    return np.array(X_Gs)[indices], plant, context\n",
    "\n",
    "X_Gs, plant, context = sample_grasps_example(gripper_name=\"gripper\", pointcloud_transform=RigidTransform(\n",
    "    np.array([0., 0., 0.5])\n",
    "))"
   ]
  },
  {
   "cell_type": "code",
   "execution_count": 136,
   "metadata": {},
   "outputs": [
    {
     "data": {
      "text/plain": [
       "RigidTransform(\n",
       "  R=RotationMatrix([\n",
       "    [-0.9999987317275395, -0.0015926529164868282, 0.0],\n",
       "    [0.0015926529164868282, -0.9999987317275395, 0.0],\n",
       "    [0.0, 0.0, 1.0],\n",
       "  ]),\n",
       "  p=[1.0, 0.0, 0.52],\n",
       ")"
      ]
     },
     "execution_count": 136,
     "metadata": {},
     "output_type": "execute_result"
    }
   ],
   "source": [
    "pcontext = plant.GetMyContextFromRoot(context)\n",
    "idx = plant.GetBodyByName(\"body\").index()\n",
    "body_pose = plant.get_body_poses_output_port().Eval(pcontext)[idx]\n",
    "body_pose"
   ]
  },
  {
   "cell_type": "code",
   "execution_count": null,
   "metadata": {},
   "outputs": [],
   "source": []
  },
  {
   "cell_type": "code",
   "execution_count": 151,
   "metadata": {},
   "outputs": [],
   "source": [
    "INIT_SPOT_Q = np.array([ 0.7  ,  -0.15  ,  3.14,  0.  , -3.1 ,  3.1 ,  0.  ,  0.  ,  0.  ,  0.  ])"
   ]
  },
  {
   "cell_type": "code",
   "execution_count": 152,
   "metadata": {},
   "outputs": [],
   "source": [
    "from sponana.controller.inverse_kinematics import solve_ik\n",
    "from pydrake.all import RollPitchYaw\n",
    "\n",
    "X_WG = X_Gs[0]\n",
    "X_AG = RigidTransform(\n",
    "    RollPitchYaw([0, 0, 1.57]), np.array([0.0, 0.08, 0.00])\n",
    ")\n",
    "X_WA = X_WG @ X_AG\n",
    "soln = solve_ik(plant, plant.GetMyContextFromRoot(context), X_WA, fix_base=True, base_position=INIT_SPOT_Q[:3], position_bound=0.01, rotation_bound=0.01)"
   ]
  },
  {
   "cell_type": "code",
   "execution_count": 153,
   "metadata": {},
   "outputs": [
    {
     "data": {
      "text/plain": [
       "array([ 0.7       , -0.15      ,  3.14      , -0.31513548, -1.01375138,\n",
       "        2.18419623,  1.20761062, -0.16630683,  1.27158886, -1.4       ])"
      ]
     },
     "execution_count": 153,
     "metadata": {},
     "output_type": "execute_result"
    }
   ],
   "source": [
    "soln[-1] = -1.4#-np.pi/2\n",
    "soln"
   ]
  },
  {
   "cell_type": "code",
   "execution_count": 154,
   "metadata": {},
   "outputs": [
    {
     "name": "stderr",
     "output_type": "stream",
     "text": [
      "WARNING:drake:Ignoring Meshcat http request for /spot_mat.png\n"
     ]
    },
    {
     "name": "stderr",
     "output_type": "stream",
     "text": [
      "WARNING:drake:Ignoring Meshcat http request for /spot_mat.png\n",
      "WARNING:drake:Ignoring Meshcat http request for /spot_mat.png\n",
      "WARNING:drake:Ignoring Meshcat http request for /spot_mat.png\n",
      "WARNING:drake:Ignoring Meshcat http request for /spot_mat.png\n",
      "WARNING:drake:Ignoring Meshcat http request for /spot_mat.png\n",
      "WARNING:drake:Ignoring Meshcat http request for /spot_mat.png\n",
      "WARNING:drake:Ignoring Meshcat http request for /spot_mat.png\n",
      "WARNING:drake:Ignoring Meshcat http request for /spot_mat.png\n",
      "WARNING:drake:Ignoring Meshcat http request for /spot_mat.png\n",
      "WARNING:drake:Ignoring Meshcat http request for /spot_mat.png\n",
      "WARNING:drake:Ignoring Meshcat http request for /spot_mat.png\n",
      "WARNING:drake:Ignoring Meshcat http request for /spot_mat.png\n",
      "WARNING:drake:Ignoring Meshcat http request for /spot_mat.png\n",
      "WARNING:drake:Ignoring Meshcat http request for /spot_mat.png\n",
      "WARNING:drake:Ignoring Meshcat http request for /spot_mat.png\n",
      "WARNING:drake:Ignoring Meshcat http request for /spot_mat.png\n",
      "WARNING:drake:Ignoring Meshcat http request for /spot_mat.png\n",
      "WARNING:drake:Ignoring Meshcat http request for /spot_mat.png\n",
      "WARNING:drake:Ignoring Meshcat http request for /spot_mat.png\n",
      "WARNING:drake:Ignoring Meshcat http request for /spot_mat.png\n",
      "WARNING:drake:Ignoring Meshcat http request for /spot_mat.png\n",
      "WARNING:drake:Ignoring Meshcat http request for /spot_mat.png\n",
      "WARNING:drake:Ignoring Meshcat http request for /spot_mat.png\n",
      "WARNING:drake:Ignoring Meshcat http request for /spot_mat.png\n",
      "WARNING:drake:Ignoring Meshcat http request for /spot_mat.png\n",
      "WARNING:drake:Ignoring Meshcat http request for /spot_mat.png\n"
     ]
    }
   ],
   "source": [
    "meshcat.Delete()\n",
    "rng = np.random.default_rng()\n",
    "\n",
    "builder = DiagramBuilder()\n",
    "plant, scene_graph = AddMultibodyPlantSceneGraph(builder, time_step=0.001)\n",
    "parser = Parser(plant)\n",
    "sponana.utils.configure_parser(parser)\n",
    "\n",
    "parser.AddModelsFromUrl(\"package://sponana/grasping/banana_and_spot.dmd.yaml\")\n",
    "\n",
    "plant.Finalize()\n",
    "\n",
    "params = MeshcatVisualizerParams()\n",
    "params.prefix = \"planning\"\n",
    "visualizer = MeshcatVisualizer.AddToBuilder(\n",
    "    builder, scene_graph, meshcat, params\n",
    ")\n",
    "diagram = builder.Build()\n",
    "context = diagram.CreateDefaultContext()\n",
    "\n",
    "plant.SetPositions(plant.GetMyContextFromRoot(context), soln)\n",
    "diagram.ForcedPublish(context)\n",
    "\n",
    "# Hide the planning gripper\n",
    "meshcat.SetProperty(\"planning/gripper\", \"visible\", False)\n",
    "\n",
    "environment = BananaSystem()\n",
    "environment_context = environment.CreateDefaultContext()\n",
    "cloud = get_unified_point_cloud(\n",
    "    environment,\n",
    "    environment_context,\n",
    "    meshcat=None\n",
    ")\n",
    "meshcat.SetObject(\"planning/cloud\", cloud, point_size=0.003)\n",
    "\n",
    "draw_grasp_candidate(\n",
    "    X_WG, meshcat, \"gripper\", draw_frames=False\n",
    ")"
   ]
  },
  {
   "cell_type": "code",
   "execution_count": null,
   "metadata": {},
   "outputs": [],
   "source": []
  },
  {
   "cell_type": "code",
   "execution_count": null,
   "metadata": {},
   "outputs": [],
   "source": []
  },
  {
   "cell_type": "markdown",
   "metadata": {},
   "source": [
    "## Scratch below here"
   ]
  },
  {
   "cell_type": "code",
   "execution_count": null,
   "metadata": {},
   "outputs": [],
   "source": []
  },
  {
   "cell_type": "code",
   "execution_count": 28,
   "metadata": {},
   "outputs": [],
   "source": [
    "import numpy as np\n",
    "from pydrake.all import (\n",
    "    Context,\n",
    "    InverseKinematics,\n",
    "    MultibodyPlant,\n",
    "    RigidTransform,\n",
    "    RotationMatrix,\n",
    "    Solve,\n",
    "    eq,\n",
    ")\n"
   ]
  },
  {
   "cell_type": "code",
   "execution_count": null,
   "metadata": {},
   "outputs": [],
   "source": []
  },
  {
   "cell_type": "code",
   "execution_count": 30,
   "metadata": {},
   "outputs": [],
   "source": [
    "target_frame_name = \"gripper\"\n",
    "base_position = np.zeros(3)\n",
    "q_nominal_arm = np.array([0.0, -3.1, 3.1, 0.0, 0.0, 0.0, 0.0])\n",
    "X_WT = X_Gs[0]\n",
    "position_bound: float = 0.01\n",
    "rotation_bound: float = 0.01\n",
    "fix_base = False\n",
    "pcontext = plant.GetMyContextFromRoot(context)\n",
    "\n",
    "ik = InverseKinematics(plant, pcontext)\n",
    "q = ik.q()  # Get variables for MathematicalProgram\n",
    "prog = ik.prog()  # Get MathematicalProgram\n",
    "\n",
    "world_frame = plant.world_frame()\n",
    "target_frame = plant.GetFrameByName(target_frame_name)\n",
    "\n",
    "# nominal pose\n",
    "q0 = np.zeros(len(q))\n",
    "q0[:3] = base_position\n",
    "q0[3:10] = q_nominal_arm\n",
    "\n",
    "# Target position and rotation\n",
    "p_WT = X_WT.translation()\n",
    "R_WT = X_WT.rotation()"
   ]
  },
  {
   "cell_type": "code",
   "execution_count": 35,
   "metadata": {},
   "outputs": [
    {
     "ename": "AssertionError",
     "evalue": "IK failed :(",
     "output_type": "error",
     "traceback": [
      "\u001b[0;31m---------------------------------------------------------------------------\u001b[0m",
      "\u001b[0;31mAssertionError\u001b[0m                            Traceback (most recent call last)",
      "\u001b[1;32m/Users/georgematheos/Developer/classes/2023/manipulation/sponana/src/sponana/grasping/spot_banana.ipynb Cell 14\u001b[0m line \u001b[0;36m3\n\u001b[1;32m     <a href='vscode-notebook-cell:/Users/georgematheos/Developer/classes/2023/manipulation/sponana/src/sponana/grasping/spot_banana.ipynb#X16sZmlsZQ%3D%3D?line=26'>27</a>\u001b[0m prog\u001b[39m.\u001b[39mSetInitialGuess(q, q0)\n\u001b[1;32m     <a href='vscode-notebook-cell:/Users/georgematheos/Developer/classes/2023/manipulation/sponana/src/sponana/grasping/spot_banana.ipynb#X16sZmlsZQ%3D%3D?line=28'>29</a>\u001b[0m result \u001b[39m=\u001b[39m Solve(ik\u001b[39m.\u001b[39mprog())\n\u001b[0;32m---> <a href='vscode-notebook-cell:/Users/georgematheos/Developer/classes/2023/manipulation/sponana/src/sponana/grasping/spot_banana.ipynb#X16sZmlsZQ%3D%3D?line=29'>30</a>\u001b[0m \u001b[39massert\u001b[39;00m result\u001b[39m.\u001b[39mis_success(), \u001b[39m\"\u001b[39m\u001b[39mIK failed :(\u001b[39m\u001b[39m\"\u001b[39m\n\u001b[1;32m     <a href='vscode-notebook-cell:/Users/georgematheos/Developer/classes/2023/manipulation/sponana/src/sponana/grasping/spot_banana.ipynb#X16sZmlsZQ%3D%3D?line=30'>31</a>\u001b[0m \u001b[39mreturn\u001b[39;00m result\u001b[39m.\u001b[39mGetSolution(q)\n",
      "\u001b[0;31mAssertionError\u001b[0m: IK failed :("
     ]
    }
   ],
   "source": [
    "# Constraints\n",
    "ik.AddPositionConstraint(\n",
    "    frameA=world_frame,\n",
    "    frameB=target_frame,\n",
    "    p_BQ=np.zeros(3),\n",
    "    p_AQ_lower=p_WT - position_bound,\n",
    "    p_AQ_upper=p_WT + position_bound,\n",
    ")\n",
    "ik.AddOrientationConstraint(\n",
    "    frameAbar=world_frame,\n",
    "    R_AbarA=R_WT,\n",
    "    frameBbar=target_frame,\n",
    "    R_BbarB=RotationMatrix(),\n",
    "    theta_bound=rotation_bound,\n",
    ")\n",
    "# # This is currently failing for some reason\n",
    "# # collision constraint\n",
    "# ik.AddMinimumDistanceLowerBoundConstraint(\n",
    "#     collision_bound, influence_distance_offset=0.1\n",
    "# )\n",
    "\n",
    "# if fix_base:\n",
    "#     prog.AddConstraint(eq(q[:3], base_position))\n",
    "\n",
    "# Let's get started\n",
    "prog.AddQuadraticErrorCost(np.identity(len(q)), q0, q)\n",
    "prog.SetInitialGuess(q, q0)\n",
    "\n",
    "result = Solve(ik.prog())\n",
    "assert result.is_success(), \"IK failed :(\"\n",
    "return result.GetSolution(q)\n"
   ]
  },
  {
   "cell_type": "code",
   "execution_count": null,
   "metadata": {},
   "outputs": [],
   "source": []
  }
 ],
 "metadata": {
  "kernelspec": {
   "display_name": "sponana",
   "language": "python",
   "name": "python3"
  },
  "language_info": {
   "codemirror_mode": {
    "name": "ipython",
    "version": 3
   },
   "file_extension": ".py",
   "mimetype": "text/x-python",
   "name": "python",
   "nbconvert_exporter": "python",
   "pygments_lexer": "ipython3",
   "version": "3.11.5"
  }
 },
 "nbformat": 4,
 "nbformat_minor": 2
}
