{
 "cells": [
  {
   "cell_type": "code",
   "execution_count": 20,
   "metadata": {},
   "outputs": [],
   "source": [
    "from pydrake.multibody.parsing import Parser\n",
    "from pydrake.multibody.plant import AddMultibodyPlantSceneGraph\n",
    "from pydrake.perception import Concatenate\n",
    "from pydrake.systems.framework import DiagramBuilder\n",
    "\n",
    "from manipulation.scenarios import AddRgbdSensors\n",
    "from manipulation.utils import ConfigureParser\n",
    "from pydrake.all import MeshcatVisualizer\n",
    "\n",
    "import sponana.utils"
   ]
  },
  {
   "cell_type": "code",
   "execution_count": 23,
   "metadata": {},
   "outputs": [
    {
     "data": {
      "text/plain": [
       "<pydrake.systems.framework.Diagram at 0x15f8666f0>"
      ]
     },
     "execution_count": 23,
     "metadata": {},
     "output_type": "execute_result"
    }
   ],
   "source": [
    "def BananaSystem():\n",
    "    builder = DiagramBuilder()\n",
    "\n",
    "    # Create the physics engine + scene graph.\n",
    "    plant, scene_graph = AddMultibodyPlantSceneGraph(builder, time_step=0.0)\n",
    "    parser = Parser(plant)\n",
    "    sponana.utils.configure_parser(parser)\n",
    "    ConfigureParser(parser)\n",
    "    parser.AddModels(\n",
    "        \"banana.dmd.yaml\"\n",
    "    )\n",
    "    plant.Finalize()\n",
    "\n",
    "    # Add a visualizer just to help us see the object.\n",
    "    use_meshcat = False\n",
    "    if use_meshcat:\n",
    "        meshcat = builder.AddSystem(MeshcatVisualizer(scene_graph))\n",
    "        builder.Connect(\n",
    "            scene_graph.get_query_output_port(),\n",
    "            meshcat.get_geometry_query_input_port(),\n",
    "        )\n",
    "\n",
    "    AddRgbdSensors(builder, plant, scene_graph)\n",
    "\n",
    "    diagram = builder.Build()\n",
    "    diagram.set_name(\"depth_camera_demo_system\")\n",
    "    return diagram\n",
    "\n",
    "BananaSystem()"
   ]
  },
  {
   "cell_type": "code",
   "execution_count": 24,
   "metadata": {},
   "outputs": [],
   "source": [
    "from pydrake.all import Concatenate, StartMeshcat"
   ]
  },
  {
   "cell_type": "code",
   "execution_count": 25,
   "metadata": {},
   "outputs": [
    {
     "name": "stderr",
     "output_type": "stream",
     "text": [
      "INFO:drake:Meshcat listening for connections at http://localhost:7006\n"
     ]
    }
   ],
   "source": [
    "# Start the visualizer.\n",
    "meshcat = StartMeshcat()"
   ]
  },
  {
   "cell_type": "code",
   "execution_count": 26,
   "metadata": {},
   "outputs": [],
   "source": [
    "def point_cloud_processing_example():\n",
    "    system = BananaSystem()\n",
    "\n",
    "    plant = system.GetSubsystemByName(\"plant\")\n",
    "\n",
    "    # Evaluate the camera output ports to get the images.\n",
    "    context = system.CreateDefaultContext()\n",
    "    plant_context = plant.GetMyContextFromRoot(context)\n",
    "\n",
    "    meshcat.Delete()\n",
    "    meshcat.SetProperty(\"/Background\", \"visible\", False)\n",
    "\n",
    "    pcd = []\n",
    "    for i in range(3):\n",
    "        cloud = system.GetOutputPort(f\"camera{i}_point_cloud\").Eval(context)\n",
    "        meshcat.SetObject(f\"pointcloud{i}\", cloud, point_size=0.001)\n",
    "        meshcat.SetProperty(f\"pointcloud{i}\", \"visible\", False)\n",
    "\n",
    "        # Crop to region of interest.\n",
    "        pcd.append(\n",
    "            cloud.Crop(lower_xyz=[-0.3, -0.3, -0.3], upper_xyz=[0.3, 0.3, 0.3])\n",
    "        )\n",
    "        meshcat.SetObject(f\"pointcloud{i}_cropped\", pcd[i], point_size=0.001)\n",
    "        meshcat.SetProperty(f\"pointcloud{i}_cropped\", \"visible\", False)\n",
    "\n",
    "        pcd[i].EstimateNormals(radius=0.1, num_closest=30)\n",
    "\n",
    "        camera = plant.GetModelInstanceByName(f\"camera{i}\")\n",
    "        body = plant.GetBodyByName(\"base\", camera)\n",
    "        X_C = plant.EvalBodyPoseInWorld(plant_context, body)\n",
    "        pcd[i].FlipNormalsTowardPoint(X_C.translation())\n",
    "\n",
    "    # Merge point clouds.  (Note: You might need something more clever here for\n",
    "    # noisier point clouds; but this can often work!)\n",
    "    merged_pcd = Concatenate(pcd)\n",
    "    meshcat.SetObject(\"merged\", merged_pcd, point_size=0.001)\n",
    "\n",
    "    # Voxelize down-sample.  (Note that the normals still look reasonable)\n",
    "    down_sampled_pcd = merged_pcd.VoxelizedDownSample(voxel_size=0.005)\n",
    "    meshcat.SetObject(\"down_sampled\", down_sampled_pcd, point_size=0.001)\n",
    "    meshcat.SetLineSegments(\n",
    "        \"down_sampled_normals\",\n",
    "        down_sampled_pcd.xyzs(),\n",
    "        down_sampled_pcd.xyzs() + 0.01 * down_sampled_pcd.normals(),\n",
    "    )\n",
    "\n",
    "\n",
    "point_cloud_processing_example()"
   ]
  },
  {
   "cell_type": "code",
   "execution_count": null,
   "metadata": {},
   "outputs": [],
   "source": []
  }
 ],
 "metadata": {
  "kernelspec": {
   "display_name": "sponana",
   "language": "python",
   "name": "python3"
  },
  "language_info": {
   "codemirror_mode": {
    "name": "ipython",
    "version": 3
   },
   "file_extension": ".py",
   "mimetype": "text/x-python",
   "name": "python",
   "nbconvert_exporter": "python",
   "pygments_lexer": "ipython3",
   "version": "3.11.5"
  }
 },
 "nbformat": 4,
 "nbformat_minor": 2
}
