{
 "cells": [
  {
   "cell_type": "code",
   "execution_count": null,
   "metadata": {},
   "outputs": [],
   "source": [
    "import numpy as np\n",
    "from pydrake.all import (\n",
    "    RigidTransform,\n",
    "    RotationMatrix,\n",
    "    StartMeshcat,\n",
    "    RandomGenerator,\n",
    "    Diagram,\n",
    ")\n",
    "import numpy as np\n",
    "\n",
    "import sponana.utils\n",
    "from sponana.planner.rrt import SpotProblem, rrt_planning\n",
    "from sponana.planner.navigator import Navigator\n",
    "from sponana.fsm.finite_state_machine import FiniteStateMachine\n",
    "import sponana.sim"
   ]
  },
  {
   "cell_type": "code",
   "execution_count": null,
   "metadata": {},
   "outputs": [],
   "source": [
    "# Start the visualizer.\n",
    "meshcat = StartMeshcat()"
   ]
  },
  {
   "cell_type": "code",
   "execution_count": null,
   "metadata": {},
   "outputs": [],
   "source": [
    "meshcat.Delete()\n",
    "meshcat.DeleteAddedControls()\n",
    "rng = np.random.default_rng(145)  # this is for python\n",
    "generator = RandomGenerator(rng.integers(0, 1000))  # this is for c++\n",
    "\n",
    "add_spot = True\n",
    "# simulation_time = -1  # run indefinitely until ESC is pressed\n",
    "simulation_time = 10\n",
    "debug = True\n",
    "add_fixed_cameras = False\n",
    "enable_arm_ik = True  # turn this off if you find the arm too annoying\n",
    "use_teleop = False\n",
    "\n",
    "simulator, diagram = sponana.sim.clutter_gen(\n",
    "    meshcat,\n",
    "    rng,\n",
    "    debug=debug,\n",
    "    simulation_time=simulation_time,\n",
    "    add_spot=add_spot,\n",
    "    add_fixed_cameras=add_fixed_cameras,\n",
    "    enable_arm_ik=enable_arm_ik,\n",
    "    use_teleop=use_teleop,\n",
    ")"
   ]
  },
  {
   "cell_type": "code",
   "execution_count": 16,
   "metadata": {},
   "outputs": [
    {
     "ename": "SyntaxError",
     "evalue": "invalid syntax (2633313655.py, line 12)",
     "output_type": "error",
     "traceback": [
      "\u001b[0;36m  Cell \u001b[0;32mIn[16], line 12\u001b[0;36m\u001b[0m\n\u001b[0;31m    camera_poses =\u001b[0m\n\u001b[0m                   ^\u001b[0m\n\u001b[0;31mSyntaxError\u001b[0m\u001b[0;31m:\u001b[0m invalid syntax\n"
     ]
    }
   ],
   "source": [
    "initial_pose = np.array([1.00000000e00, 1.50392176e-12, 3.15001955e00])\n",
    "q_start = initial_pose\n",
    "camera_pose0 = np.array([1.00000000e00, 1.50392176e-12, 3.15001955e00])\n",
    "camera_pose1 = np.array([0.20894849, -0.47792893, 0.2475])\n",
    "camera_pose2 = np.array([0.20894849, -0.47792893, 0.2475])\n"
   ]
  },
  {
   "cell_type": "code",
   "execution_count": null,
   "metadata": {},
   "outputs": [],
   "source": [
    "def update_do_rrt(current_cam_reached, current_cam_ind, check_banana):\n",
    "        \"\"\"\n",
    "        Function to update flag to indicate to RRT/Navigator for ready for planning/movement.\n",
    "        Inputs: \n",
    "        - from context, \n",
    "        current_cam_reached: int where 0 when camera is reached and 1 when not.\n",
    "        \n",
    "        Returns: \n",
    "        - new_cam_reached: if current cam reached, switch to 0 so that navigator can plan again. \n",
    "        if current cam is not reached, stay 1 so that navigator will wait. \n",
    "        \"\"\"\n",
    "        do_rrt = 0\n",
    "        #just starting, have not reached the first camera pose, do_rrt to get to the first camera\n",
    "        if current_cam_reached == 0 and current_cam_ind == 1:\n",
    "            do_rrt = 1\n",
    "        elif current_cam_reached == 1 and check_banana == 1: \n",
    "            do_rrt = 1\n",
    "        \n",
    "        return do_rrt"
   ]
  },
  {
   "cell_type": "code",
   "execution_count": null,
   "metadata": {},
   "outputs": [],
   "source": [
    "def update_camera_ind(current_cam_reached, see_banana, has_banana, current_cam_ind):\n",
    "        \"\"\"Function for updating camera pose list index. \n",
    "        Inputs: \n",
    "        - from context: \n",
    "        current_cam_reached: int where 0 when camera is reached and 1 when not.\n",
    "        see_banana: int where 0 when banana is not seen and 1 when banana seen. \n",
    "        has_banana: int where 0 when banana is grasped nad 1 when banana is not grasped. \n",
    "\n",
    "        Returns: None\n",
    "        If current camera is reached and no banana is seen/grasped, needs to continue to search\n",
    "        next camera pose, so current_cam_ind is incremented. \n",
    "        \"\"\" \n",
    "        if current_cam_reached == 1 and see_banana == 0 and has_banana == 0:\n",
    "            if current_cam_ind <= 7:\n",
    "                current_cam_ind += 1\n",
    "            #none viewpoints have bananas, so do it all again?\n",
    "            else:\n",
    "                current_cam_ind = 0\n",
    "\n",
    "        return current_cam_ind\n"
   ]
  },
  {
   "cell_type": "code",
   "execution_count": null,
   "metadata": {},
   "outputs": [],
   "source": [
    "def get_camera_pose(current_cam_ind, camera_pose_list):\n",
    "        \"\"\"\n",
    "        Function to get the next camera pose for Spot to travel to in RRT\n",
    "        Inputs: \n",
    "        - from context: \n",
    "        current_cam_reached: int where 0 when camera is reached and 1 when not.\n",
    "        Returns: \n",
    "        - next camera pose\n",
    "        \"\"\"\n",
    "        next_camera_pose = camera_pose_list[current_cam_ind]\n",
    "        return next_camera_pose"
   ]
  },
  {
   "cell_type": "code",
   "execution_count": null,
   "metadata": {},
   "outputs": [],
   "source": [
    "def update_check_banana(current_cam_reached, see_banana, has_banana):\n",
    "        \"\"\"Function as indicater for perception module.\n",
    "        Inputs: \n",
    "        - from context: \n",
    "        current_cam_reached: int where 0 when camera is reached and 1 when not.\n",
    "        see_banana: int where 0 when banana is not seen and 1 when banana seen. \n",
    "        has_banana: int where 0 when banana is grasped nad 1 when banana is not grasped. \n",
    "\n",
    "        Returns: \n",
    "        check_banana: if current_cam is reached, and banana is not seen, and banana is not grasped, \n",
    "        return 1 to call the perception module/system. \n",
    "        \"\"\"\n",
    "        check_banana = 0\n",
    "        if current_cam_reached == 1 and see_banana == 0 and has_banana == 0:\n",
    "            check_banana = 1\n",
    "        return check_banana"
   ]
  },
  {
   "cell_type": "code",
   "execution_count": null,
   "metadata": {},
   "outputs": [],
   "source": [
    "def update_grasp_banana(current_cam_reached, see_banana, has_banana):\n",
    "        \"\"\"Function as indicater for perception module.\n",
    "        Inputs: \n",
    "        - from context: \n",
    "        current_cam_reached: int where 0 when camera is reached and 1 when not.\n",
    "        see_banana: int where 0 when banana is not seen and 1 when banana seen. \n",
    "        has_banana: int where 0 when banana is grasped nad 1 when banana is not grasped. \n",
    "\n",
    "        Returns: \n",
    "        grasp_banana: if current_cam is reached, and banana is seen, and banana is not grasped, \n",
    "        return 1 to get banana grasped system. \n",
    "        \"\"\"\n",
    "        grasp_banana = 0\n",
    "        if current_cam_reached == 1 and see_banana == 1 and has_banana == 0:\n",
    "            grasp_banana = 1\n",
    "        return grasp_banana"
   ]
  },
  {
   "cell_type": "code",
   "execution_count": null,
   "metadata": {},
   "outputs": [],
   "source": [
    "def update_completion(has_banana):\n",
    "    completed = 0\n",
    "    if has_banana == 1:\n",
    "        completed = 1\n",
    "    return completed"
   ]
  },
  {
   "cell_type": "code",
   "execution_count": null,
   "metadata": {},
   "outputs": [],
   "source": [
    "def execute_finite_state_machine():\n",
    "    while complete_flag == 0:\n",
    "        check_do_rrt = self._update_do_rrt(context)\n",
    "        self._update_camera_ind(context, state)\n",
    "        next_camera_pose = self._get_camera_pose(context)\n",
    "        check_banana = self._update_check_banana(context)\n",
    "        grasp_banana = self._update_grasp_banana(context)\n",
    "        completed = self._update_completion(context)"
   ]
  },
  {
   "cell_type": "code",
   "execution_count": null,
   "metadata": {},
   "outputs": [],
   "source": [
    "navigator = Navigator()\n",
    "spot_problem = SpotProblem(\n",
    "    q_start=q_start, q_goal=q_goal, collision_checker=navigator._collision_check\n",
    ")\n",
    "path = rrt_planning(spot_problem, 1000, 0.05)"
   ]
  },
  {
   "cell_type": "code",
   "execution_count": null,
   "metadata": {},
   "outputs": [],
   "source": [
    "# visualize RRT output\n",
    "from manipulation.meshcat_utils import AddMeshcatTriad\n",
    "\n",
    "\n",
    "def visualize_path(path):\n",
    "    for i, pose in enumerate(path):\n",
    "        pose = RigidTransform(RotationMatrix.MakeZRotation(pose[2]), [*pose[:2], 0.0])\n",
    "        opacity = 0.2\n",
    "        AddMeshcatTriad(meshcat, f\"trajectory_{i}\", X_PT=pose, opacity=opacity)\n",
    "\n",
    "\n",
    "visualize_path(path)"
   ]
  },
  {
   "cell_type": "code",
   "execution_count": null,
   "metadata": {},
   "outputs": [],
   "source": [
    "sponana.utils.visualize_diagram(diagram, 1)"
   ]
  }
 ],
 "metadata": {
  "kernelspec": {
   "display_name": "robot_drake_env",
   "language": "python",
   "name": "python3"
  },
  "language_info": {
   "codemirror_mode": {
    "name": "ipython",
    "version": 3
   },
   "file_extension": ".py",
   "mimetype": "text/x-python",
   "name": "python",
   "nbconvert_exporter": "python",
   "pygments_lexer": "ipython3",
   "version": "3.10.12"
  }
 },
 "nbformat": 4,
 "nbformat_minor": 2
}
