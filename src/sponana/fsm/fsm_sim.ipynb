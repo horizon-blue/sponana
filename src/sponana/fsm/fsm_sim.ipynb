{
 "cells": [
  {
   "cell_type": "code",
   "execution_count": 123,
   "metadata": {},
   "outputs": [],
   "source": [
    "import numpy as np\n",
    "from pydrake.all import (\n",
    "    RigidTransform,\n",
    "    RotationMatrix,\n",
    "    StartMeshcat,\n",
    "    RandomGenerator,\n",
    "    Diagram,\n",
    ")\n",
    "import numpy as np\n",
    "\n",
    "import sponana.utils\n",
    "from sponana.planner.rrt import SpotProblem, rrt_planning\n",
    "from sponana.planner.navigator import Navigator\n",
    "from sponana.fsm.finite_state_machine import FiniteStateMachine\n",
    "import sponana.sim"
   ]
  },
  {
   "cell_type": "code",
   "execution_count": 124,
   "metadata": {},
   "outputs": [
    {
     "name": "stderr",
     "output_type": "stream",
     "text": [
      "INFO:drake:Meshcat listening for connections at http://localhost:7011\n"
     ]
    }
   ],
   "source": [
    "# Start the visualizer.\n",
    "meshcat = StartMeshcat()"
   ]
  },
  {
   "cell_type": "code",
   "execution_count": 125,
   "metadata": {},
   "outputs": [
    {
     "data": {
      "text/plain": [
       "'\\nmeshcat.Delete()\\nmeshcat.DeleteAddedControls()\\nrng = np.random.default_rng(145)  # this is for python\\ngenerator = RandomGenerator(rng.integers(0, 1000))  # this is for c++\\n\\nadd_spot = True\\n# simulation_time = -1  # run indefinitely until ESC is pressed\\nsimulation_time = 2\\ndebug = True\\nadd_fixed_cameras = False\\nenable_arm_ik = True  # turn this off if you find the arm too annoying\\nuse_teleop = False\\n\\nsimulator, diagram = sponana.sim.clutter_gen(\\n    meshcat,\\n    rng,\\n    debug=debug,\\n    simulation_time=simulation_time,\\n    add_spot=add_spot,\\n    add_fixed_cameras=add_fixed_cameras,\\n    enable_arm_ik=enable_arm_ik,\\n    use_teleop=use_teleop,\\n)\\n'"
      ]
     },
     "execution_count": 125,
     "metadata": {},
     "output_type": "execute_result"
    }
   ],
   "source": [
    "\"\"\"\n",
    "meshcat.Delete()\n",
    "meshcat.DeleteAddedControls()\n",
    "rng = np.random.default_rng(145)  # this is for python\n",
    "generator = RandomGenerator(rng.integers(0, 1000))  # this is for c++\n",
    "\n",
    "add_spot = True\n",
    "# simulation_time = -1  # run indefinitely until ESC is pressed\n",
    "simulation_time = 2\n",
    "debug = True\n",
    "add_fixed_cameras = False\n",
    "enable_arm_ik = True  # turn this off if you find the arm too annoying\n",
    "use_teleop = False\n",
    "\n",
    "simulator, diagram = sponana.sim.clutter_gen(\n",
    "    meshcat,\n",
    "    rng,\n",
    "    debug=debug,\n",
    "    simulation_time=simulation_time,\n",
    "    add_spot=add_spot,\n",
    "    add_fixed_cameras=add_fixed_cameras,\n",
    "    enable_arm_ik=enable_arm_ik,\n",
    "    use_teleop=use_teleop,\n",
    ")\n",
    "\"\"\""
   ]
  },
  {
   "cell_type": "code",
   "execution_count": 126,
   "metadata": {},
   "outputs": [],
   "source": [
    "def update_do_rrt(current_cam_reached, current_cam_ind, check_banana):\n",
    "        \"\"\"\n",
    "        Function to update flag to indicate to RRT/Navigator for ready for planning/movement.\n",
    "        Inputs: \n",
    "        - from context, \n",
    "        current_cam_reached: int where 0 when camera is reached and 1 when not.\n",
    "        \n",
    "        Returns: \n",
    "        - new_cam_reached: if current cam reached, switch to 0 so that navigator can plan again. \n",
    "        if current cam is not reached, stay 1 so that navigator will wait. \n",
    "        \"\"\"\n",
    "        do_rrt = 0\n",
    "        #just starting, have not reached the first camera pose, do_rrt to get to the first camera\n",
    "        if current_cam_reached == 0 and current_cam_ind == 0:\n",
    "            print(\"first if case\")\n",
    "            do_rrt = 1\n",
    "        #have reached camera, and banana has finished being checked\n",
    "        elif current_cam_reached == 1 and check_banana == 1: \n",
    "            print(\"second if case\")\n",
    "            do_rrt = 1\n",
    "        return do_rrt"
   ]
  },
  {
   "cell_type": "code",
   "execution_count": 127,
   "metadata": {},
   "outputs": [],
   "source": [
    "def update_camera_ind(current_cam_reached, see_banana, has_banana, current_cam_ind):\n",
    "        \"\"\"Function for updating camera pose list index. \n",
    "        Inputs: \n",
    "        - from context: \n",
    "        current_cam_reached: int where 0 when camera is reached and 1 when not.\n",
    "        see_banana: int where 0 when banana is not seen and 1 when banana seen. \n",
    "        has_banana: int where 0 when banana is grasped nad 1 when banana is not grasped. \n",
    "\n",
    "        Returns: None\n",
    "        If current camera is reached and no banana is seen/grasped, needs to continue to search\n",
    "        next camera pose, so current_cam_ind is incremented. \n",
    "        \"\"\" \n",
    "        if current_cam_reached == 1 and see_banana == 0 and has_banana == 0:\n",
    "            if current_cam_ind <= 2:\n",
    "                current_cam_ind += 1\n",
    "            #none viewpoints have bananas, so do it all again?\n",
    "            else:\n",
    "                current_cam_ind = 0\n",
    "\n",
    "        return current_cam_ind\n"
   ]
  },
  {
   "cell_type": "code",
   "execution_count": 128,
   "metadata": {},
   "outputs": [],
   "source": [
    "def get_camera_pose(current_cam_ind, camera_pose_list):\n",
    "        \"\"\"\n",
    "        Function to get the next camera pose for Spot to travel to in RRT\n",
    "        Inputs: \n",
    "        - from context: \n",
    "        current_cam_reached: int where 0 when camera is reached and 1 when not.\n",
    "        Returns: \n",
    "        - next camera pose\n",
    "        \"\"\"\n",
    "        next_camera_pose = camera_pose_list[current_cam_ind]\n",
    "        return next_camera_pose"
   ]
  },
  {
   "cell_type": "code",
   "execution_count": 129,
   "metadata": {},
   "outputs": [],
   "source": [
    "def update_check_banana(current_cam_reached, see_banana, has_banana):\n",
    "        \"\"\"Function as indicater for perception module.\n",
    "        Inputs: \n",
    "        - from context: \n",
    "        current_cam_reached: int where 0 when camera is reached and 1 when not.\n",
    "        see_banana: int where 0 when banana is not seen and 1 when banana seen. \n",
    "        has_banana: int where 0 when banana is grasped nad 1 when banana is not grasped. \n",
    "\n",
    "        Returns: \n",
    "        check_banana: if current_cam is reached, and banana is not seen, and banana is not grasped, \n",
    "        return 1 to call the perception module/system. \n",
    "        \"\"\"\n",
    "        check_banana = 0\n",
    "        if current_cam_reached == 1 and see_banana == 0 and has_banana == 0:\n",
    "            check_banana = 1\n",
    "        return check_banana"
   ]
  },
  {
   "cell_type": "code",
   "execution_count": 130,
   "metadata": {},
   "outputs": [],
   "source": [
    "def update_grasp_banana(current_cam_reached, see_banana, has_banana):\n",
    "        \"\"\"Function as indicater for perception module.\n",
    "        Inputs: \n",
    "        - from context: \n",
    "        current_cam_reached: int where 0 when camera is reached and 1 when not.\n",
    "        see_banana: int where 0 when banana is not seen and 1 when banana seen. \n",
    "        has_banana: int where 0 when banana is grasped nad 1 when banana is not grasped. \n",
    "\n",
    "        Returns: \n",
    "        grasp_banana: if current_cam is reached, and banana is seen, and banana is not grasped, \n",
    "        return 1 to get banana grasped system. \n",
    "        \"\"\"\n",
    "        grasp_banana = 0\n",
    "        if current_cam_reached == 1 and see_banana == 1 and has_banana == 0:\n",
    "            grasp_banana = 1\n",
    "        return grasp_banana"
   ]
  },
  {
   "cell_type": "code",
   "execution_count": 131,
   "metadata": {},
   "outputs": [],
   "source": [
    "def update_completion(has_banana):\n",
    "    completed = 0\n",
    "    if has_banana == 1:\n",
    "        completed = 1\n",
    "    return completed"
   ]
  },
  {
   "cell_type": "code",
   "execution_count": 132,
   "metadata": {},
   "outputs": [],
   "source": [
    "def dummy_call_perception(check_banana, current_cam_ind):\n",
    "    see_banana = 0\n",
    "    if check_banana == 1:\n",
    "        if current_cam_ind == 2: #let's just pretend this is the one with banana\n",
    "            see_banana = 1\n",
    "            print(\"found banana\")\n",
    "        else:\n",
    "            print(\"banana not found\")\n",
    "    return see_banana\n",
    "    \n"
   ]
  },
  {
   "cell_type": "code",
   "execution_count": 133,
   "metadata": {},
   "outputs": [],
   "source": [
    "def dummy_call_grasp_banana(grasp_banana):\n",
    "    has_banana = 0\n",
    "    if grasp_banana == 1:\n",
    "        has_banana = 1\n",
    "    return has_banana"
   ]
  },
  {
   "cell_type": "code",
   "execution_count": 134,
   "metadata": {},
   "outputs": [],
   "source": [
    "# visualize RRT output\n",
    "from manipulation.meshcat_utils import AddMeshcatTriad\n",
    "\n",
    "\n",
    "def visualize_path(path):\n",
    "    for i, pose in enumerate(path):\n",
    "        pose = RigidTransform(RotationMatrix.MakeZRotation(pose[2]), [*pose[:2], 0.0])\n",
    "        opacity = 0.2\n",
    "        AddMeshcatTriad(meshcat, f\"trajectory_{i}\", X_PT=pose, opacity=opacity)"
   ]
  },
  {
   "cell_type": "code",
   "execution_count": 135,
   "metadata": {},
   "outputs": [],
   "source": [
    "initial_pose = np.array([1.00000000e00, 1.50392176e-12, 3.15001955e00])\n",
    "q_start = initial_pose\n",
    "\n",
    "camera_pose0 = np.array([1, -2.5, 0.2475])\n",
    "camera_pose1 = np.array([1.00000000e00, 1.50392176e-12, 3.15001955e00])\n",
    "camera_pose2 = np.array([-2, -2, 0.2475])\n",
    "camera_pose_list = [camera_pose0, camera_pose1, camera_pose2]"
   ]
  },
  {
   "cell_type": "code",
   "execution_count": 136,
   "metadata": {},
   "outputs": [],
   "source": [
    "def dummy_rrt(q_goal):\n",
    "    print(\"q_sub_goal:\", q_goal, \"rrt done\")\n",
    "    current_cam_reached = 1\n",
    "    return current_cam_reached\n"
   ]
  },
  {
   "cell_type": "code",
   "execution_count": 137,
   "metadata": {},
   "outputs": [],
   "source": [
    "def check_do_rrt_unit_test():\n",
    "    current_cam_reached = 0 \n",
    "    current_cam_ind = 0\n",
    "    check_banana = 0\n",
    "    check_do_rrt = update_do_rrt(current_cam_reached, current_cam_ind, check_banana)\n",
    "    if check_do_rrt == 1:\n",
    "        print(\"Camera not reached, ind = 0, need to do rrt, correct\")\n",
    "    current_cam_reached = 1 \n",
    "    current_cam_ind = 0\n",
    "    check_banana = 0\n"
   ]
  },
  {
   "cell_type": "code",
   "execution_count": 138,
   "metadata": {},
   "outputs": [
    {
     "data": {
      "text/plain": [
       "'navigator = Navigator()\\n\\ndef execute_finite_state_machine():\\n    current_cam_reached = 0 \\n    current_cam_ind = 0\\n    check_banana = 0\\n    see_banana = 0\\n    has_banana = 0 \\n    grasp_banana = 0\\n    completed = 0 #update_completion(has_banana)\\n    loop_count = 0\\n    \\n    while completed == 0:\\n        print(\"loop_count\", loop_count, \"_____\")\\n        check_do_rrt = update_do_rrt(current_cam_reached, current_cam_ind, check_banana)\\n        print(\"check do rrt\", check_do_rrt)\\n        if check_do_rrt == 1:\\n            #Do RRT\\n            print(\"get pose\")\\n            q_sub_goal = get_camera_pose(current_cam_ind, camera_pose_list)\\n            #spot_problem = SpotProblem(q_start=q_start, q_goal=q_sub_goal, collision_checker=navigator._collision_check)\\n            #path = rrt_planning(spot_problem, 1000, 0.05)\\n            #print(\"q_sub_goal:\", q_sub_goal, \"rrt done\")\\n            current_cam_reached = dummy_rrt(q_sub_goal)\\n        \\n        see_banana = dummy_call_perception(check_banana, current_cam_ind)\\n        print(\"see_banana\", see_banana)\\n        has_banana = dummy_call_grasp_banana(grasp_banana)\\n        print(\"has_banana\", has_banana)\\n        current_cam_ind = update_camera_ind(current_cam_reached, see_banana, has_banana, current_cam_ind)\\n        print(\"current_cam_ind\", current_cam_ind)\\n        check_banana = update_check_banana(current_cam_reached, see_banana, has_banana)\\n        print(\"check_banana\", check_banana)\\n        grasp_banana = update_grasp_banana(current_cam_reached, see_banana, has_banana)\\n        print(\"grasp_banana\",grasp_banana)\\n        completed = update_completion(has_banana)\\n        print(\"completed\", completed)\\n        current_cam_reached = 0\\n        loop_count += 1\\n'"
      ]
     },
     "execution_count": 138,
     "metadata": {},
     "output_type": "execute_result"
    }
   ],
   "source": [
    "\n",
    "\"\"\"navigator = Navigator()\n",
    "\n",
    "def execute_finite_state_machine():\n",
    "    current_cam_reached = 0 \n",
    "    current_cam_ind = 0\n",
    "    check_banana = 0\n",
    "    see_banana = 0\n",
    "    has_banana = 0 \n",
    "    grasp_banana = 0\n",
    "    completed = 0 #update_completion(has_banana)\n",
    "    loop_count = 0\n",
    "    \n",
    "    while completed == 0:\n",
    "        print(\"loop_count\", loop_count, \"_____\")\n",
    "        check_do_rrt = update_do_rrt(current_cam_reached, current_cam_ind, check_banana)\n",
    "        print(\"check do rrt\", check_do_rrt)\n",
    "        if check_do_rrt == 1:\n",
    "            #Do RRT\n",
    "            print(\"get pose\")\n",
    "            q_sub_goal = get_camera_pose(current_cam_ind, camera_pose_list)\n",
    "            #spot_problem = SpotProblem(q_start=q_start, q_goal=q_sub_goal, collision_checker=navigator._collision_check)\n",
    "            #path = rrt_planning(spot_problem, 1000, 0.05)\n",
    "            #print(\"q_sub_goal:\", q_sub_goal, \"rrt done\")\n",
    "            current_cam_reached = dummy_rrt(q_sub_goal)\n",
    "        \n",
    "        see_banana = dummy_call_perception(check_banana, current_cam_ind)\n",
    "        print(\"see_banana\", see_banana)\n",
    "        has_banana = dummy_call_grasp_banana(grasp_banana)\n",
    "        print(\"has_banana\", has_banana)\n",
    "        current_cam_ind = update_camera_ind(current_cam_reached, see_banana, has_banana, current_cam_ind)\n",
    "        print(\"current_cam_ind\", current_cam_ind)\n",
    "        check_banana = update_check_banana(current_cam_reached, see_banana, has_banana)\n",
    "        print(\"check_banana\", check_banana)\n",
    "        grasp_banana = update_grasp_banana(current_cam_reached, see_banana, has_banana)\n",
    "        print(\"grasp_banana\",grasp_banana)\n",
    "        completed = update_completion(has_banana)\n",
    "        print(\"completed\", completed)\n",
    "        current_cam_reached = 0\n",
    "        loop_count += 1\n",
    "\"\"\"\n"
   ]
  },
  {
   "cell_type": "code",
   "execution_count": 141,
   "metadata": {},
   "outputs": [],
   "source": [
    "navigator = Navigator()\n",
    "\n",
    "def execute_finite_state_machine():\n",
    "    current_cam_reached = 0 \n",
    "    current_cam_ind = 0\n",
    "    check_banana = 0\n",
    "    see_banana = 0\n",
    "    has_banana = 0 \n",
    "    grasp_banana = 0\n",
    "    completed = 0 #update_completion(has_banana)\n",
    "    loop_count = 0\n",
    "    \n",
    "    check_do_rrt = update_do_rrt(current_cam_reached, current_cam_ind, check_banana)\n",
    "    print(\"check do rrt\", check_do_rrt)\n",
    "    if check_do_rrt == 1:\n",
    "        #Do RRT\n",
    "        print(\"get pose\")\n",
    "        q_sub_goal = get_camera_pose(current_cam_ind, camera_pose_list)\n",
    "            #spot_problem = SpotProblem(q_start=q_start, q_goal=q_sub_goal, collision_checker=navigator._collision_check)\n",
    "            #path = rrt_planning(spot_problem, 1000, 0.05)\n",
    "            #print(\"q_sub_goal:\", q_sub_goal, \"rrt done\")\n",
    "        current_cam_reached = dummy_rrt(q_sub_goal)\n",
    "    check_banana = update_check_banana(current_cam_reached, see_banana, has_banana)\n",
    "    print(\"check_banana\", check_banana)\n",
    "    see_banana = dummy_call_perception(check_banana, current_cam_ind)\n",
    "    print(\"see_banana\", see_banana)\n",
    "    grasp_banana = update_grasp_banana(current_cam_reached, see_banana, has_banana)\n",
    "    print(\"grasp_banana\",grasp_banana)\n",
    "    has_banana = dummy_call_grasp_banana(grasp_banana)\n",
    "    print(\"has_banana\", has_banana)\n",
    "    current_cam_ind = update_camera_ind(current_cam_reached, see_banana, has_banana, current_cam_ind)\n",
    "    print(\"current_cam_ind\", current_cam_ind)\n",
    "    completed = update_completion(has_banana)\n",
    "    print(\"completed\", completed)\n",
    "    current_cam_reached = 0\n",
    "    loop_count += 1"
   ]
  },
  {
   "cell_type": "code",
   "execution_count": 142,
   "metadata": {},
   "outputs": [
    {
     "name": "stdout",
     "output_type": "stream",
     "text": [
      "first if case\n",
      "check do rrt 1\n",
      "get pose\n",
      "q_sub_goal: [ 1.     -2.5     0.2475] rrt done\n",
      "check_banana 1\n",
      "grasp_banana 0\n",
      "banana not found\n",
      "see_banana 0\n",
      "has_banana 0\n",
      "current_cam_ind 1\n",
      "completed 0\n"
     ]
    }
   ],
   "source": [
    "execute_finite_state_machine()"
   ]
  }
 ],
 "metadata": {
  "kernelspec": {
   "display_name": "robot_drake_env",
   "language": "python",
   "name": "python3"
  },
  "language_info": {
   "codemirror_mode": {
    "name": "ipython",
    "version": 3
   },
   "file_extension": ".py",
   "mimetype": "text/x-python",
   "name": "python",
   "nbconvert_exporter": "python",
   "pygments_lexer": "ipython3",
   "version": "3.10.12"
  }
 },
 "nbformat": 4,
 "nbformat_minor": 2
}
